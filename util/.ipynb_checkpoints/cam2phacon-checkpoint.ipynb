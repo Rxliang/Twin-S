{
 "cells": [
  {
   "cell_type": "code",
   "execution_count": 39,
   "metadata": {},
   "outputs": [
    {
     "name": "stdout",
     "output_type": "stream",
     "text": [
      "[INFO]  Data folder /home/shc/Desktop/data/0205/exp_stable already exists. Not creating.\n"
     ]
    },
    {
     "data": {
      "text/html": [
       "<div>\n",
       "<style scoped>\n",
       "    .dataframe tbody tr th:only-of-type {\n",
       "        vertical-align: middle;\n",
       "    }\n",
       "\n",
       "    .dataframe tbody tr th {\n",
       "        vertical-align: top;\n",
       "    }\n",
       "\n",
       "    .dataframe thead th {\n",
       "        text-align: right;\n",
       "    }\n",
       "</style>\n",
       "<table border=\"1\" class=\"dataframe\">\n",
       "  <thead>\n",
       "    <tr style=\"text-align: right;\">\n",
       "      <th></th>\n",
       "      <th>Topics</th>\n",
       "      <th>Types</th>\n",
       "      <th>Message Count</th>\n",
       "      <th>Frequency</th>\n",
       "    </tr>\n",
       "  </thead>\n",
       "  <tbody>\n",
       "    <tr>\n",
       "      <th>0</th>\n",
       "      <td>/fwd_limage/compressed</td>\n",
       "      <td>sensor_msgs/CompressedImage</td>\n",
       "      <td>104</td>\n",
       "      <td>29.964023</td>\n",
       "    </tr>\n",
       "    <tr>\n",
       "      <th>1</th>\n",
       "      <td>/fwd_pose_camhand</td>\n",
       "      <td>geometry_msgs/PoseStamped</td>\n",
       "      <td>104</td>\n",
       "      <td>29.998956</td>\n",
       "    </tr>\n",
       "    <tr>\n",
       "      <th>2</th>\n",
       "      <td>/fwd_pose_drill</td>\n",
       "      <td>geometry_msgs/PoseStamped</td>\n",
       "      <td>104</td>\n",
       "      <td>29.922552</td>\n",
       "    </tr>\n",
       "    <tr>\n",
       "      <th>3</th>\n",
       "      <td>/fwd_pose_pan</td>\n",
       "      <td>geometry_msgs/PoseStamped</td>\n",
       "      <td>104</td>\n",
       "      <td>29.992520</td>\n",
       "    </tr>\n",
       "    <tr>\n",
       "      <th>4</th>\n",
       "      <td>/fwd_rimage/compressed</td>\n",
       "      <td>sensor_msgs/CompressedImage</td>\n",
       "      <td>105</td>\n",
       "      <td>29.944983</td>\n",
       "    </tr>\n",
       "  </tbody>\n",
       "</table>\n",
       "</div>"
      ],
      "text/plain": [
       "                   Topics                        Types  Message Count  \\\n",
       "0  /fwd_limage/compressed  sensor_msgs/CompressedImage            104   \n",
       "1       /fwd_pose_camhand    geometry_msgs/PoseStamped            104   \n",
       "2         /fwd_pose_drill    geometry_msgs/PoseStamped            104   \n",
       "3           /fwd_pose_pan    geometry_msgs/PoseStamped            104   \n",
       "4  /fwd_rimage/compressed  sensor_msgs/CompressedImage            105   \n",
       "\n",
       "   Frequency  \n",
       "0  29.964023  \n",
       "1  29.998956  \n",
       "2  29.922552  \n",
       "3  29.992520  \n",
       "4  29.944983  "
      ]
     },
     "execution_count": 39,
     "metadata": {},
     "output_type": "execute_result"
    }
   ],
   "source": [
    "import bagpy\n",
    "import pandas as pd\n",
    "import sys\n",
    "import numpy as np\n",
    "import os\n",
    "from scipy.spatial.transform import Rotation as R\n",
    "\n",
    "conversion = 0.18\n",
    "file_path = '/home/shc/Desktop/data/0205/exp_stable.bag'\n",
    "b = bagpy.bagreader(file_path)\n",
    "b.topic_table"
   ]
  },
  {
   "cell_type": "code",
   "execution_count": 40,
   "metadata": {},
   "outputs": [],
   "source": [
    "pose_cam_data = b.message_by_topic('/fwd_pose_camhand')\n",
    "pose_pan_data = b.message_by_topic('/fwd_pose_pan')\n",
    "\n",
    "df_pan = pd.read_csv(pose_pan_data)[:8449]\n",
    "df_cam_hand = pd.read_csv(pose_cam_data)[:8449]"
   ]
  },
  {
   "cell_type": "code",
   "execution_count": 41,
   "metadata": {},
   "outputs": [],
   "source": [
    "os.chdir('/home/shc/RoboMaster/util')\n",
    "from Solver import solver\n",
    "from dataLoader import dataLoader\n",
    "sol = solver()\n",
    "ld = dataLoader()\n",
    "\n",
    "phacon2pan = np.load('/home/shc/RoboMaster/params/phacon2pan_0205.npy')\n",
    "# pan2phacon = np.load('/home/shc/RoboMaster/params/phacon2pan.npy')\n",
    "\n",
    "X = np.load(\"/home/shc/Desktop/data/0205/handeye_1/hand_eye_X.npy\")"
   ]
  },
  {
   "cell_type": "code",
   "execution_count": 42,
   "metadata": {},
   "outputs": [],
   "source": [
    "def getRealPose(idx, pd_data):\n",
    "    df = pd_data\n",
    "    pose_x = df['pose.position.x'][idx]*1000\n",
    "    pose_y = df['pose.position.y'][idx]*1000\n",
    "    pose_z = df['pose.position.z'][idx]*1000\n",
    "    orin_x = df['pose.orientation.x'][idx]\n",
    "    orin_y = df['pose.orientation.y'][idx]\n",
    "    orin_z = df['pose.orientation.z'][idx]\n",
    "    orin_w = df['pose.orientation.w'][idx]\n",
    "    pose = np.array([pose_x, pose_y, pose_z, orin_x, orin_y, orin_z, orin_w])\n",
    "    # print(real_pose, '\\n', pose)\n",
    "    return pose"
   ]
  },
  {
   "cell_type": "code",
   "execution_count": 43,
   "metadata": {},
   "outputs": [
    {
     "name": "stdout",
     "output_type": "stream",
     "text": [
      "[[-7.02328829e-01 -5.58432864e-01  4.41460022e-01  4.84668038e+01]\n",
      " [-4.84503527e-01 -7.93500790e-02 -8.71183045e-01  3.88511202e+01]\n",
      " [ 5.21527131e-01 -8.25745906e-01 -2.14832844e-01  9.79899638e+01]\n",
      " [ 0.00000000e+00  0.00000000e+00  0.00000000e+00  1.00000000e+00]]\n"
     ]
    }
   ],
   "source": [
    "num_frames = len(df_cam_hand)\n",
    "pose_pan_data = np.zeros([num_frames, 4, 4])\n",
    "pose_camhand_data = np.zeros([num_frames, 4, 4])\n",
    "for i in range(num_frames):\n",
    "    quaternion_pan = getRealPose(i, df_pan)\n",
    "    quaternion_camhand = getRealPose(i, df_cam_hand)\n",
    "    _, op2pan = sol.seven2trans(quaternion_pan)\n",
    "    _, op2camhand = sol.seven2trans(quaternion_camhand)\n",
    "    \n",
    "    pan2phacon = sol.invTransformation(phacon2pan)\n",
    "    op2phacon = op2pan@pan2phacon\n",
    "    op2cam = op2camhand@X\n",
    "     ## F_cv_ambf, cam2ambf\n",
    "    extrinsic = np.array([[0, 1, 0, 0], [0, 0, -1, 0],\n",
    "                          [-1, 0, 0, 0], [0, 0, 0, 1]])\n",
    "    # op2cam = op2cam@extrinsic\n",
    "    cam2phacon = sol.invTransformation(op2cam)@op2phacon\n",
    "print(cam2phacon)\n",
    "# r = R.from_matrix(cam2phacon[:3,:3])\n",
    "# r.as_euler('xyz', degrees=True)\n"
   ]
  },
  {
   "cell_type": "code",
   "execution_count": 44,
   "metadata": {},
   "outputs": [
    {
     "data": {
      "text/plain": [
       "array([[ 6.87197127e-01, -7.50367129e-02,  7.22585359e-01,\n",
       "         2.10200821e+02],\n",
       "       [ 1.08597177e-01,  9.94085837e-01, -4.80699771e-05,\n",
       "         1.32811111e+02],\n",
       "       [-7.18308264e-01,  7.85037639e-02,  6.91281706e-01,\n",
       "         9.36137695e+02],\n",
       "       [ 0.00000000e+00,  0.00000000e+00,  0.00000000e+00,\n",
       "         1.00000000e+00]])"
      ]
     },
     "execution_count": 44,
     "metadata": {},
     "output_type": "execute_result"
    }
   ],
   "source": [
    "op2pan"
   ]
  },
  {
   "cell_type": "code",
   "execution_count": 45,
   "metadata": {},
   "outputs": [
    {
     "data": {
      "text/plain": [
       "array([[ 3.70575564e-01, -6.35414444e-03,  9.28780586e-01,\n",
       "        -5.61059078e+01],\n",
       "       [ 2.22972990e-01, -9.70125472e-01, -9.56013298e-02,\n",
       "        -9.56255793e+01],\n",
       "       [ 9.01641169e-01,  2.42520501e-01, -3.58087992e-01,\n",
       "         3.64185446e+00],\n",
       "       [ 0.00000000e+00,  0.00000000e+00,  0.00000000e+00,\n",
       "         1.00000000e+00]])"
      ]
     },
     "execution_count": 45,
     "metadata": {},
     "output_type": "execute_result"
    }
   ],
   "source": [
    "pan2phacon"
   ]
  },
  {
   "cell_type": "code",
   "execution_count": 46,
   "metadata": {},
   "outputs": [],
   "source": [
    "ambf2phacon = sol.invTransformation(extrinsic)@cam2phacon"
   ]
  },
  {
   "cell_type": "code",
   "execution_count": 47,
   "metadata": {},
   "outputs": [
    {
     "name": "stdout",
     "output_type": "stream",
     "text": [
      "position: {x: -0.5443886879834575, y: 0.26926002105837293, z: -0.21583955673427133}\n",
      "orientation: {r: 0.09083249757534789, p: -0.5057955435037278, y: -2.2095241616712165}\n"
     ]
    }
   ],
   "source": [
    "t = ambf2phacon[:3, 3]/conversion/1000\n",
    "r = R.from_matrix(ambf2phacon[:3,:3])\n",
    "Rot = r.as_euler('xyz')\n",
    "# Rot = Rot@Rot_offset\n",
    "print('position: {{x: {0}, y: {1}, z: {2}}}'.format(t[0],t[1],t[2]))\n",
    "print('orientation: {{r: {0}, p: {1}, y: {2}}}'.format(Rot[0], Rot[1], Rot[2]))"
   ]
  },
  {
   "cell_type": "code",
   "execution_count": null,
   "metadata": {},
   "outputs": [],
   "source": []
  },
  {
   "cell_type": "code",
   "execution_count": null,
   "metadata": {},
   "outputs": [],
   "source": []
  },
  {
   "cell_type": "code",
   "execution_count": null,
   "metadata": {},
   "outputs": [],
   "source": []
  }
 ],
 "metadata": {
  "kernelspec": {
   "display_name": "Python 3 (ipykernel)",
   "language": "python",
   "name": "python3"
  },
  "language_info": {
   "codemirror_mode": {
    "name": "ipython",
    "version": 3
   },
   "file_extension": ".py",
   "mimetype": "text/x-python",
   "name": "python",
   "nbconvert_exporter": "python",
   "pygments_lexer": "ipython3",
   "version": "3.8.10"
  },
  "vscode": {
   "interpreter": {
    "hash": "916dbcbb3f70747c44a77c7bcd40155683ae19c65e1c03b4aa3499c5328201f1"
   }
  }
 },
 "nbformat": 4,
 "nbformat_minor": 2
}
