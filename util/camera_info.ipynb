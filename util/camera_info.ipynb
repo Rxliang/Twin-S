{
 "cells": [
  {
   "cell_type": "code",
   "execution_count": 1,
   "metadata": {},
   "outputs": [
    {
     "name": "stdout",
     "output_type": "stream",
     "text": [
      "Hello! This is my raw intrinsic params left: \n",
      "[[1.39943005e+03 0.00000000e+00 9.35270020e+02]\n",
      " [0.00000000e+00 1.39893994e+03 5.42310974e+02]\n",
      " [0.00000000e+00 0.00000000e+00 1.00000000e+00]]\n",
      "Hello! This is my rec intrinsic params left: \n",
      "[[1.44665466e+03 0.00000000e+00 9.36044556e+02]\n",
      " [0.00000000e+00 1.44665466e+03 5.11092041e+02]\n",
      " [0.00000000e+00 0.00000000e+00 1.00000000e+00]]\n",
      "Hello! This is my stereo trans params left: \n",
      "51B03E0\n",
      "1.000000 0.000000 0.000000 63.050861\n",
      "0.000000 1.000000 0.000000 0.000000\n",
      "0.000000 0.000000 1.000000 0.000000\n",
      "0.000000 0.000000 0.000000 1.000000\n",
      "\n",
      "Hello! This is my R params right: \n",
      "[0. 0. 0.]\n",
      "Hello! This is my T params right: \n",
      "[63.05086136  0.          0.        ]\n",
      "Hello! This is zed baseline: \n",
      "63.05086135864258\n"
     ]
    }
   ],
   "source": [
    "########################################################################\n",
    "#\n",
    "# Copyright (c) 2022, STEREOLABS.\n",
    "#\n",
    "# All rights reserved.\n",
    "#\n",
    "# THIS SOFTWARE IS PROVIDED BY THE COPYRIGHT HOLDERS AND CONTRIBUTORS\n",
    "# \"AS IS\" AND ANY EXPRESS OR IMPLIED WARRANTIES, INCLUDING, BUT NOT\n",
    "# LIMITED TO, THE IMPLIED WARRANTIES OF MERCHANTABILITY AND FITNESS FOR\n",
    "# A PARTICULAR PURPOSE ARE DISCLAIMED. IN NO EVENT SHALL THE COPYRIGHT\n",
    "# OWNER OR CONTRIBUTORS BE LIABLE FOR ANY DIRECT, INDIRECT, INCIDENTAL,\n",
    "# SPECIAL, EXEMPLARY, OR CONSEQUENTIAL DAMAGES (INCLUDING, BUT NOT\n",
    "# LIMITED TO, PROCUREMENT OF SUBSTITUTE GOODS OR SERVICES; LOSS OF USE,\n",
    "# DATA, OR PROFITS; OR BUSINESS INTERRUPTION) HOWEVER CAUSED AND ON ANY\n",
    "# THEORY OF LIABILITY, WHETHER IN CONTRACT, STRICT LIABILITY, OR TORT\n",
    "# (INCLUDING NEGLIGENCE OR OTHERWISE) ARISING IN ANY WAY OUT OF THE USE\n",
    "# OF THIS SOFTWARE, EVEN IF ADVISED OF THE POSSIBILITY OF SUCH DAMAGE.\n",
    "#\n",
    "########################################################################\n",
    "import numpy as np\n",
    "import pyzed.sl as sl\n",
    "# import pyzed.core.RESOLUTION\n",
    "\n",
    "def getIntrinsics(zed_cam_object):\n",
    "    fx = zed_cam_object.fx\n",
    "    fy = zed_cam_object.fy\n",
    "    cx = zed_cam_object.cx\n",
    "    cy = zed_cam_object.cy\n",
    "    disto = zed_cam_object.disto\n",
    "    cam_mtx = np.zeros([3,3])\n",
    "    cam_mtx[0,0] = fx\n",
    "    cam_mtx[1,1] = fy\n",
    "    cam_mtx[0,2] = cx\n",
    "    cam_mtx[1,2] = cy\n",
    "    cam_mtx[2,2] = 1\n",
    "    return cam_mtx, disto\n",
    "\n",
    "def main():\n",
    "    # Create a Camera object\n",
    "    zed = sl.Camera()\n",
    "\n",
    "    # Create a InitParameters object and set configuration parameters\n",
    "    init_params = sl.InitParameters(camera_resolution=sl.RESOLUTION.HD1080)\n",
    "    init_params.sdk_verbose = False\n",
    "\n",
    "    # Open the camera\n",
    "    err = zed.open(init_params)\n",
    "    if err != sl.ERROR_CODE.SUCCESS:\n",
    "        exit(1)\n",
    "\n",
    "    # Get camera information (ZED serial number)\n",
    "    # zed_imu = zed.get_camera_information().camera_imu_transform\n",
    "    # print('imu transform:',zed_imu.get_orientation().get(), zed_imu.get_translation().get())\n",
    "    zed_calib_left = zed.get_camera_information().calibration_parameters.left_cam\n",
    "    # zed_calib_right = zed.get_camera_information().calibration_parameters.right_cam\n",
    "    zed_calib_stereo = zed.get_camera_information().calibration_parameters.stereo_transform\n",
    "    zed_calib_R = zed.get_camera_information().calibration_parameters.R\n",
    "    zed_calib_T = zed.get_camera_information().calibration_parameters.T\n",
    "    zed_baseline = zed.get_camera_information().calibration_parameters.get_camera_baseline()\n",
    "\n",
    "    zed_calib_left_raw = zed.get_camera_information().calibration_parameters_raw.left_cam\n",
    "\n",
    "    l_cam_mtx_raw, l_disto_raw = getIntrinsics(zed_calib_left_raw)\n",
    "    l_cam_mtx, l_disto = getIntrinsics(zed_calib_left)\n",
    "    # r_cam_mtx, r_disto = getIntrinsics(zed_calib_right)\n",
    "    np.save('../params/zed_M_l_t.npy',l_cam_mtx)\n",
    "    print(\"Hello! This is my raw intrinsic params left: \\n{0}\".format(l_cam_mtx_raw))\n",
    "    print(\"Hello! This is my rec intrinsic params left: \\n{0}\".format(l_cam_mtx))\n",
    "    # print(\"Hello! This is my intrinsic params right: \\n{0}\".format(r_cam_mtx))\n",
    "    print(\"Hello! This is my stereo trans params left: \\n{0}\".format(zed_calib_stereo))\n",
    "    print(\"Hello! This is my R params right: \\n{0}\".format(zed_calib_R))\n",
    "    print(\"Hello! This is my T params right: \\n{0}\".format(zed_calib_T))\n",
    "    print(\"Hello! This is zed baseline: \\n{0}\".format(zed_baseline))\n",
    "    #np.save('imu_eye_transform.npy', zed_imu)\n",
    "\n",
    "    # Close the camera\n",
    "    zed.close()\n",
    "\n",
    "if __name__ == \"__main__\":\n",
    "    main()"
   ]
  },
  {
   "cell_type": "code",
   "execution_count": 4,
   "metadata": {},
   "outputs": [
    {
     "data": {
      "text/plain": [
       "array([[1.44665466e+03, 0.00000000e+00, 9.36044556e+02],\n",
       "       [0.00000000e+00, 1.44665466e+03, 5.11092041e+02],\n",
       "       [0.00000000e+00, 0.00000000e+00, 1.00000000e+00]])"
      ]
     },
     "execution_count": 4,
     "metadata": {},
     "output_type": "execute_result"
    }
   ],
   "source": [
    "import numpy as np\n",
    "mtx = np.load('../params/zed_M_l.npy')\n",
    "mtx"
   ]
  }
 ],
 "metadata": {
  "kernelspec": {
   "display_name": "Python 3",
   "language": "python",
   "name": "python3"
  },
  "language_info": {
   "codemirror_mode": {
    "name": "ipython",
    "version": 3
   },
   "file_extension": ".py",
   "mimetype": "text/x-python",
   "name": "python",
   "nbconvert_exporter": "python",
   "pygments_lexer": "ipython3",
   "version": "3.8.10"
  },
  "orig_nbformat": 4
 },
 "nbformat": 4,
 "nbformat_minor": 2
}
