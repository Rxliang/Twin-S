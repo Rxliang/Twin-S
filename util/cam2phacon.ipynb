{
 "cells": [
  {
   "cell_type": "code",
   "execution_count": 43,
   "metadata": {},
   "outputs": [
    {
     "name": "stdout",
     "output_type": "stream",
     "text": [
      "[INFO]  Data folder /home/shc/Desktop/data/1030/drill_exp_3 already exists. Not creating.\n"
     ]
    },
    {
     "data": {
      "text/html": [
       "<div>\n",
       "<style scoped>\n",
       "    .dataframe tbody tr th:only-of-type {\n",
       "        vertical-align: middle;\n",
       "    }\n",
       "\n",
       "    .dataframe tbody tr th {\n",
       "        vertical-align: top;\n",
       "    }\n",
       "\n",
       "    .dataframe thead th {\n",
       "        text-align: right;\n",
       "    }\n",
       "</style>\n",
       "<table border=\"1\" class=\"dataframe\">\n",
       "  <thead>\n",
       "    <tr style=\"text-align: right;\">\n",
       "      <th></th>\n",
       "      <th>Topics</th>\n",
       "      <th>Types</th>\n",
       "      <th>Message Count</th>\n",
       "      <th>Frequency</th>\n",
       "    </tr>\n",
       "  </thead>\n",
       "  <tbody>\n",
       "    <tr>\n",
       "      <th>0</th>\n",
       "      <td>/fwd_limage/compressed</td>\n",
       "      <td>sensor_msgs/CompressedImage</td>\n",
       "      <td>5886</td>\n",
       "      <td>29.901647</td>\n",
       "    </tr>\n",
       "    <tr>\n",
       "      <th>1</th>\n",
       "      <td>/fwd_pose_camhand</td>\n",
       "      <td>geometry_msgs/PoseStamped</td>\n",
       "      <td>5886</td>\n",
       "      <td>29.903565</td>\n",
       "    </tr>\n",
       "    <tr>\n",
       "      <th>2</th>\n",
       "      <td>/fwd_pose_drill</td>\n",
       "      <td>geometry_msgs/PoseStamped</td>\n",
       "      <td>5886</td>\n",
       "      <td>29.902073</td>\n",
       "    </tr>\n",
       "    <tr>\n",
       "      <th>3</th>\n",
       "      <td>/fwd_pose_pan</td>\n",
       "      <td>geometry_msgs/PoseStamped</td>\n",
       "      <td>5886</td>\n",
       "      <td>29.896532</td>\n",
       "    </tr>\n",
       "    <tr>\n",
       "      <th>4</th>\n",
       "      <td>/fwd_rimage/compressed</td>\n",
       "      <td>sensor_msgs/CompressedImage</td>\n",
       "      <td>5887</td>\n",
       "      <td>29.895146</td>\n",
       "    </tr>\n",
       "  </tbody>\n",
       "</table>\n",
       "</div>"
      ],
      "text/plain": [
       "                   Topics                        Types  Message Count  \\\n",
       "0  /fwd_limage/compressed  sensor_msgs/CompressedImage           5886   \n",
       "1       /fwd_pose_camhand    geometry_msgs/PoseStamped           5886   \n",
       "2         /fwd_pose_drill    geometry_msgs/PoseStamped           5886   \n",
       "3           /fwd_pose_pan    geometry_msgs/PoseStamped           5886   \n",
       "4  /fwd_rimage/compressed  sensor_msgs/CompressedImage           5887   \n",
       "\n",
       "   Frequency  \n",
       "0  29.901647  \n",
       "1  29.903565  \n",
       "2  29.902073  \n",
       "3  29.896532  \n",
       "4  29.895146  "
      ]
     },
     "execution_count": 43,
     "metadata": {},
     "output_type": "execute_result"
    }
   ],
   "source": [
    "import bagpy\n",
    "import pandas as pd\n",
    "import sys\n",
    "import numpy as np\n",
    "import os\n",
    "from scipy.spatial.transform import Rotation as R\n",
    "\n",
    "conversion = 0.18\n",
    "file_path = '/home/shc/Desktop/data/1030/drill_exp_3.bag'\n",
    "b = bagpy.bagreader(file_path)\n",
    "b.topic_table"
   ]
  },
  {
   "cell_type": "code",
   "execution_count": 44,
   "metadata": {},
   "outputs": [],
   "source": [
    "pose_cam_data = b.message_by_topic('/fwd_pose_camhand')\n",
    "pose_pan_data = b.message_by_topic('/fwd_pose_pan')\n",
    "\n",
    "df_pan = pd.read_csv(pose_pan_data)[:8449]\n",
    "df_cam_hand = pd.read_csv(pose_cam_data)[:8449]"
   ]
  },
  {
   "cell_type": "code",
   "execution_count": 45,
   "metadata": {},
   "outputs": [],
   "source": [
    "os.chdir('/home/shc/RoboMaster/util')\n",
    "from Solver import solver\n",
    "from dataLoader import dataLoader\n",
    "sol = solver()\n",
    "ld = dataLoader()\n",
    "\n",
    "phacon2pan = np.load('/home/shc/RoboMaster/params/phacon2pan_1028.npy')\n",
    "# pan2phacon = np.load('/home/shc/RoboMaster/params/phacon2pan.npy')\n",
    "\n",
    "X = np.load(\"/home/shc/Desktop/data/1030/handeye_good/hand_eye_X.npy\")"
   ]
  },
  {
   "cell_type": "code",
   "execution_count": 46,
   "metadata": {},
   "outputs": [],
   "source": [
    "def getRealPose(idx, pd_data):\n",
    "    df = pd_data\n",
    "    pose_x = df['pose.position.x'][idx]*1000\n",
    "    pose_y = df['pose.position.y'][idx]*1000\n",
    "    pose_z = df['pose.position.z'][idx]*1000\n",
    "    orin_x = df['pose.orientation.x'][idx]\n",
    "    orin_y = df['pose.orientation.y'][idx]\n",
    "    orin_z = df['pose.orientation.z'][idx]\n",
    "    orin_w = df['pose.orientation.w'][idx]\n",
    "    pose = np.array([pose_x, pose_y, pose_z, orin_x, orin_y, orin_z, orin_w])\n",
    "    # print(real_pose, '\\n', pose)\n",
    "    return pose"
   ]
  },
  {
   "cell_type": "code",
   "execution_count": 47,
   "metadata": {},
   "outputs": [
    {
     "name": "stdout",
     "output_type": "stream",
     "text": [
      "[[  0.83892      0.14436571   0.52475879   5.48181556]\n",
      " [ -0.4179353   -0.44674004   0.79104578  -2.29320368]\n",
      " [  0.34863065  -0.88293934  -0.31444362 142.70541997]\n",
      " [  0.           0.           0.           1.        ]]\n"
     ]
    }
   ],
   "source": [
    "num_frames = len(df_cam_hand)\n",
    "pose_pan_data = np.zeros([num_frames, 4, 4])\n",
    "pose_camhand_data = np.zeros([num_frames, 4, 4])\n",
    "for i in range(num_frames):\n",
    "    quaternion_pan = getRealPose(i, df_pan)\n",
    "    quaternion_camhand = getRealPose(i, df_cam_hand)\n",
    "    _, op2pan = sol.seven2trans(quaternion_pan)\n",
    "    _, op2camhand = sol.seven2trans(quaternion_camhand)\n",
    "    \n",
    "    pan2phacon = sol.invTransformation(phacon2pan)\n",
    "    op2phacon = op2pan@pan2phacon\n",
    "    op2cam = op2camhand@X\n",
    "     ## F_cv_ambf, cam2ambf\n",
    "    extrinsic = np.array([[0, 1, 0, 0], [0, 0, -1, 0],\n",
    "                          [-1, 0, 0, 0], [0, 0, 0, 1]])\n",
    "    # op2cam = op2cam@extrinsic\n",
    "    cam2phacon = sol.invTransformation(op2cam)@op2phacon\n",
    "print(cam2phacon)\n",
    "# r = R.from_matrix(cam2phacon[:3,:3])\n",
    "# r.as_euler('xyz', degrees=True)\n"
   ]
  },
  {
   "cell_type": "code",
   "execution_count": 48,
   "metadata": {},
   "outputs": [],
   "source": [
    "ambf2phacon = sol.invTransformation(extrinsic)@cam2phacon"
   ]
  },
  {
   "cell_type": "code",
   "execution_count": 49,
   "metadata": {},
   "outputs": [
    {
     "name": "stdout",
     "output_type": "stream",
     "text": [
      "position: {x: -0.7928078887099471, y: 0.030454530873993867, z: 0.012740020446863001}\n",
      "orientation: {r: 2.627498577341158, p: -0.4311714218293079, y: 1.9646533206271166}\n"
     ]
    }
   ],
   "source": [
    "t = ambf2phacon[:3, 3]/conversion/1000\n",
    "r = R.from_matrix(ambf2phacon[:3,:3])\n",
    "Rot = r.as_euler('xyz')\n",
    "# Rot = Rot@Rot_offset\n",
    "print('position: {{x: {0}, y: {1}, z: {2}}}'.format(t[0],t[1],t[2]))\n",
    "print('orientation: {{r: {0}, p: {1}, y: {2}}}'.format(Rot[0], Rot[1], Rot[2]))"
   ]
  }
 ],
 "metadata": {
  "kernelspec": {
   "display_name": "Python 3.8.10 64-bit",
   "language": "python",
   "name": "python3"
  },
  "language_info": {
   "codemirror_mode": {
    "name": "ipython",
    "version": 3
   },
   "file_extension": ".py",
   "mimetype": "text/x-python",
   "name": "python",
   "nbconvert_exporter": "python",
   "pygments_lexer": "ipython3",
   "version": "3.8.10"
  },
  "orig_nbformat": 4,
  "vscode": {
   "interpreter": {
    "hash": "e7370f93d1d0cde622a1f8e1c04877d8463912d04d973331ad4851f04de6915a"
   }
  }
 },
 "nbformat": 4,
 "nbformat_minor": 2
}
