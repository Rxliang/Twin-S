{
 "cells": [
  {
   "cell_type": "code",
   "execution_count": 6,
   "metadata": {},
   "outputs": [
    {
     "name": "stdout",
     "output_type": "stream",
     "text": [
      "[INFO]  Successfully created the data folder /home/shc/Desktop/data/0227/phacon_stable.\n"
     ]
    },
    {
     "data": {
      "text/html": [
       "<div>\n",
       "<style scoped>\n",
       "    .dataframe tbody tr th:only-of-type {\n",
       "        vertical-align: middle;\n",
       "    }\n",
       "\n",
       "    .dataframe tbody tr th {\n",
       "        vertical-align: top;\n",
       "    }\n",
       "\n",
       "    .dataframe thead th {\n",
       "        text-align: right;\n",
       "    }\n",
       "</style>\n",
       "<table border=\"1\" class=\"dataframe\">\n",
       "  <thead>\n",
       "    <tr style=\"text-align: right;\">\n",
       "      <th></th>\n",
       "      <th>Topics</th>\n",
       "      <th>Types</th>\n",
       "      <th>Message Count</th>\n",
       "      <th>Frequency</th>\n",
       "    </tr>\n",
       "  </thead>\n",
       "  <tbody>\n",
       "    <tr>\n",
       "      <th>0</th>\n",
       "      <td>/fwd_pose_camhand</td>\n",
       "      <td>geometry_msgs/PoseStamped</td>\n",
       "      <td>122</td>\n",
       "      <td>29.827859</td>\n",
       "    </tr>\n",
       "    <tr>\n",
       "      <th>1</th>\n",
       "      <td>/fwd_pose_pan</td>\n",
       "      <td>geometry_msgs/PoseStamped</td>\n",
       "      <td>122</td>\n",
       "      <td>29.860349</td>\n",
       "    </tr>\n",
       "  </tbody>\n",
       "</table>\n",
       "</div>"
      ],
      "text/plain": [
       "              Topics                      Types  Message Count  Frequency\n",
       "0  /fwd_pose_camhand  geometry_msgs/PoseStamped            122  29.827859\n",
       "1      /fwd_pose_pan  geometry_msgs/PoseStamped            122  29.860349"
      ]
     },
     "execution_count": 6,
     "metadata": {},
     "output_type": "execute_result"
    }
   ],
   "source": [
    "import bagpy\n",
    "import pandas as pd\n",
    "import sys\n",
    "import numpy as np\n",
    "import os\n",
    "from scipy.spatial.transform import Rotation as R\n",
    "\n",
    "conversion = 0.18\n",
    "file_path = '/home/shc/Desktop/data/0227/phacon_stable.bag'\n",
    "b = bagpy.bagreader(file_path)\n",
    "b.topic_table"
   ]
  },
  {
   "cell_type": "code",
   "execution_count": 7,
   "metadata": {},
   "outputs": [],
   "source": [
    "pose_cam_data = b.message_by_topic('/fwd_pose_camhand')\n",
    "pose_pan_data = b.message_by_topic('/fwd_pose_pan')\n",
    "\n",
    "df_pan = pd.read_csv(pose_pan_data)[:499]\n",
    "df_cam_hand = pd.read_csv(pose_cam_data)[:499]"
   ]
  },
  {
   "cell_type": "code",
   "execution_count": 8,
   "metadata": {},
   "outputs": [
    {
     "name": "stdout",
     "output_type": "stream",
     "text": [
      "Jupyter environment detected. Enabling Open3D WebVisualizer.\n",
      "[Open3D INFO] WebRTC GUI backend enabled.\n",
      "[Open3D INFO] WebRTCWindowSystem: HTTP handshake server disabled.\n"
     ]
    }
   ],
   "source": [
    "os.chdir('/home/shc/Twin-S/util')\n",
    "from Solver import solver\n",
    "from dataLoader import dataLoader\n",
    "sol = solver()\n",
    "ld = dataLoader()\n",
    "\n",
    "phacon2pan = np.load('/home/shc/Twin-S/params/phacon2pan_0227.npy')\n",
    "\n",
    "X = np.load(\"/home/shc/Desktop/data/0220/handeye_1/hand_eye_X.npy\")"
   ]
  },
  {
   "cell_type": "code",
   "execution_count": 9,
   "metadata": {},
   "outputs": [],
   "source": [
    "def getRealPose(idx, pd_data):\n",
    "    df = pd_data\n",
    "    pose_x = df['pose.position.x'][idx]*1000\n",
    "    pose_y = df['pose.position.y'][idx]*1000\n",
    "    pose_z = df['pose.position.z'][idx]*1000\n",
    "    orin_x = df['pose.orientation.x'][idx]\n",
    "    orin_y = df['pose.orientation.y'][idx]\n",
    "    orin_z = df['pose.orientation.z'][idx]\n",
    "    orin_w = df['pose.orientation.w'][idx]\n",
    "    pose = np.array([pose_x, pose_y, pose_z, orin_x, orin_y, orin_z, orin_w])\n",
    "    # print(real_pose, '\\n', pose)\n",
    "    return pose"
   ]
  },
  {
   "cell_type": "code",
   "execution_count": 10,
   "metadata": {},
   "outputs": [
    {
     "name": "stdout",
     "output_type": "stream",
     "text": [
      "[[ 3.31579820e-01 -1.26244232e-01  9.34942360e-01  8.91062260e+00]\n",
      " [-7.35223071e-01 -6.55579920e-01  1.72226606e-01 -1.26785632e+01]\n",
      " [ 5.91186823e-01 -7.44498060e-01 -3.10194743e-01  1.62528537e+02]\n",
      " [ 0.00000000e+00  0.00000000e+00  0.00000000e+00  1.00000000e+00]]\n"
     ]
    }
   ],
   "source": [
    "num_frames = len(df_cam_hand)\n",
    "pose_pan_data = np.zeros([num_frames, 4, 4])\n",
    "pose_camhand_data = np.zeros([num_frames, 4, 4])\n",
    "for i in range(num_frames):\n",
    "    quaternion_pan = getRealPose(i, df_pan)\n",
    "    quaternion_camhand = getRealPose(i, df_cam_hand)\n",
    "    _, op2pan = sol.seven2trans(quaternion_pan)\n",
    "    _, op2camhand = sol.seven2trans(quaternion_camhand)\n",
    "    \n",
    "    pan2phacon = sol.invTransformation(phacon2pan)\n",
    "    op2phacon = op2pan@pan2phacon\n",
    "    op2cam = op2camhand@X\n",
    "     ## F_cv_ambf, cam2ambf\n",
    "    extrinsic = np.array([[0, 1, 0, 0], [0, 0, -1, 0],\n",
    "                          [-1, 0, 0, 0], [0, 0, 0, 1]])\n",
    "    # op2cam = op2cam@extrinsic\n",
    "    cam2phacon = sol.invTransformation(op2cam)@op2phacon\n",
    "print(cam2phacon)\n",
    "# r = R.from_matrix(cam2phacon[:3,:3])\n",
    "# r.as_euler('xyz', degrees=True)\n"
   ]
  },
  {
   "cell_type": "code",
   "execution_count": 11,
   "metadata": {},
   "outputs": [],
   "source": [
    "# op2pan"
   ]
  },
  {
   "cell_type": "code",
   "execution_count": 12,
   "metadata": {},
   "outputs": [],
   "source": [
    "# pan2phacon"
   ]
  },
  {
   "cell_type": "code",
   "execution_count": 13,
   "metadata": {},
   "outputs": [],
   "source": [
    "# ambf2phacon = sol.invTransformation(extrinsic)@cam2phacon"
   ]
  },
  {
   "cell_type": "code",
   "execution_count": 14,
   "metadata": {},
   "outputs": [],
   "source": [
    "# t = ambf2phacon[:3, 3]/conversion/1000\n",
    "# r = R.from_matrix(ambf2phacon[:3,:3])\n",
    "# Rot = r.as_euler('xyz')\n",
    "# # Rot = Rot@Rot_offset\n",
    "# print('position: {{x: {0}, y: {1}, z: {2}}}'.format(t[0],t[1],t[2]))\n",
    "# print('orientation: {{r: {0}, p: {1}, y: {2}}}'.format(Rot[0], Rot[1], Rot[2]))"
   ]
  },
  {
   "attachments": {},
   "cell_type": "markdown",
   "metadata": {},
   "source": [
    "Fix the phacon to the AMBF origin"
   ]
  },
  {
   "cell_type": "code",
   "execution_count": 15,
   "metadata": {},
   "outputs": [
    {
     "data": {
      "text/plain": [
       "array([[ 8.64982409e-01,  3.09065129e-01, -3.95327938e-01,\n",
       "         2.38287544e+02],\n",
       "       [ 2.47677159e-01, -9.48119261e-01, -1.99313554e-01,\n",
       "         2.60188342e+02],\n",
       "       [-4.36418901e-01,  7.44890178e-02, -8.96654855e-01,\n",
       "         1.01701033e+03],\n",
       "       [ 0.00000000e+00,  0.00000000e+00,  0.00000000e+00,\n",
       "         1.00000000e+00]])"
      ]
     },
     "execution_count": 15,
     "metadata": {},
     "output_type": "execute_result"
    }
   ],
   "source": [
    "phacon2op = sol.invTransformation(op2pan@pan2phacon)\n",
    "phacon2op"
   ]
  }
 ],
 "metadata": {
  "kernelspec": {
   "display_name": "Python 3",
   "language": "python",
   "name": "python3"
  },
  "language_info": {
   "codemirror_mode": {
    "name": "ipython",
    "version": 3
   },
   "file_extension": ".py",
   "mimetype": "text/x-python",
   "name": "python",
   "nbconvert_exporter": "python",
   "pygments_lexer": "ipython3",
   "version": "3.8.10"
  },
  "orig_nbformat": 4,
  "vscode": {
   "interpreter": {
    "hash": "e7370f93d1d0cde622a1f8e1c04877d8463912d04d973331ad4851f04de6915a"
   }
  }
 },
 "nbformat": 4,
 "nbformat_minor": 2
}
