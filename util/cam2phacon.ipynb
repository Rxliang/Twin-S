{
 "cells": [
  {
   "cell_type": "code",
   "execution_count": 1,
   "metadata": {},
   "outputs": [
    {
     "name": "stdout",
     "output_type": "stream",
     "text": [
      "[INFO]  Data folder /home/shc/Desktop/data/0220/phacon_pose already exists. Not creating.\n"
     ]
    },
    {
     "data": {
      "text/html": [
       "<div>\n",
       "<style scoped>\n",
       "    .dataframe tbody tr th:only-of-type {\n",
       "        vertical-align: middle;\n",
       "    }\n",
       "\n",
       "    .dataframe tbody tr th {\n",
       "        vertical-align: top;\n",
       "    }\n",
       "\n",
       "    .dataframe thead th {\n",
       "        text-align: right;\n",
       "    }\n",
       "</style>\n",
       "<table border=\"1\" class=\"dataframe\">\n",
       "  <thead>\n",
       "    <tr style=\"text-align: right;\">\n",
       "      <th></th>\n",
       "      <th>Topics</th>\n",
       "      <th>Types</th>\n",
       "      <th>Message Count</th>\n",
       "      <th>Frequency</th>\n",
       "    </tr>\n",
       "  </thead>\n",
       "  <tbody>\n",
       "    <tr>\n",
       "      <th>0</th>\n",
       "      <td>/fwd_limage/compressed</td>\n",
       "      <td>sensor_msgs/CompressedImage</td>\n",
       "      <td>39</td>\n",
       "      <td>30.095388</td>\n",
       "    </tr>\n",
       "    <tr>\n",
       "      <th>1</th>\n",
       "      <td>/fwd_pose_camhand</td>\n",
       "      <td>geometry_msgs/PoseStamped</td>\n",
       "      <td>39</td>\n",
       "      <td>30.031175</td>\n",
       "    </tr>\n",
       "    <tr>\n",
       "      <th>2</th>\n",
       "      <td>/fwd_pose_pan</td>\n",
       "      <td>geometry_msgs/PoseStamped</td>\n",
       "      <td>40</td>\n",
       "      <td>29.713330</td>\n",
       "    </tr>\n",
       "    <tr>\n",
       "      <th>3</th>\n",
       "      <td>/fwd_rimage/compressed</td>\n",
       "      <td>sensor_msgs/CompressedImage</td>\n",
       "      <td>39</td>\n",
       "      <td>30.071761</td>\n",
       "    </tr>\n",
       "  </tbody>\n",
       "</table>\n",
       "</div>"
      ],
      "text/plain": [
       "                   Topics                        Types  Message Count  \\\n",
       "0  /fwd_limage/compressed  sensor_msgs/CompressedImage             39   \n",
       "1       /fwd_pose_camhand    geometry_msgs/PoseStamped             39   \n",
       "2           /fwd_pose_pan    geometry_msgs/PoseStamped             40   \n",
       "3  /fwd_rimage/compressed  sensor_msgs/CompressedImage             39   \n",
       "\n",
       "   Frequency  \n",
       "0  30.095388  \n",
       "1  30.031175  \n",
       "2  29.713330  \n",
       "3  30.071761  "
      ]
     },
     "execution_count": 1,
     "metadata": {},
     "output_type": "execute_result"
    }
   ],
   "source": [
    "import bagpy\n",
    "import pandas as pd\n",
    "import sys\n",
    "import numpy as np\n",
    "import os\n",
    "from scipy.spatial.transform import Rotation as R\n",
    "\n",
    "conversion = 0.18\n",
    "file_path = '/home/shc/Desktop/data/0220/phacon_pose.bag'\n",
    "b = bagpy.bagreader(file_path)\n",
    "b.topic_table"
   ]
  },
  {
   "cell_type": "code",
   "execution_count": 2,
   "metadata": {},
   "outputs": [],
   "source": [
    "pose_cam_data = b.message_by_topic('/fwd_pose_camhand')\n",
    "pose_pan_data = b.message_by_topic('/fwd_pose_pan')\n",
    "\n",
    "df_pan = pd.read_csv(pose_pan_data)[:8449]\n",
    "df_cam_hand = pd.read_csv(pose_cam_data)[:8449]"
   ]
  },
  {
   "cell_type": "code",
   "execution_count": 3,
   "metadata": {},
   "outputs": [
    {
     "name": "stdout",
     "output_type": "stream",
     "text": [
      "Jupyter environment detected. Enabling Open3D WebVisualizer.\n",
      "[Open3D INFO] WebRTC GUI backend enabled.\n",
      "[Open3D INFO] WebRTCWindowSystem: HTTP handshake server disabled.\n"
     ]
    }
   ],
   "source": [
    "os.chdir('/home/shc/RoboMaster/util')\n",
    "from Solver import solver\n",
    "from dataLoader import dataLoader\n",
    "sol = solver()\n",
    "ld = dataLoader()\n",
    "\n",
    "phacon2pan = np.load('/home/shc/RoboMaster/params/phacon2pan_1028.npy')\n",
    "# pan2phacon = np.load('/home/shc/RoboMaster/params/phacon2pan.npy')\n",
    "\n",
    "X = np.load(\"/home/shc/Desktop/data/0205/handeye_1/hand_eye_X.npy\")"
   ]
  },
  {
   "cell_type": "code",
   "execution_count": 4,
   "metadata": {},
   "outputs": [],
   "source": [
    "def getRealPose(idx, pd_data):\n",
    "    df = pd_data\n",
    "    pose_x = df['pose.position.x'][idx]*1000\n",
    "    pose_y = df['pose.position.y'][idx]*1000\n",
    "    pose_z = df['pose.position.z'][idx]*1000\n",
    "    orin_x = df['pose.orientation.x'][idx]\n",
    "    orin_y = df['pose.orientation.y'][idx]\n",
    "    orin_z = df['pose.orientation.z'][idx]\n",
    "    orin_w = df['pose.orientation.w'][idx]\n",
    "    pose = np.array([pose_x, pose_y, pose_z, orin_x, orin_y, orin_z, orin_w])\n",
    "    # print(real_pose, '\\n', pose)\n",
    "    return pose"
   ]
  },
  {
   "cell_type": "code",
   "execution_count": 5,
   "metadata": {},
   "outputs": [
    {
     "name": "stdout",
     "output_type": "stream",
     "text": [
      "[[-1.56847866e-01  2.11025709e-02  9.87397300e-01 -1.98847206e+01]\n",
      " [-1.39823488e-01 -9.90175889e-01 -1.04897874e-03  7.39939098e+01]\n",
      " [ 9.77674864e-01 -1.38225864e-01  1.58257610e-01  1.15987407e+02]\n",
      " [ 0.00000000e+00  0.00000000e+00  0.00000000e+00  1.00000000e+00]]\n"
     ]
    }
   ],
   "source": [
    "num_frames = len(df_cam_hand)\n",
    "pose_pan_data = np.zeros([num_frames, 4, 4])\n",
    "pose_camhand_data = np.zeros([num_frames, 4, 4])\n",
    "for i in range(num_frames):\n",
    "    quaternion_pan = getRealPose(i, df_pan)\n",
    "    quaternion_camhand = getRealPose(i, df_cam_hand)\n",
    "    _, op2pan = sol.seven2trans(quaternion_pan)\n",
    "    _, op2camhand = sol.seven2trans(quaternion_camhand)\n",
    "    \n",
    "    pan2phacon = sol.invTransformation(phacon2pan)\n",
    "    op2phacon = op2pan@pan2phacon\n",
    "    op2cam = op2camhand@X\n",
    "     ## F_cv_ambf, cam2ambf\n",
    "    extrinsic = np.array([[0, 1, 0, 0], [0, 0, -1, 0],\n",
    "                          [-1, 0, 0, 0], [0, 0, 0, 1]])\n",
    "    # op2cam = op2cam@extrinsic\n",
    "    cam2phacon = sol.invTransformation(op2cam)@op2phacon\n",
    "print(cam2phacon)\n",
    "# r = R.from_matrix(cam2phacon[:3,:3])\n",
    "# r.as_euler('xyz', degrees=True)\n"
   ]
  },
  {
   "cell_type": "code",
   "execution_count": 6,
   "metadata": {},
   "outputs": [
    {
     "data": {
      "text/plain": [
       "array([[ 8.94721690e-01, -7.34614660e-02,  4.40541156e-01,\n",
       "         6.96227264e+01],\n",
       "       [ 5.54019471e-02,  9.97017073e-01,  5.37362101e-02,\n",
       "         1.44012131e+02],\n",
       "       [-4.43174594e-01, -2.36721149e-02,  8.96122709e-01,\n",
       "         1.03624622e+03],\n",
       "       [ 0.00000000e+00,  0.00000000e+00,  0.00000000e+00,\n",
       "         1.00000000e+00]])"
      ]
     },
     "execution_count": 6,
     "metadata": {},
     "output_type": "execute_result"
    }
   ],
   "source": [
    "op2pan"
   ]
  },
  {
   "cell_type": "code",
   "execution_count": 7,
   "metadata": {},
   "outputs": [
    {
     "data": {
      "text/plain": [
       "array([[ 3.70575564e-01, -6.35414444e-03,  9.28780586e-01,\n",
       "        -5.61059078e+01],\n",
       "       [ 2.22972990e-01, -9.70125472e-01, -9.56013298e-02,\n",
       "        -9.56255793e+01],\n",
       "       [ 9.01641169e-01,  2.42520501e-01, -3.58087992e-01,\n",
       "         3.64185446e+00],\n",
       "       [ 0.00000000e+00,  0.00000000e+00,  0.00000000e+00,\n",
       "         1.00000000e+00]])"
      ]
     },
     "execution_count": 7,
     "metadata": {},
     "output_type": "execute_result"
    }
   ],
   "source": [
    "pan2phacon"
   ]
  },
  {
   "cell_type": "code",
   "execution_count": 8,
   "metadata": {},
   "outputs": [],
   "source": [
    "ambf2phacon = sol.invTransformation(extrinsic)@cam2phacon"
   ]
  },
  {
   "cell_type": "code",
   "execution_count": 9,
   "metadata": {},
   "outputs": [
    {
     "name": "stdout",
     "output_type": "stream",
     "text": [
      "position: {x: -0.6443744848333767, y: -0.11047066982653998, z: -0.41107727643651104}\n",
      "orientation: {r: 1.5697369409205635, p: -0.14028314890895355, y: -2.9825186636935506}\n"
     ]
    }
   ],
   "source": [
    "t = ambf2phacon[:3, 3]/conversion/1000\n",
    "r = R.from_matrix(ambf2phacon[:3,:3])\n",
    "Rot = r.as_euler('xyz')\n",
    "# Rot = Rot@Rot_offset\n",
    "print('position: {{x: {0}, y: {1}, z: {2}}}'.format(t[0],t[1],t[2]))\n",
    "print('orientation: {{r: {0}, p: {1}, y: {2}}}'.format(Rot[0], Rot[1], Rot[2]))"
   ]
  },
  {
   "attachments": {},
   "cell_type": "markdown",
   "metadata": {},
   "source": [
    "Fix the phacon to the AMBF origin"
   ]
  },
  {
   "cell_type": "code",
   "execution_count": 10,
   "metadata": {},
   "outputs": [
    {
     "data": {
      "text/plain": [
       "array([[ 7.12392115e-01,  2.91289265e-01,  6.38473209e-01,\n",
       "        -7.14333562e+02],\n",
       "       [ 1.72421910e-01, -9.54551558e-01,  2.43109046e-01,\n",
       "        -2.20466848e+02],\n",
       "       [ 6.80270652e-01, -6.31021967e-02, -7.30239655e-01,\n",
       "         7.62705513e+02],\n",
       "       [ 0.00000000e+00,  0.00000000e+00,  0.00000000e+00,\n",
       "         1.00000000e+00]])"
      ]
     },
     "execution_count": 10,
     "metadata": {},
     "output_type": "execute_result"
    }
   ],
   "source": [
    "phacon2op = sol.invTransformation(op2pan@pan2phacon)\n",
    "phacon2op"
   ]
  },
  {
   "cell_type": "code",
   "execution_count": null,
   "metadata": {},
   "outputs": [],
   "source": []
  }
 ],
 "metadata": {
  "kernelspec": {
   "display_name": "Python 3",
   "language": "python",
   "name": "python3"
  },
  "language_info": {
   "codemirror_mode": {
    "name": "ipython",
    "version": 3
   },
   "file_extension": ".py",
   "mimetype": "text/x-python",
   "name": "python",
   "nbconvert_exporter": "python",
   "pygments_lexer": "ipython3",
   "version": "3.8.10"
  },
  "orig_nbformat": 4,
  "vscode": {
   "interpreter": {
    "hash": "e7370f93d1d0cde622a1f8e1c04877d8463912d04d973331ad4851f04de6915a"
   }
  }
 },
 "nbformat": 4,
 "nbformat_minor": 2
}
