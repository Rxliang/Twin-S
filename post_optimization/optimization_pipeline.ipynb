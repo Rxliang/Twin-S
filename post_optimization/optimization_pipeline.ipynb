{
  "cells": [
    {
      "cell_type": "markdown",
      "metadata": {
        "id": "nAQY4EnHmFoX"
      },
      "source": [
        "## 0. Install and Import Modules"
      ]
    },
    {
      "cell_type": "markdown",
      "metadata": {
        "id": "WAHR1LMJmP-h"
      },
      "source": [
        "Ensure `torch` and `torchvision` are installed. If `pytorch3d` is not installed, install it using the following cell:"
      ]
    },
    {
      "cell_type": "code",
      "execution_count": 22,
      "metadata": {
        "colab": {
          "base_uri": "https://localhost:8080/"
        },
        "id": "uo7a3gdImMZx",
        "outputId": "59a23be5-a181-4789-e92f-defa24475895"
      },
      "outputs": [],
      "source": [
        "# import os\n",
        "# import sys\n",
        "# import torch\n",
        "# need_pytorch3d=False\n",
        "# try:\n",
        "#     import pytorch3d\n",
        "# except ModuleNotFoundError:\n",
        "#     need_pytorch3d=True\n",
        "# if need_pytorch3d:\n",
        "#     if torch.__version__.startswith(\"1.13.\") and sys.platform.startswith(\"linux\"):\n",
        "#         # We try to install PyTorch3D via a released wheel.\n",
        "#         pyt_version_str=torch.__version__.split(\"+\")[0].replace(\".\", \"\")\n",
        "#         version_str=\"\".join([\n",
        "#             f\"py3{sys.version_info.minor}_cu\",\n",
        "#             torch.version.cuda.replace(\".\",\"\"),\n",
        "#             f\"_pyt{pyt_version_str}\"\n",
        "#         ])\n",
        "#         !pip install fvcore iopath\n",
        "#         !pip install --no-index --no-cache-dir pytorch3d -f https://dl.fbaipublicfiles.com/pytorch3d/packaging/wheels/{version_str}/download.html\n",
        "#     else:\n",
        "#         # We try to install PyTorch3D from source.\n",
        "#         !curl -LO https://github.com/NVIDIA/cub/archive/1.10.0.tar.gz\n",
        "#         !tar xzf 1.10.0.tar.gz\n",
        "#         os.environ[\"CUB_HOME\"] = os.getcwd() + \"/cub-1.10.0\"\n",
        "#         !pip install 'git+https://github.com/facebookresearch/pytorch3d.git@stable'"
      ]
    },
    {
      "cell_type": "code",
      "execution_count": 5,
      "metadata": {
        "id": "UgLa7XQimFoY"
      },
      "outputs": [],
      "source": [
        "# # imports\n",
        "# import numpy as np\n",
        "# import torch\n",
        "# from pytorch3d.transforms.so3 import (\n",
        "#     so3_exp_map,\n",
        "#     so3_relative_angle,\n",
        "# )\n",
        "# from pytorch3d.transforms.se3 import (\n",
        "#     se3_exp_map,\n",
        "#     se3_log_map,\n",
        "# )\n",
        "\n",
        "# import pytorch3d.transforms as transforms\n",
        "    \n",
        "# # add path for demo utils\n",
        "# import sys\n",
        "# import os\n",
        "# sys.path.append(os.path.abspath(''))\n",
        "\n",
        "# # set for reproducibility\n",
        "# torch.manual_seed(42)\n",
        "# if torch.cuda.is_available():\n",
        "#     device = torch.device(\"cuda:0\")\n",
        "# else:\n",
        "#     device = torch.device(\"cpu\")\n",
        "#     print(\"WARNING: CPU only, this will be slow!\")"
      ]
    },
    {
      "cell_type": "markdown",
      "metadata": {
        "id": "GjJHXNjKglfN"
      },
      "source": [
        "## **Data preparation**"
      ]
    },
    {
      "cell_type": "code",
      "execution_count": null,
      "metadata": {
        "id": "p_-eCm8alLqz"
      },
      "outputs": [],
      "source": [
        "# # Load the matrices \n",
        "# T_o_cb_batch = np.load('')\n",
        "# batch_size = T_o_cb_batch.shape[0]\n",
        "# T_o_p_batch = np.load('')\n",
        "# T_c_p_batch = np.load('')\n",
        "# X_matrix = np.load('')\n",
        "# X_batch = np.tile(X_matrix, [batch_size,1,1])\n",
        "\n",
        "# # Load into torch tensor\n",
        "# X_batch = torch.tensor(X_batch)\n",
        "# T_o_p_batch = torch.tensor(T_o_p_batch)\n",
        "# T_o_cb_batch = torch.tensor(T_o_cb_batch)\n",
        "# T_c_p_batch = torch.tensor(T_c_p_batch)"
      ]
    },
    {
      "cell_type": "code",
      "execution_count": 13,
      "metadata": {},
      "outputs": [],
      "source": [
        "# # # Load the matrices\n",
        "# params_save_dir = '../data/post_optimization_data/'\n",
        "\n",
        "# T_o_cb_batch = np.load(os.path.join(params_save_dir, 'T_o_cb_opti1_0314.npy'))[:150]\n",
        "# # T_o_cb_batch[:,:3, 3] /= 1000 \n",
        "# batch_size = T_o_cb_batch.shape[0]\n",
        "# T_o_p_batch = np.load(os.path.join(params_save_dir, 'T_o_p_opti1_0314.npy'))[:150]\n",
        "# # T_o_p_batch[:,:3, 3] /= 1000\n",
        "# T_c_p_batch = np.load(os.path.join(params_save_dir, 'T_c_p_opti1_0314.npy'))[:150]\n",
        "# # T_c_p_batch[:,:3, 3] /= 1000\n",
        "# X_matrix = np.load('../params/hand_eye_X_0314.npy')\n",
        "# # X_matrix[:3, 3] /= 1000\n",
        "# # X_batch = np.tile(X_matrix, [batch_size,1,1])[:40]\n",
        "\n",
        "\n",
        "# # Load into torch tensor\n",
        "# X_batch = torch.tensor(X_matrix)\n",
        "# T_o_p_batch = torch.tensor(T_o_p_batch)\n",
        "# T_o_cb_batch = torch.tensor(T_o_cb_batch)\n",
        "# T_c_p_batch = torch.tensor(T_c_p_batch)"
      ]
    },
    {
      "cell_type": "code",
      "execution_count": 14,
      "metadata": {
        "colab": {
          "base_uri": "https://localhost:8080/"
        },
        "id": "lbh1fFj-yOs4",
        "outputId": "ba72a33c-5d29-429e-c6b7-8b69fb57a246"
      },
      "outputs": [],
      "source": [
        "# ## test\n",
        "# from scipy.spatial.transform import Rotation as R\n",
        "\n",
        "# batch_size = 10\n",
        "# T_o_cb_batch = np.tile(np.eye(4), [batch_size,1,1])\n",
        "# T_o_p_batch = np.tile(np.eye(4), [batch_size,1,1])\n",
        "# T_c_p_batch = np.tile(np.eye(4), [batch_size,1,1])\n",
        "# # X_matrix = np.hstack((np.vstack((R.random().as_matrix(), np.zeros([1,3]))), np.ones([4,1])))\n",
        "# # X_batch = np.tile(X_matrix, [batch_size,1,1])\n",
        "# # X_batch[:, :3, 3] = 2\n",
        "# print(X_batch[:,:])\n",
        "# X_batch = torch.tensor(X_batch)\n",
        "# T_o_p_batch = torch.tensor(T_o_p_batch)\n",
        "# T_o_cb_batch = torch.tensor(T_o_cb_batch)\n",
        "# T_c_p_batch = torch.tensor(T_c_p_batch)"
      ]
    },
    {
      "cell_type": "code",
      "execution_count": 15,
      "metadata": {
        "id": "1vy3GDAbgpxj"
      },
      "outputs": [],
      "source": [
        "# # Create Transform3d objects from the batch of transformation matrices\n",
        "# T_o_cb = transforms.Transform3d(matrix=T_o_cb_batch, device=device)\n",
        "# X = transforms.Transform3d(matrix=X_batch, device=device)\n",
        "# T_o_p = transforms.Transform3d(matrix=T_o_p_batch, device=device)\n",
        "# T_c_p = transforms.Transform3d(matrix=T_c_p_batch, device=device)\n",
        "\n",
        "# # cam_gt: the ground truth camera pose w.r.t the optical tracker cam_gt = T_o_p * (T_c_p)^-1\n",
        "# cam_gt = T_o_cb.compose(X)\n",
        "\n",
        "# # cam_real: the camera pose from initial hand-eye calibration cam_real = T_o_cb * X\n",
        "# cam_real = T_o_p.compose(T_c_p.inverse())"
      ]
    },
    {
      "cell_type": "markdown",
      "metadata": {
        "id": "om0hsJi5S6Pl"
      },
      "source": [
        "## **Define optimization loss function**\n",
        "\n"
      ]
    },
    {
      "cell_type": "code",
      "execution_count": 16,
      "metadata": {
        "id": "pDA0vbgRSsD8"
      },
      "outputs": [],
      "source": [
        "# def camera_distance(hand_eye_real, hand_eye_gt):\n",
        "#   '''\n",
        "#   Calculate the l2 distance in se(3) manifold for the camera.\n",
        "#   distance = sum||log(hand_eye_real*hand_eye_gt)||_2\n",
        "#   '''\n",
        "\n",
        "#   # Convert a batch of 4x4 transformation matrices transform to \n",
        "#   # a batch of 6-dimensional SE(3) logarithms of the SE(3) matrices\n",
        "#   # print(hand_eye_real.compose(hand_eye_gt.inverse()).get_matrix())\n",
        "#   tmp_matrix = hand_eye_real.compose(hand_eye_gt.inverse()).get_matrix()\n",
        "#   vec = se3_log_map(tmp_matrix.permute(0,2,1)).sum(0)\n",
        "#   # print(torch.norm(vec))\n",
        "\n",
        "#   return torch.norm(vec)\n",
        "  \n",
        "\n",
        "# # camera_distance(cam_real, cam_gt)"
      ]
    },
    {
      "cell_type": "markdown",
      "metadata": {
        "id": "rHQaC9QHs5K5"
      },
      "source": [
        "## **Optimization**"
      ]
    },
    {
      "cell_type": "code",
      "execution_count": 21,
      "metadata": {
        "colab": {
          "base_uri": "https://localhost:8080/"
        },
        "id": "STvOIf2IxfG6",
        "outputId": "0a326309-aa65-40f3-8168-a2e9df4c1655"
      },
      "outputs": [],
      "source": [
        "# # Create Transform3d objects from the batch of transformation matrices\n",
        "# T_o_cb = transforms.Transform3d(matrix=T_o_cb_batch, device=device)\n",
        "# X = transforms.Transform3d(matrix=X_batch, device=device)\n",
        "# T_o_p = transforms.Transform3d(matrix=T_o_p_batch, device=device)\n",
        "# T_c_p = transforms.Transform3d(matrix=T_c_p_batch, device=device)\n",
        "\n",
        "# # hand_eye_real: the hand-eye transformation from initial calibration X\n",
        "# hand_eye_real_6D = se3_log_map(X.get_matrix().permute(0, 2, 1))\n",
        "# hand_eye_real_6D.requires_grad = True\n",
        "\n",
        "\n",
        "# # hand_eye_gt: the hand-eye transformation from the chain \n",
        "# # hand_eye_gt = (T_o_cb)^-1 * T_o_p * (T_c_p)^-1\n",
        "# hand_eye_gt = T_o_cb.inverse().compose(T_o_p).compose(T_c_p.inverse())\n",
        "\n",
        "# # init the optimizer\n",
        "# optimizer = torch.optim.SGD([hand_eye_real_6D], lr=.001, momentum=0.9)\n",
        "\n",
        "# # run the optimization\n",
        "# n_iter = 2000  # fix the number of iterations\n",
        "# for it in range(n_iter):\n",
        "#     # re-init the optimizer gradients\n",
        "#     optimizer.zero_grad()\n",
        "\n",
        "#     # transform the 6d vector into 4x4 matrix\n",
        "#     hand_eye_real = se3_exp_map(hand_eye_real_6D).permute(0, 2, 1)\n",
        "#     hand_eye_real = transforms.Transform3d(matrix=hand_eye_real, device=device)\n",
        "\n",
        "#     # compare the composed cameras with the ground truth relative cameras\n",
        "#     # camera_distance corresponds to $d$ from the description\n",
        "#     loss = \\\n",
        "#         camera_distance(hand_eye_real, hand_eye_gt)\n",
        "#     # loss.requires_grad_(True)\n",
        "\n",
        "#     # our loss function is the camera_distance\n",
        "#     loss.backward()\n",
        "    \n",
        "#     # apply the gradients\n",
        "#     optimizer.step()\n",
        "\n",
        "#     # # plot and print status message\n",
        "#     if it % 200==0 or it==n_iter-1:\n",
        "#         status = 'iteration=%3d; camera_distance=%1.3e' % (it, loss)\n",
        "#         print(status)\n",
        "        \n",
        "# print('Optimization finished.')\n"
      ]
    },
    {
      "cell_type": "markdown",
      "metadata": {
        "id": "ue0Yz1ZM_bVG"
      },
      "source": [
        "## **Pypose implementation**"
      ]
    },
    {
      "cell_type": "code",
      "execution_count": 6,
      "metadata": {
        "colab": {
          "base_uri": "https://localhost:8080/"
        },
        "id": "cHwar1t7_vlQ",
        "outputId": "94728a50-1b0a-4b15-d4f4-b95fb82b0e3b"
      },
      "outputs": [],
      "source": [
        "# !pip install pypose\n",
        "# !pip install seaborn"
      ]
    },
    {
      "cell_type": "code",
      "execution_count": 1,
      "metadata": {
        "id": "XHwVk3I7AJWz"
      },
      "outputs": [
        {
          "name": "stderr",
          "output_type": "stream",
          "text": [
            "/home/shc/anaconda3/envs/pytorch3d/lib/python3.9/site-packages/tqdm/auto.py:22: TqdmWarning: IProgress not found. Please update jupyter and ipywidgets. See https://ipywidgets.readthedocs.io/en/stable/user_install.html\n",
            "  from .autonotebook import tqdm as notebook_tqdm\n"
          ]
        }
      ],
      "source": [
        "import os\n",
        "import sys\n",
        "import numpy as np\n",
        "import torch, pypose as pp\n",
        "from torch import nn\n",
        "from scipy.spatial.transform import Rotation as R"
      ]
    },
    {
      "cell_type": "code",
      "execution_count": 2,
      "metadata": {
        "id": "efn4AgnkTlB3"
      },
      "outputs": [],
      "source": [
        "if torch.cuda.is_available():\n",
        "    device = torch.device(\"cuda:0\")\n",
        "else:\n",
        "    device = torch.device(\"cpu\")\n",
        "    print(\"WARNING: CPU only, this will be slow!\")"
      ]
    },
    {
      "cell_type": "markdown",
      "metadata": {
        "id": "zSkG7iFI2TAE"
      },
      "source": [
        "## **Data Preparation**"
      ]
    },
    {
      "cell_type": "code",
      "execution_count": 52,
      "metadata": {},
      "outputs": [],
      "source": [
        "# T_c_p_batch = np.load(os.path.join(params_save_dir, 'T_c_p_opti1_0314_.npy'))[:150]\n",
        "\n",
        "# T_c_p = pp.mat2SE3(T_c_p_batch)\n",
        "# # T_c_p @ pp.Inv(T_c_p_zed)\n",
        "\n",
        "# print([T_c_p[i][:3].norm().item() for i in range(150)],'\\n')\n",
        "# # print(T_c_p_batch[0],'\\n',T_c_p_batch_zed[0])"
      ]
    },
    {
      "cell_type": "code",
      "execution_count": 124,
      "metadata": {
        "id": "PoZzXm_s2Hhi"
      },
      "outputs": [
        {
          "name": "stdout",
          "output_type": "stream",
          "text": [
            "tensor(120.6716, dtype=torch.float64)\n",
            "[133.39282481913557, 133.79329538571028, 133.34350857773907, 134.31885424563006, 136.18109359940948, 137.4929007434755, 136.81499020125665, 134.93793778891808, 133.96546721143366, 133.34427269539825, 134.25972966224109, 135.09003770541847, 135.6896263864084, 135.54885429865658, 137.01238500740527, 136.0754248091927, 133.29406428142144, 132.69130384297512, 133.69292663219252, 133.39103653680053, 133.04898992044846, 131.9790082093225, 132.59962585690738, 132.31696687167837, 132.55053151598722, 133.00239402620733, 133.32931893889446, 134.17363694422713, 134.6251574282835, 134.47064488693545, 134.1553194951729, 134.07082913100732, 135.30001162919947, 133.73140873742582, 133.04198916735353, 133.76341591887027, 134.58250032632117, 135.6867819146406, 135.18097307072722, 135.96203927249866, 137.2119136754774, 136.02623541022805, 136.8287946813297, 136.69829890397583, 137.24082492103682, 136.30147985382905, 134.50121631091784, 135.31626049537982, 136.12688505056968, 134.8411113036828, 134.28542974643446, 133.92589998832509, 136.27739609355132, 136.88758152069138, 136.51217638745177, 135.63859354244315, 135.66310929046034, 134.6518472246043, 134.54978247178084, 134.28833433701016, 134.5843599214266, 134.46341575682533, 134.9280555083424, 134.32627595340605, 133.62099464239523, 133.6101233829442, 131.95404219936998, 131.93557463242558, 133.54764250097992, 132.33237300867862, 132.81302095876347, 133.0968970606517, 132.70800653749316, 133.73400940558741, 134.40610443835544, 132.93180869541465, 132.64935456058691, 132.53374068838167, 134.32609636696117, 135.20103545197185, 135.3653147729375, 134.00562861947583, 132.46287451570404, 133.27714788866157, 133.81367463400613, 134.36984151641587, 135.85899572593058, 136.71598445237956, 136.4550097826398, 136.45207265431517, 135.3063029523571, 135.3838822475418, 136.58944565025516, 136.65412745797016, 136.2199673673288, 133.71098630415975, 132.92046969831813, 134.11949796421408, 134.0183590113862, 132.57232178448837, 132.72464058208354, 134.01556104784189, 132.98925250977143, 132.67087573531745, 133.11037913357492, 134.55210567300992, 134.5314053284481, 133.6272915430638, 133.76970295449388, 133.78360758714305, 134.4733619979533, 134.31743938796896, 133.5318467383676, 132.90496889976205, 133.24800161777912, 133.98317531433207, 133.63887384709318, 132.86148778925454, 131.63853701758703, 131.47513451938565, 130.66019807573588, 129.03047686444478, 128.8623978016958, 128.45706156292772, 128.74581893948303, 128.46964391898527, 127.82450398594995, 126.7617047768581, 126.95727033907475, 130.13159978228083, 129.59555420115393, 129.98117788919902, 131.0852217037296, 131.12050440399173, 130.8778440432682, 130.45642613703694, 131.2297394611418, 132.1376601533528, 133.8776972134673, 133.90545797576496, 133.91867299073, 133.95892146807623, 133.99024725086048, 134.29593491500322, 135.42194233586233, 134.7665986336367, 135.00796305751686, 134.8776133247672, 135.19301332725732, 135.2874244615431] \n",
            "\n",
            "tensor([[ 5.5775e-02, -9.7199e-01,  2.2829e-01,  1.3179e+01],\n",
            "        [ 2.9662e-01,  2.3445e-01,  9.2577e-01,  1.0629e+02],\n",
            "        [-9.5337e-01,  1.6079e-02,  3.0139e-01,  8.0190e+01],\n",
            "        [ 0.0000e+00,  0.0000e+00,  0.0000e+00,  1.0000e+00]],\n",
            "       dtype=torch.float64)\n"
          ]
        },
        {
          "name": "stderr",
          "output_type": "stream",
          "text": [
            "/tmp/ipykernel_12365/3195425166.py:28: UserWarning: \n",
            "\n",
            "`distplot` is a deprecated function and will be removed in seaborn v0.14.0.\n",
            "\n",
            "Please adapt your code to use either `displot` (a figure-level function with\n",
            "similar flexibility) or `histplot` (an axes-level function for histograms).\n",
            "\n",
            "For a guide to updating your code to use the new functions, please see\n",
            "https://gist.github.com/mwaskom/de44147ed2974457ad6372750bbe5751\n",
            "\n",
            "  seaborn.distplot(displacement)\n"
          ]
        },
        {
          "data": {
            "text/plain": [
              "<Axes: ylabel='Density'>"
            ]
          },
          "execution_count": 124,
          "metadata": {},
          "output_type": "execute_result"
        },
        {
          "data": {
            "image/png": "[encoded data removed]",
            "text/plain": [
              "<Figure size 640x480 with 1 Axes>"
            ]
          },
          "metadata": {},
          "output_type": "display_data"
        }
      ],
      "source": [
        "# # Load the matrices\n",
        "params_save_dir = '../data/post_optimization_data/'\n",
        "num_poses = 150\n",
        "T_o_cb_batch = np.load(os.path.join(params_save_dir, 'T_o_cb_opti1_0314.npy'))[:num_poses]\n",
        "# T_o_cb_batch[:,:3, 3] /= 1000 \n",
        "batch_size = T_o_cb_batch.shape[0]\n",
        "T_o_p_batch = np.load(os.path.join(params_save_dir, 'T_o_p_opti1_0314.npy'))[:num_poses]\n",
        "# T_o_p_batch[:,:3, 3] /= 1000\n",
        "T_c_p_batch = np.load(os.path.join(params_save_dir, 'T_c_p_opti1_0314_.npy'))[:num_poses]\n",
        "# T_c_p_batch[:,:3, 3] /= 1000\n",
        "X_matrix = np.load('../params/hand_eye_X_0314.npy')\n",
        "# X_matrix[:3, 3] /= 1000\n",
        "# X_batch = np.tile(X_matrix, [batch_size,1,1])[:40]\n",
        "\n",
        "# convert to pp tensor\n",
        "X = pp.mat2SE3(X_matrix)\n",
        "T_o_p = pp.mat2SE3(T_o_p_batch)\n",
        "T_o_cb = pp.mat2SE3(T_o_cb_batch)\n",
        "T_c_p = pp.mat2SE3(T_c_p_batch)\n",
        "# print(np.linalg.norm(X_batch[1, :3,3]))\n",
        "print(X[:3].norm())\n",
        "\n",
        "hand_eye_gt = pp.Inv(T_o_cb) * T_o_p * pp.Inv(T_c_p)\n",
        "displacement = [hand_eye_gt[i][:3].norm().item() for i in range(num_poses)]\n",
        "print(displacement,'\\n')\n",
        "print(hand_eye_gt[1].matrix())\n",
        "import seaborn\n",
        "seaborn.distplot(displacement)"
      ]
    },
    {
      "cell_type": "code",
      "execution_count": 33,
      "metadata": {
        "colab": {
          "base_uri": "https://localhost:8080/"
        },
        "id": "33skIGPvAgcG",
        "outputId": "549c1692-ecde-4aee-bea1-5dcefe9b6b53"
      },
      "outputs": [],
      "source": [
        "# # test\n",
        "# batch_size = 800\n",
        "# T_o_cb_batch = np.tile(np.eye(4), [batch_size,1,1])\n",
        "# T_o_p_batch = np.tile(np.eye(4), [batch_size,1,1])\n",
        "# T_c_p_batch = np.tile(np.eye(4), [batch_size,1,1])\n",
        "# X_matrix = np.hstack((np.vstack((R.random().as_matrix(), np.zeros([1,3]))), np.ones([4,1])))\n",
        "# X_batch = np.tile(X_matrix, [batch_size,1,1])\n",
        "# X_batch[:, :3, 3] = 2.5\n",
        "\n",
        "# print(X_batch[1, :,:])\n",
        "\n",
        "# # convert to pp tensor\n",
        "# X = pp.mat2SE3(X_batch)\n",
        "# T_o_p = pp.mat2SE3(T_o_p_batch)\n",
        "# T_o_cb = pp.mat2SE3(T_o_cb_batch)\n",
        "# T_c_p = pp.mat2SE3(T_c_p_batch)\n",
        "# # print(X_batch[1,...])\n",
        "# # print(X_batch @ pp.Inv(X_batch))"
      ]
    },
    {
      "cell_type": "markdown",
      "metadata": {
        "id": "_p3m2c_51-ON"
      },
      "source": [
        "## **Optimization**"
      ]
    },
    {
      "cell_type": "code",
      "execution_count": 125,
      "metadata": {
        "id": "9GqcVTBSY-Sy"
      },
      "outputs": [],
      "source": [
        "class CamDis(nn.Module):\n",
        "    def __init__(self, hand_eye_real_6D):\n",
        "        super().__init__()\n",
        "        self.real = pp.Parameter(hand_eye_real_6D)\n",
        "\n",
        "    def forward(self, input):\n",
        "        # input hand_eye_gt\n",
        "        hand_eye_real = self.real.Exp()\n",
        "        # tmp_quats = hand_eye_real * pp.Inv(input) #?????????????????\n",
        "        tmp_quats = pp.Inv(hand_eye_real) * input \n",
        "        vec = tmp_quats.Log()\n",
        "        t = vec[:, :3]\n",
        "        t = torch.norm(t, dim=1)\n",
        "        rot_vec = vec[:, 3:]\n",
        "        rot_vec = torch.norm(rot_vec, dim=1)\n",
        "        # return t.mean() + rot_vec.mean() #+ (X.to(device)[:3] - hand_eye_real[:3]).norm()\n",
        "        # return t.norm() + (X[:3] - hand_eye_real[:3]).norm()\n",
        "        # print(vec)\n",
        "        return vec"
      ]
    },
    {
      "cell_type": "code",
      "execution_count": 126,
      "metadata": {
        "colab": {
          "base_uri": "https://localhost:8080/"
        },
        "id": "AJomeMEsVpw5",
        "outputId": "27b5ee7c-9336-48fa-ef72-316e35185c2f"
      },
      "outputs": [
        {
          "name": "stderr",
          "output_type": "stream",
          "text": [
            "/home/shc/anaconda3/envs/pytorch3d/lib/python3.9/site-packages/pypose/lietensor/lietensor.py:918: UserWarning: Tensor Shape Invalid by calling <slot wrapper '__getitem__' of 'torch._C._TensorBase' objects>, go to https://pypose.org/docs/main/generated/pypose.LieTensor\n",
            "  warnings.warn('Tensor Shape Invalid by calling {}, ' \\\n",
            "/home/shc/anaconda3/envs/pytorch3d/lib/python3.9/site-packages/pypose/lietensor/lietensor.py:918: UserWarning: Tensor Shape Invalid by calling <method 'reshape' of 'torch._C._TensorBase' objects>, go to https://pypose.org/docs/main/generated/pypose.LieTensor\n",
            "  warnings.warn('Tensor Shape Invalid by calling {}, ' \\\n",
            "/home/shc/anaconda3/envs/pytorch3d/lib/python3.9/site-packages/pypose/lietensor/lietensor.py:918: UserWarning: Tensor Shape Invalid by calling <method 'view' of 'torch._C._TensorBase' objects>, go to https://pypose.org/docs/main/generated/pypose.LieTensor\n",
            "  warnings.warn('Tensor Shape Invalid by calling {}, ' \\\n"
          ]
        },
        {
          "name": "stdout",
          "output_type": "stream",
          "text": [
            "iteration=  0; camera_distance=4.947e-01\n",
            "iteration=100; camera_distance=-1.011e+00\n",
            "iteration=200; camera_distance=-1.011e+00\n",
            "iteration=300; camera_distance=-1.011e+00\n",
            "iteration=400; camera_distance=-1.011e+00\n",
            "iteration=499; camera_distance=-1.011e+00\n",
            "The final result:\n",
            " SE3Type LieTensor:\n",
            "LieTensor([ 12.5056, 107.5742,  78.3203,  -0.3634,   0.4600,   0.5072,   0.6317],\n",
            "          device='cuda:0', dtype=torch.float64, grad_fn=<AliasBackward0>)\n",
            "Optimization finished.\n"
          ]
        }
      ],
      "source": [
        "# hand_eye_real: the hand-eye transformation from initial calibration X\n",
        "\n",
        "hand_eye_real = X.clone().detach()\n",
        "hand_eye_real_6D = hand_eye_real.Log()\n",
        "# hand_eye_gt: the hand-eye transformation from the chain \n",
        "# hand_eye_gt = (T_o_cb)^-1 * T_o_p * (T_c_p)^-1\n",
        "hand_eye_gt = pp.Inv(T_o_cb) * T_o_p * pp.Inv(T_c_p)\n",
        "# hand_eye_inv_gt = T_c_p @ pp.Inv(T_o_p) @ T_o_cb\n",
        "hand_eye_gt = hand_eye_gt.clone().detach()\n",
        "\n",
        "\n",
        "# init the optimizer\n",
        "camera_distance = CamDis(hand_eye_real_6D).to(device)\n",
        "# input = hand_eye_gt.to(device)\n",
        "input = hand_eye_gt.to(device)\n",
        "# strategy = pp.optim.strategy.Adaptive(damping=1e-6)\n",
        "strategy = pp.optim.strategy.TrustRegion(radius=1e3)\n",
        "optimizer = pp.optim.LM(camera_distance, strategy=strategy)\n",
        "# run the optimization\n",
        "n_iter = 500  # fix the number of iterations1\n",
        "for it in range(n_iter):\n",
        "    loss = optimizer.step(input)\n",
        "    # print(loss)\n",
        "    # # plot and print status message\n",
        "    if it % 100==0 or it==n_iter-1:\n",
        "        status = 'iteration=%3d; camera_distance=%1.3e' % (it, loss-5643)\n",
        "        print(status)\n",
        "        # print(camera_distance.real.Exp())\n",
        "    if loss < 1e-4:\n",
        "        print('Early Stopping with loss:', loss.item())\n",
        "        break\n",
        "res = camera_distance.real.Exp()\n",
        "print('The final result:\\n', res)\n",
        "print('Optimization finished.')\n"
      ]
    },
    {
      "cell_type": "code",
      "execution_count": 127,
      "metadata": {},
      "outputs": [
        {
          "name": "stdout",
          "output_type": "stream",
          "text": [
            "initial X:\n",
            " SE3Type LieTensor:\n",
            "LieTensor([ 7.3069, 98.1913, 69.7617, -0.3618,  0.4588,  0.4927,  0.6449],\n",
            "          device='cuda:0', dtype=torch.float64)\n",
            "optimization result:\n",
            " SE3Type LieTensor:\n",
            "LieTensor([ 12.5056, 107.5742,  78.3203,  -0.3634,   0.4600,   0.5072,   0.6317],\n",
            "          device='cuda:0', dtype=torch.float64, grad_fn=<AliasBackward0>)\n",
            "120.67156565525889\n",
            "133.65133184542614\n"
          ]
        }
      ],
      "source": [
        "X = X.to(device)\n",
        "\n",
        "print('initial X:\\n', X)\n",
        "print('optimization result:\\n', res)\n",
        "print(X[:3].norm().item())\n",
        "print(res[:3].norm().item())\n"
      ]
    },
    {
      "cell_type": "code",
      "execution_count": 109,
      "metadata": {},
      "outputs": [
        {
          "name": "stdout",
          "output_type": "stream",
          "text": [
            "tensor([[ 9.3572e-02, -9.6743e-01,  2.3523e-01,  7.3069e+00],\n",
            "        [ 3.0347e-01,  2.5273e-01,  9.1871e-01,  9.8191e+01],\n",
            "        [-9.4824e-01, -1.4582e-02,  3.1723e-01,  6.9762e+01],\n",
            "        [ 0.0000e+00,  0.0000e+00,  0.0000e+00,  1.0000e+00]], device='cuda:0',\n",
            "       dtype=torch.float64) \n",
            " tensor([[ 5.8164e-03, -2.9658e-01, -2.2342e-01,  2.9691e+02],\n",
            "        [-2.9593e-01,  5.5943e-02,  7.0047e-03, -1.1993e+03],\n",
            "        [-2.0158e-01, -1.3499e-02,  9.9202e-02, -8.8414e+03],\n",
            "        [ 0.0000e+00,  0.0000e+00,  0.0000e+00,  1.0000e+00]], device='cuda:0',\n",
            "       dtype=torch.float64, grad_fn=<MulBackward0>)\n",
            "tensor([[ 6.2160e-02, -9.7516e-01,  2.1258e-01,  1.2506e+01],\n",
            "        [ 3.0656e-01,  2.2135e-01,  9.2575e-01,  1.0757e+02],\n",
            "        [-9.4982e-01,  7.6245e-03,  3.1271e-01,  7.8320e+01],\n",
            "        [ 0.0000e+00,  0.0000e+00,  0.0000e+00,  1.0000e+00]], device='cuda:0',\n",
            "       dtype=torch.float64, grad_fn=<TransposeBackward0>)\n"
          ]
        }
      ],
      "source": [
        "\n",
        "print(pp.matrix(X),'\\n', pp.matrix(pp.Inv(res))* pp.matrix(X))\n",
        "print(res.matrix())\n",
        "# print(input[10].matrix())"
      ]
    },
    {
      "cell_type": "code",
      "execution_count": 110,
      "metadata": {},
      "outputs": [],
      "source": [
        "opX = res.matrix().to('cpu').detach().numpy()\n",
        "# opX = np.array([[ 6.5548e-02, -9.7166e-01,  2.2711e-01,  9.7073e+00],\n",
        "#         [ 3.0286e-01,  2.3624e-01,  9.2329e-01,  1.0783e+02],\n",
        "#         [-9.5078e-01,  8.2638e-03,  3.0977e-01,  7.9392e+01],\n",
        "#         [ 0.0000e+00,  0.0000e+00,  0.0000e+00,  1.0000e+00]])\n",
        "# opX[:3, 3] *= 1000\n",
        "np.save('/home/shc/Desktop/data/0314/handeye_1/new_X.npy', opX)"
      ]
    }
  ],
  "metadata": {
    "accelerator": "GPU",
    "colab": {
      "collapsed_sections": [
        "nAQY4EnHmFoX",
        "om0hsJi5S6Pl",
        "rHQaC9QHs5K5"
      ],
      "provenance": []
    },
    "gpuClass": "standard",
    "kernelspec": {
      "display_name": "pytorch3d",
      "language": "python",
      "name": "python3"
    },
    "language_info": {
      "codemirror_mode": {
        "name": "ipython",
        "version": 3
      },
      "file_extension": ".py",
      "mimetype": "text/x-python",
      "name": "python",
      "nbconvert_exporter": "python",
      "pygments_lexer": "ipython3",
      "version": "3.9.16"
    },
    "vscode": {
      "interpreter": {
        "hash": "0ce49f5ef5efef132947d6c894613f203ae812a6bb9ec04c63c99638f20d472f"
      }
    }
  },
  "nbformat": 4,
  "nbformat_minor": 0
}
