{
  "cells": [
    {
      "cell_type": "markdown",
      "metadata": {
        "id": "nAQY4EnHmFoX"
      },
      "source": [
        "## 0. Install and Import Modules"
      ]
    },
    {
      "cell_type": "markdown",
      "metadata": {
        "id": "WAHR1LMJmP-h"
      },
      "source": [
        "Ensure `torch` and `torchvision` are installed. If `pytorch3d` is not installed, install it using the following cell:"
      ]
    },
    {
      "cell_type": "code",
      "execution_count": 22,
      "metadata": {
        "colab": {
          "base_uri": "https://localhost:8080/"
        },
        "id": "uo7a3gdImMZx",
        "outputId": "59a23be5-a181-4789-e92f-defa24475895"
      },
      "outputs": [],
      "source": [
        "# import os\n",
        "# import sys\n",
        "# import torch\n",
        "# need_pytorch3d=False\n",
        "# try:\n",
        "#     import pytorch3d\n",
        "# except ModuleNotFoundError:\n",
        "#     need_pytorch3d=True\n",
        "# if need_pytorch3d:\n",
        "#     if torch.__version__.startswith(\"1.13.\") and sys.platform.startswith(\"linux\"):\n",
        "#         # We try to install PyTorch3D via a released wheel.\n",
        "#         pyt_version_str=torch.__version__.split(\"+\")[0].replace(\".\", \"\")\n",
        "#         version_str=\"\".join([\n",
        "#             f\"py3{sys.version_info.minor}_cu\",\n",
        "#             torch.version.cuda.replace(\".\",\"\"),\n",
        "#             f\"_pyt{pyt_version_str}\"\n",
        "#         ])\n",
        "#         !pip install fvcore iopath\n",
        "#         !pip install --no-index --no-cache-dir pytorch3d -f https://dl.fbaipublicfiles.com/pytorch3d/packaging/wheels/{version_str}/download.html\n",
        "#     else:\n",
        "#         # We try to install PyTorch3D from source.\n",
        "#         !curl -LO https://github.com/NVIDIA/cub/archive/1.10.0.tar.gz\n",
        "#         !tar xzf 1.10.0.tar.gz\n",
        "#         os.environ[\"CUB_HOME\"] = os.getcwd() + \"/cub-1.10.0\"\n",
        "#         !pip install 'git+https://github.com/facebookresearch/pytorch3d.git@stable'"
      ]
    },
    {
      "cell_type": "code",
      "execution_count": 5,
      "metadata": {
        "id": "UgLa7XQimFoY"
      },
      "outputs": [],
      "source": [
        "# # imports\n",
        "# import numpy as np\n",
        "# import torch\n",
        "# from pytorch3d.transforms.so3 import (\n",
        "#     so3_exp_map,\n",
        "#     so3_relative_angle,\n",
        "# )\n",
        "# from pytorch3d.transforms.se3 import (\n",
        "#     se3_exp_map,\n",
        "#     se3_log_map,\n",
        "# )\n",
        "\n",
        "# import pytorch3d.transforms as transforms\n",
        "    \n",
        "# # add path for demo utils\n",
        "# import sys\n",
        "# import os\n",
        "# sys.path.append(os.path.abspath(''))\n",
        "\n",
        "# # set for reproducibility\n",
        "# torch.manual_seed(42)\n",
        "# if torch.cuda.is_available():\n",
        "#     device = torch.device(\"cuda:0\")\n",
        "# else:\n",
        "#     device = torch.device(\"cpu\")\n",
        "#     print(\"WARNING: CPU only, this will be slow!\")"
      ]
    },
    {
      "cell_type": "markdown",
      "metadata": {
        "id": "GjJHXNjKglfN"
      },
      "source": [
        "## **Data preparation**"
      ]
    },
    {
      "cell_type": "code",
      "execution_count": null,
      "metadata": {
        "id": "p_-eCm8alLqz"
      },
      "outputs": [],
      "source": [
        "# # Load the matrices \n",
        "# T_o_cb_batch = np.load('')\n",
        "# batch_size = T_o_cb_batch.shape[0]\n",
        "# T_o_p_batch = np.load('')\n",
        "# T_c_p_batch = np.load('')\n",
        "# X_matrix = np.load('')\n",
        "# X_batch = np.tile(X_matrix, [batch_size,1,1])\n",
        "\n",
        "# # Load into torch tensor\n",
        "# X_batch = torch.tensor(X_batch)\n",
        "# T_o_p_batch = torch.tensor(T_o_p_batch)\n",
        "# T_o_cb_batch = torch.tensor(T_o_cb_batch)\n",
        "# T_c_p_batch = torch.tensor(T_c_p_batch)"
      ]
    },
    {
      "cell_type": "code",
      "execution_count": 13,
      "metadata": {},
      "outputs": [],
      "source": [
        "# # # Load the matrices\n",
        "# params_save_dir = '../data/post_optimization_data/'\n",
        "\n",
        "# T_o_cb_batch = np.load(os.path.join(params_save_dir, 'T_o_cb_opti1_0314.npy'))[:150]\n",
        "# # T_o_cb_batch[:,:3, 3] /= 1000 \n",
        "# batch_size = T_o_cb_batch.shape[0]\n",
        "# T_o_p_batch = np.load(os.path.join(params_save_dir, 'T_o_p_opti1_0314.npy'))[:150]\n",
        "# # T_o_p_batch[:,:3, 3] /= 1000\n",
        "# T_c_p_batch = np.load(os.path.join(params_save_dir, 'T_c_p_opti1_0314.npy'))[:150]\n",
        "# # T_c_p_batch[:,:3, 3] /= 1000\n",
        "# X_matrix = np.load('../params/hand_eye_X_0314.npy')\n",
        "# # X_matrix[:3, 3] /= 1000\n",
        "# # X_batch = np.tile(X_matrix, [batch_size,1,1])[:40]\n",
        "\n",
        "\n",
        "# # Load into torch tensor\n",
        "# X_batch = torch.tensor(X_matrix)\n",
        "# T_o_p_batch = torch.tensor(T_o_p_batch)\n",
        "# T_o_cb_batch = torch.tensor(T_o_cb_batch)\n",
        "# T_c_p_batch = torch.tensor(T_c_p_batch)"
      ]
    },
    {
      "cell_type": "code",
      "execution_count": 14,
      "metadata": {
        "colab": {
          "base_uri": "https://localhost:8080/"
        },
        "id": "lbh1fFj-yOs4",
        "outputId": "ba72a33c-5d29-429e-c6b7-8b69fb57a246"
      },
      "outputs": [],
      "source": [
        "# ## test\n",
        "# from scipy.spatial.transform import Rotation as R\n",
        "\n",
        "# batch_size = 10\n",
        "# T_o_cb_batch = np.tile(np.eye(4), [batch_size,1,1])\n",
        "# T_o_p_batch = np.tile(np.eye(4), [batch_size,1,1])\n",
        "# T_c_p_batch = np.tile(np.eye(4), [batch_size,1,1])\n",
        "# # X_matrix = np.hstack((np.vstack((R.random().as_matrix(), np.zeros([1,3]))), np.ones([4,1])))\n",
        "# # X_batch = np.tile(X_matrix, [batch_size,1,1])\n",
        "# # X_batch[:, :3, 3] = 2\n",
        "# print(X_batch[:,:])\n",
        "# X_batch = torch.tensor(X_batch)\n",
        "# T_o_p_batch = torch.tensor(T_o_p_batch)\n",
        "# T_o_cb_batch = torch.tensor(T_o_cb_batch)\n",
        "# T_c_p_batch = torch.tensor(T_c_p_batch)"
      ]
    },
    {
      "cell_type": "code",
      "execution_count": 15,
      "metadata": {
        "id": "1vy3GDAbgpxj"
      },
      "outputs": [],
      "source": [
        "# # Create Transform3d objects from the batch of transformation matrices\n",
        "# T_o_cb = transforms.Transform3d(matrix=T_o_cb_batch, device=device)\n",
        "# X = transforms.Transform3d(matrix=X_batch, device=device)\n",
        "# T_o_p = transforms.Transform3d(matrix=T_o_p_batch, device=device)\n",
        "# T_c_p = transforms.Transform3d(matrix=T_c_p_batch, device=device)\n",
        "\n",
        "# # cam_gt: the ground truth camera pose w.r.t the optical tracker cam_gt = T_o_p * (T_c_p)^-1\n",
        "# cam_gt = T_o_cb.compose(X)\n",
        "\n",
        "# # cam_real: the camera pose from initial hand-eye calibration cam_real = T_o_cb * X\n",
        "# cam_real = T_o_p.compose(T_c_p.inverse())"
      ]
    },
    {
      "cell_type": "markdown",
      "metadata": {
        "id": "om0hsJi5S6Pl"
      },
      "source": [
        "## **Define optimization loss function**\n",
        "\n"
      ]
    },
    {
      "cell_type": "code",
      "execution_count": 16,
      "metadata": {
        "id": "pDA0vbgRSsD8"
      },
      "outputs": [],
      "source": [
        "# def camera_distance(hand_eye_real, hand_eye_gt):\n",
        "#   '''\n",
        "#   Calculate the l2 distance in se(3) manifold for the camera.\n",
        "#   distance = sum||log(hand_eye_real*hand_eye_gt)||_2\n",
        "#   '''\n",
        "\n",
        "#   # Convert a batch of 4x4 transformation matrices transform to \n",
        "#   # a batch of 6-dimensional SE(3) logarithms of the SE(3) matrices\n",
        "#   # print(hand_eye_real.compose(hand_eye_gt.inverse()).get_matrix())\n",
        "#   tmp_matrix = hand_eye_real.compose(hand_eye_gt.inverse()).get_matrix()\n",
        "#   vec = se3_log_map(tmp_matrix.permute(0,2,1)).sum(0)\n",
        "#   # print(torch.norm(vec))\n",
        "\n",
        "#   return torch.norm(vec)\n",
        "  \n",
        "\n",
        "# # camera_distance(cam_real, cam_gt)"
      ]
    },
    {
      "cell_type": "markdown",
      "metadata": {
        "id": "rHQaC9QHs5K5"
      },
      "source": [
        "## **Optimization**"
      ]
    },
    {
      "cell_type": "code",
      "execution_count": 21,
      "metadata": {
        "colab": {
          "base_uri": "https://localhost:8080/"
        },
        "id": "STvOIf2IxfG6",
        "outputId": "0a326309-aa65-40f3-8168-a2e9df4c1655"
      },
      "outputs": [],
      "source": [
        "# # Create Transform3d objects from the batch of transformation matrices\n",
        "# T_o_cb = transforms.Transform3d(matrix=T_o_cb_batch, device=device)\n",
        "# X = transforms.Transform3d(matrix=X_batch, device=device)\n",
        "# T_o_p = transforms.Transform3d(matrix=T_o_p_batch, device=device)\n",
        "# T_c_p = transforms.Transform3d(matrix=T_c_p_batch, device=device)\n",
        "\n",
        "# # hand_eye_real: the hand-eye transformation from initial calibration X\n",
        "# hand_eye_real_6D = se3_log_map(X.get_matrix().permute(0, 2, 1))\n",
        "# hand_eye_real_6D.requires_grad = True\n",
        "\n",
        "\n",
        "# # hand_eye_gt: the hand-eye transformation from the chain \n",
        "# # hand_eye_gt = (T_o_cb)^-1 * T_o_p * (T_c_p)^-1\n",
        "# hand_eye_gt = T_o_cb.inverse().compose(T_o_p).compose(T_c_p.inverse())\n",
        "\n",
        "# # init the optimizer\n",
        "# optimizer = torch.optim.SGD([hand_eye_real_6D], lr=.001, momentum=0.9)\n",
        "\n",
        "# # run the optimization\n",
        "# n_iter = 2000  # fix the number of iterations\n",
        "# for it in range(n_iter):\n",
        "#     # re-init the optimizer gradients\n",
        "#     optimizer.zero_grad()\n",
        "\n",
        "#     # transform the 6d vector into 4x4 matrix\n",
        "#     hand_eye_real = se3_exp_map(hand_eye_real_6D).permute(0, 2, 1)\n",
        "#     hand_eye_real = transforms.Transform3d(matrix=hand_eye_real, device=device)\n",
        "\n",
        "#     # compare the composed cameras with the ground truth relative cameras\n",
        "#     # camera_distance corresponds to $d$ from the description\n",
        "#     loss = \\\n",
        "#         camera_distance(hand_eye_real, hand_eye_gt)\n",
        "#     # loss.requires_grad_(True)\n",
        "\n",
        "#     # our loss function is the camera_distance\n",
        "#     loss.backward()\n",
        "    \n",
        "#     # apply the gradients\n",
        "#     optimizer.step()\n",
        "\n",
        "#     # # plot and print status message\n",
        "#     if it % 200==0 or it==n_iter-1:\n",
        "#         status = 'iteration=%3d; camera_distance=%1.3e' % (it, loss)\n",
        "#         print(status)\n",
        "        \n",
        "# print('Optimization finished.')\n"
      ]
    },
    {
      "cell_type": "markdown",
      "metadata": {
        "id": "ue0Yz1ZM_bVG"
      },
      "source": [
        "## **Pypose implementation**"
      ]
    },
    {
      "cell_type": "code",
      "execution_count": 6,
      "metadata": {
        "colab": {
          "base_uri": "https://localhost:8080/"
        },
        "id": "cHwar1t7_vlQ",
        "outputId": "94728a50-1b0a-4b15-d4f4-b95fb82b0e3b"
      },
      "outputs": [],
      "source": [
        "# !pip install pypose\n",
        "# !pip install seaborn"
      ]
    },
    {
      "cell_type": "code",
      "execution_count": 1,
      "metadata": {
        "id": "XHwVk3I7AJWz"
      },
      "outputs": [
        {
          "name": "stderr",
          "output_type": "stream",
          "text": [
            "/home/shc/anaconda3/envs/pytorch3d/lib/python3.9/site-packages/tqdm/auto.py:22: TqdmWarning: IProgress not found. Please update jupyter and ipywidgets. See https://ipywidgets.readthedocs.io/en/stable/user_install.html\n",
            "  from .autonotebook import tqdm as notebook_tqdm\n"
          ]
        }
      ],
      "source": [
        "import os\n",
        "import sys\n",
        "import numpy as np\n",
        "import torch, pypose as pp\n",
        "from torch import nn\n",
        "from scipy.spatial.transform import Rotation as R"
      ]
    },
    {
      "cell_type": "code",
      "execution_count": 2,
      "metadata": {
        "id": "efn4AgnkTlB3"
      },
      "outputs": [],
      "source": [
        "if torch.cuda.is_available():\n",
        "    device = torch.device(\"cuda:0\")\n",
        "else:\n",
        "    device = torch.device(\"cpu\")\n",
        "    print(\"WARNING: CPU only, this will be slow!\")"
      ]
    },
    {
      "cell_type": "markdown",
      "metadata": {
        "id": "zSkG7iFI2TAE"
      },
      "source": [
        "## **Data Preparation**"
      ]
    },
    {
      "cell_type": "code",
      "execution_count": 52,
      "metadata": {},
      "outputs": [],
      "source": [
        "# T_c_p_batch = np.load(os.path.join(params_save_dir, 'T_c_p_opti1_0314_.npy'))[:150]\n",
        "\n",
        "# T_c_p = pp.mat2SE3(T_c_p_batch)\n",
        "# # T_c_p @ pp.Inv(T_c_p_zed)\n",
        "\n",
        "# print([T_c_p[i][:3].norm().item() for i in range(150)],'\\n')\n",
        "# # print(T_c_p_batch[0],'\\n',T_c_p_batch_zed[0])"
      ]
    },
    {
      "cell_type": "code",
      "execution_count": 36,
      "metadata": {
        "id": "PoZzXm_s2Hhi"
      },
      "outputs": [
        {
          "name": "stdout",
          "output_type": "stream",
          "text": [
            "(150, 4, 4)\n",
            "tensor(121.0591, dtype=torch.float64)\n",
            "[133.06367056272612, 132.32764448980436, 132.4817366191953, 134.3751450624633, 132.4791945454538, 134.02245681428283, 135.63681599597973, 137.14964964754702, 133.38175008954738, 134.87682542727921, 134.05699103931494, 137.18385106296924, 133.37896762530931, 133.25457779518564, 133.07674589404928, 133.7986921944636, 134.68188212075603, 140.11023294209653, 170.65271228933193, 141.07317679473846, 136.0454293894779, 135.43038000924767, 136.60654276759215, 135.01244679643486, 135.26686631851436, 137.0936992865118, 137.65247570052875, 136.69624861360617, 136.9337576177709, 137.27631085280763, 137.38279297461125, 137.5035788223996, 137.06261868346866, 137.43098647242837, 137.3870051404889, 136.46828439873377, 136.67583519203097, 136.7688333267708, 136.53193733369883, 136.57286780029645, 137.18828564665486, 137.58849837551153, 138.14242859305273, 139.633334087152, 140.9628205271707, 173.46604154230783, 128.5722049793263, 133.57703685634812, 134.61218469754257, 136.085587702656, 136.27738677899558, 135.76393248961665, 135.50722450702162, 134.9407987668511, 134.79060062389775, 133.70286245355064, 133.83799552139683, 133.75786349824446, 133.53254618276767, 133.54268052376457, 133.92171161197027, 133.9956657381308, 134.10647971393547, 133.85466657314473, 133.65372936606934, 134.30113426391404, 134.2865161483639, 134.58879232986263, 134.91368551560006, 135.15680705083562, 135.36170234969768, 135.28916568011695, 135.08419067688402, 135.35326351002942, 135.99362021165942, 136.35568098484538, 136.75858895482412, 136.2940877419282, 135.95854133333665, 136.59617094271817, 136.42932967165893, 136.47275512250934, 135.86875132999108, 137.22943851433934, 136.32614716041007, 136.26817855430232, 136.8265911744756, 136.5147785791716, 137.09953587077578, 136.57302833791567, 136.59461020490434, 136.5454918304107, 137.08187393614122, 136.9414487486071, 136.6836369275936, 136.42611092428822, 136.9583661996513, 137.33272667634049, 137.40606324505438, 137.1057587283896, 137.63317537715466, 136.6387197759381, 136.1448573787902, 135.9331181099011, 135.7995366409451, 136.7058710928524, 136.1877831346065, 136.26711126359876, 136.83790042788257, 137.13972835197686, 137.4889655704931, 151.23180832672836, 157.99938296307468, 165.76654959575544, 163.7963386777053, 157.27726350792204, 142.40560109603436, 135.63639285130387, 136.1663596181286, 136.04680225144878, 135.99437156323452, 136.07618536450582, 136.06683826369513, 135.84842524344643, 136.01155167046915, 135.8268352014211, 135.18277333870785, 134.47971681270636, 134.64504064677612, 135.1837154628078, 135.2282983171401, 135.60110343653292, 134.98896980266323, 134.1257242531424, 133.35596978535094, 134.33971785061837, 134.41111378276094, 134.27959023425967, 134.2549594757913, 137.79922568605673, 133.57109741627337, 134.06734452433327, 133.74041400997473, 133.64508312778648, 134.17253248315265, 134.66946731886063, 134.7142896580607, 137.12003849754845, 134.6819099102707, 134.12657343385354] \n",
            "\n",
            "tensor([[ 5.1286e-02, -9.8990e-01, -1.3219e-01, -1.0880e+01],\n",
            "        [ 2.3161e-01, -1.1697e-01,  9.6575e-01,  1.1480e+02],\n",
            "        [-9.7146e-01, -8.0146e-02,  2.2327e-01,  6.4902e+01],\n",
            "        [ 0.0000e+00,  0.0000e+00,  0.0000e+00,  1.0000e+00]],\n",
            "       dtype=torch.float64)\n"
          ]
        },
        {
          "name": "stderr",
          "output_type": "stream",
          "text": [
            "/home/shc/anaconda3/envs/pytorch3d/lib/python3.9/site-packages/pypose/lietensor/lietensor.py:918: UserWarning: Tensor Shape Invalid by calling <slot wrapper '__getitem__' of 'torch._C._TensorBase' objects>, go to https://pypose.org/docs/main/generated/pypose.LieTensor\n",
            "  warnings.warn('Tensor Shape Invalid by calling {}, ' \\\n",
            "/tmp/ipykernel_12920/3707210641.py:29: UserWarning: \n",
            "\n",
            "`distplot` is a deprecated function and will be removed in seaborn v0.14.0.\n",
            "\n",
            "Please adapt your code to use either `displot` (a figure-level function with\n",
            "similar flexibility) or `histplot` (an axes-level function for histograms).\n",
            "\n",
            "For a guide to updating your code to use the new functions, please see\n",
            "https://gist.github.com/mwaskom/de44147ed2974457ad6372750bbe5751\n",
            "\n",
            "  seaborn.distplot(displacement)\n"
          ]
        },
        {
          "data": {
            "text/plain": [
              "<Axes: ylabel='Density'>"
            ]
          },
          "execution_count": 36,
          "metadata": {},
          "output_type": "execute_result"
        },
        {
          "data": {
            "image/png": "[encoded data removed]",
            "text/plain": [
              "<Figure size 640x480 with 1 Axes>"
            ]
          },
          "metadata": {},
          "output_type": "display_data"
        }
      ],
      "source": [
        "# # Load the matrices\n",
        "params_save_dir = '../data/post_optimization_data/'\n",
        "num_poses = 150\n",
        "date = '0321'\n",
        "T_o_cb_batch = np.load(os.path.join(params_save_dir, f'T_o_cb_opti1_{date}.npy'))[:num_poses]\n",
        "# T_o_cb_batch[:,:3, 3] /= 1000 \n",
        "batch_size = T_o_cb_batch.shape[0]\n",
        "T_o_p_batch = np.load(os.path.join(params_save_dir, f'T_o_p_opti1_{date}.npy'))[:num_poses]\n",
        "# T_o_p_batch[:,:3, 3] /= 1000\n",
        "T_c_p_batch = np.load(os.path.join(params_save_dir, f'T_c_p_opti1_{date}.npy'))[:num_poses]\n",
        "# T_c_p_batch[:,:3, 3] /= 1000\n",
        "X_matrix = np.load('../params/hand_eye_X_0321.npy')\n",
        "# X_matrix[:3, 3] /= 1000\n",
        "# X_batch = np.tile(X_matrix, [batch_size,1,1])[:40]\n",
        "\n",
        "# convert to pp tensor\n",
        "X = pp.mat2SE3(X_matrix)\n",
        "T_o_p = pp.mat2SE3(T_o_p_batch)\n",
        "T_o_cb = pp.mat2SE3(T_o_cb_batch)\n",
        "T_c_p = pp.mat2SE3(T_c_p_batch)\n",
        "# print(np.linalg.norm(X_batch[1, :3,3]))\n",
        "print(X[:3].norm())\n",
        "\n",
        "hand_eye_gt = pp.Inv(T_o_cb) * T_o_p * pp.Inv(T_c_p)\n",
        "displacement = [hand_eye_gt[i][:3].norm().item() for i in range(num_poses)]\n",
        "print(displacement,'\\n')\n",
        "print(hand_eye_gt[1].matrix())\n",
        "import seaborn\n",
        "seaborn.distplot(displacement)"
      ]
    },
    {
      "cell_type": "code",
      "execution_count": 33,
      "metadata": {
        "colab": {
          "base_uri": "https://localhost:8080/"
        },
        "id": "33skIGPvAgcG",
        "outputId": "549c1692-ecde-4aee-bea1-5dcefe9b6b53"
      },
      "outputs": [],
      "source": [
        "# # test\n",
        "# batch_size = 800\n",
        "# T_o_cb_batch = np.tile(np.eye(4), [batch_size,1,1])\n",
        "# T_o_p_batch = np.tile(np.eye(4), [batch_size,1,1])\n",
        "# T_c_p_batch = np.tile(np.eye(4), [batch_size,1,1])\n",
        "# X_matrix = np.hstack((np.vstack((R.random().as_matrix(), np.zeros([1,3]))), np.ones([4,1])))\n",
        "# X_batch = np.tile(X_matrix, [batch_size,1,1])\n",
        "# X_batch[:, :3, 3] = 2.5\n",
        "\n",
        "# print(X_batch[1, :,:])\n",
        "\n",
        "# # convert to pp tensor\n",
        "# X = pp.mat2SE3(X_batch)\n",
        "# T_o_p = pp.mat2SE3(T_o_p_batch)\n",
        "# T_o_cb = pp.mat2SE3(T_o_cb_batch)\n",
        "# T_c_p = pp.mat2SE3(T_c_p_batch)\n",
        "# # print(X_batch[1,...])\n",
        "# # print(X_batch @ pp.Inv(X_batch))"
      ]
    },
    {
      "cell_type": "markdown",
      "metadata": {
        "id": "_p3m2c_51-ON"
      },
      "source": [
        "## **Optimization**"
      ]
    },
    {
      "cell_type": "code",
      "execution_count": 25,
      "metadata": {
        "id": "9GqcVTBSY-Sy"
      },
      "outputs": [],
      "source": [
        "class CamDis(nn.Module):\n",
        "    def __init__(self, hand_eye_real_6D):\n",
        "        super().__init__()\n",
        "        self.real = pp.Parameter(hand_eye_real_6D)\n",
        "\n",
        "    def forward(self, input):\n",
        "        # input hand_eye_gt\n",
        "        hand_eye_real = self.real.Exp()\n",
        "        # tmp_quats = hand_eye_real * pp.Inv(input) #?????????????????\n",
        "        tmp_quats = pp.Inv(hand_eye_real) * input \n",
        "        vec = tmp_quats.Log()\n",
        "        # t = vec[:, :3]\n",
        "        # t = torch.norm(t, dim=1)\n",
        "        # rot_vec = vec[:, 3:]\n",
        "        # rot_vec = torch.norm(rot_vec, dim=1)\n",
        "        # return t.mean() + rot_vec.mean() #+ (X.to(device)[:3] - hand_eye_real[:3]).norm()\n",
        "        # return t.norm() + (X[:3] - hand_eye_real[:3]).norm()\n",
        "        # print(vec)\n",
        "        return vec"
      ]
    },
    {
      "cell_type": "code",
      "execution_count": 26,
      "metadata": {
        "colab": {
          "base_uri": "https://localhost:8080/"
        },
        "id": "AJomeMEsVpw5",
        "outputId": "27b5ee7c-9336-48fa-ef72-316e35185c2f"
      },
      "outputs": [
        {
          "name": "stderr",
          "output_type": "stream",
          "text": [
            "/home/shc/anaconda3/envs/pytorch3d/lib/python3.9/site-packages/pypose/lietensor/lietensor.py:918: UserWarning: Tensor Shape Invalid by calling <method 'reshape' of 'torch._C._TensorBase' objects>, go to https://pypose.org/docs/main/generated/pypose.LieTensor\n",
            "  warnings.warn('Tensor Shape Invalid by calling {}, ' \\\n",
            "/home/shc/anaconda3/envs/pytorch3d/lib/python3.9/site-packages/pypose/lietensor/lietensor.py:918: UserWarning: Tensor Shape Invalid by calling <method 'view' of 'torch._C._TensorBase' objects>, go to https://pypose.org/docs/main/generated/pypose.LieTensor\n",
            "  warnings.warn('Tensor Shape Invalid by calling {}, ' \\\n"
          ]
        },
        {
          "name": "stdout",
          "output_type": "stream",
          "text": [
            "iteration=  0; camera_distance=3.111e+04\n",
            "iteration=100; camera_distance=3.100e+04\n",
            "iteration=200; camera_distance=3.100e+04\n",
            "iteration=300; camera_distance=3.100e+04\n",
            "iteration=400; camera_distance=3.100e+04\n",
            "iteration=499; camera_distance=3.100e+04\n",
            "The final result:\n",
            " SE3Type LieTensor:\n",
            "LieTensor([-14.5421, 113.2796,  74.2104,  -0.5506,   0.2556,   0.6555,   0.4494],\n",
            "          device='cuda:0', dtype=torch.float64, grad_fn=<AliasBackward0>)\n",
            "Optimization finished.\n"
          ]
        }
      ],
      "source": [
        "# hand_eye_real: the hand-eye transformation from initial calibration X\n",
        "\n",
        "hand_eye_real = X.clone().detach()\n",
        "hand_eye_real_6D = hand_eye_real.Log()\n",
        "# hand_eye_gt: the hand-eye transformation from the chain \n",
        "# hand_eye_gt = (T_o_cb)^-1 * T_o_p * (T_c_p)^-1\n",
        "hand_eye_gt = pp.Inv(T_o_cb) * T_o_p * pp.Inv(T_c_p)\n",
        "# hand_eye_inv_gt = T_c_p @ pp.Inv(T_o_p) @ T_o_cb\n",
        "hand_eye_gt = hand_eye_gt.clone().detach()\n",
        "\n",
        "\n",
        "# init the optimizer\n",
        "camera_distance = CamDis(hand_eye_real_6D).to(device)\n",
        "# input = hand_eye_gt.to(device)\n",
        "input = hand_eye_gt.to(device)\n",
        "# strategy = pp.optim.strategy.Adaptive(damping=1e-6)\n",
        "strategy = pp.optim.strategy.TrustRegion(radius=1e3)\n",
        "optimizer = pp.optim.LM(camera_distance, strategy=strategy)\n",
        "# run the optimization\n",
        "n_iter = 500  # fix the number of iterations1\n",
        "for it in range(n_iter):\n",
        "    loss = optimizer.step(input)\n",
        "    # print(loss)\n",
        "    # # plot and print status message\n",
        "    if it % 100==0 or it==n_iter-1:\n",
        "        status = 'iteration=%3d; camera_distance=%1.3e' % (it, loss-5643)\n",
        "        print(status)\n",
        "        # print(camera_distance.real.Exp())\n",
        "    if loss < 1e-4:\n",
        "        print('Early Stopping with loss:', loss.item())\n",
        "        break\n",
        "res = camera_distance.real.Exp()\n",
        "print('The final result:\\n', res)\n",
        "print('Optimization finished.')\n"
      ]
    },
    {
      "cell_type": "code",
      "execution_count": 27,
      "metadata": {},
      "outputs": [
        {
          "name": "stdout",
          "output_type": "stream",
          "text": [
            "initial X:\n",
            " SE3Type LieTensor:\n",
            "LieTensor([ -5.4306, 102.3794,  64.3761,  -0.4864,   0.3939,   0.5690,   0.5333],\n",
            "          device='cuda:0', dtype=torch.float64)\n",
            "optimization result:\n",
            " SE3Type LieTensor:\n",
            "LieTensor([-14.5421, 113.2796,  74.2104,  -0.5506,   0.2556,   0.6555,   0.4494],\n",
            "          device='cuda:0', dtype=torch.float64, grad_fn=<AliasBackward0>)\n",
            "121.0591357758365\n",
            "136.20173882595404\n"
          ]
        },
        {
          "name": "stderr",
          "output_type": "stream",
          "text": [
            "/home/shc/anaconda3/envs/pytorch3d/lib/python3.9/site-packages/pypose/lietensor/lietensor.py:918: UserWarning: Tensor Shape Invalid by calling <slot wrapper '__getitem__' of 'torch._C._TensorBase' objects>, go to https://pypose.org/docs/main/generated/pypose.LieTensor\n",
            "  warnings.warn('Tensor Shape Invalid by calling {}, ' \\\n"
          ]
        }
      ],
      "source": [
        "X = X.to(device)\n",
        "\n",
        "print('initial X:\\n', X)\n",
        "print('optimization result:\\n', res)\n",
        "print(X[:3].norm().item())\n",
        "print(res[:3].norm().item())\n"
      ]
    },
    {
      "cell_type": "code",
      "execution_count": 28,
      "metadata": {},
      "outputs": [
        {
          "name": "stdout",
          "output_type": "stream",
          "text": [
            "tensor([[ 4.2028e-02, -9.9016e-01, -1.3345e-01, -5.4306e+00],\n",
            "        [ 2.2364e-01, -1.2085e-01,  9.6715e-01,  1.0238e+02],\n",
            "        [-9.7377e-01, -7.0491e-02,  2.1636e-01,  6.4376e+01],\n",
            "        [ 0.0000e+00,  0.0000e+00,  0.0000e+00,  1.0000e+00]], device='cuda:0',\n",
            "       dtype=torch.float64) \n",
            " tensor([[ 4.2535e-04, -3.0467e-01,  1.2697e-01, -1.9494e+02],\n",
            "        [-1.9468e-01,  5.6259e-02, -1.5456e-01,  5.3169e+03],\n",
            "        [ 4.7916e-01, -5.8496e-02,  5.6932e-02, -7.7693e+03],\n",
            "        [ 0.0000e+00,  0.0000e+00,  0.0000e+00,  1.0000e+00]], device='cuda:0',\n",
            "       dtype=torch.float64, grad_fn=<MulBackward0>)\n",
            "tensor([[ 1.0121e-02, -8.7050e-01, -4.9207e-01, -1.4542e+01],\n",
            "        [ 3.0770e-01, -4.6551e-01,  8.2983e-01,  1.1328e+02],\n",
            "        [-9.5143e-01, -1.5981e-01,  2.6314e-01,  7.4210e+01],\n",
            "        [ 0.0000e+00,  0.0000e+00,  0.0000e+00,  1.0000e+00]], device='cuda:0',\n",
            "       dtype=torch.float64, grad_fn=<TransposeBackward0>)\n"
          ]
        }
      ],
      "source": [
        "\n",
        "print(pp.matrix(X),'\\n', pp.matrix(pp.Inv(res))* pp.matrix(X))\n",
        "print(res.matrix())\n",
        "# print(input[10].matrix())"
      ]
    },
    {
      "cell_type": "code",
      "execution_count": 29,
      "metadata": {},
      "outputs": [],
      "source": [
        "opX = res.matrix().to('cpu').detach().numpy()\n",
        "# opX = np.array([[ 6.5548e-02, -9.7166e-01,  2.2711e-01,  9.7073e+00],\n",
        "#         [ 3.0286e-01,  2.3624e-01,  9.2329e-01,  1.0783e+02],\n",
        "#         [-9.5078e-01,  8.2638e-03,  3.0977e-01,  7.9392e+01],\n",
        "#         [ 0.0000e+00,  0.0000e+00,  0.0000e+00,  1.0000e+00]])\n",
        "# opX[:3, 3] *= 1000\n",
        "# np.save('/home/shc/Desktop/data/0314/handeye_1/new_X.npy', opX)\n",
        "np.save('/home/shc/Twin-S/params/hand_eye_X_optimized_0321.npy', opX)"
      ]
    }
  ],
  "metadata": {
    "accelerator": "GPU",
    "colab": {
      "collapsed_sections": [
        "nAQY4EnHmFoX",
        "om0hsJi5S6Pl",
        "rHQaC9QHs5K5"
      ],
      "provenance": []
    },
    "gpuClass": "standard",
    "kernelspec": {
      "display_name": "pytorch3d",
      "language": "python",
      "name": "python3"
    },
    "language_info": {
      "codemirror_mode": {
        "name": "ipython",
        "version": 3
      },
      "file_extension": ".py",
      "mimetype": "text/x-python",
      "name": "python",
      "nbconvert_exporter": "python",
      "pygments_lexer": "ipython3",
      "version": "3.9.16"
    },
    "vscode": {
      "interpreter": {
        "hash": "0ce49f5ef5efef132947d6c894613f203ae812a6bb9ec04c63c99638f20d472f"
      }
    }
  },
  "nbformat": 4,
  "nbformat_minor": 0
}
