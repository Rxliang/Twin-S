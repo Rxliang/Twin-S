{
  "cells": [
    {
      "cell_type": "markdown",
      "metadata": {
        "id": "nAQY4EnHmFoX"
      },
      "source": [
        "## 0. Install and Import Modules"
      ]
    },
    {
      "cell_type": "markdown",
      "metadata": {
        "id": "WAHR1LMJmP-h"
      },
      "source": [
        "Ensure `torch` and `torchvision` are installed. If `pytorch3d` is not installed, install it using the following cell:"
      ]
    },
    {
      "cell_type": "code",
      "execution_count": 22,
      "metadata": {
        "colab": {
          "base_uri": "https://localhost:8080/"
        },
        "id": "uo7a3gdImMZx",
        "outputId": "59a23be5-a181-4789-e92f-defa24475895"
      },
      "outputs": [],
      "source": [
        "# import os\n",
        "# import sys\n",
        "# import torch\n",
        "# need_pytorch3d=False\n",
        "# try:\n",
        "#     import pytorch3d\n",
        "# except ModuleNotFoundError:\n",
        "#     need_pytorch3d=True\n",
        "# if need_pytorch3d:\n",
        "#     if torch.__version__.startswith(\"1.13.\") and sys.platform.startswith(\"linux\"):\n",
        "#         # We try to install PyTorch3D via a released wheel.\n",
        "#         pyt_version_str=torch.__version__.split(\"+\")[0].replace(\".\", \"\")\n",
        "#         version_str=\"\".join([\n",
        "#             f\"py3{sys.version_info.minor}_cu\",\n",
        "#             torch.version.cuda.replace(\".\",\"\"),\n",
        "#             f\"_pyt{pyt_version_str}\"\n",
        "#         ])\n",
        "#         !pip install fvcore iopath\n",
        "#         !pip install --no-index --no-cache-dir pytorch3d -f https://dl.fbaipublicfiles.com/pytorch3d/packaging/wheels/{version_str}/download.html\n",
        "#     else:\n",
        "#         # We try to install PyTorch3D from source.\n",
        "#         !curl -LO https://github.com/NVIDIA/cub/archive/1.10.0.tar.gz\n",
        "#         !tar xzf 1.10.0.tar.gz\n",
        "#         os.environ[\"CUB_HOME\"] = os.getcwd() + \"/cub-1.10.0\"\n",
        "#         !pip install 'git+https://github.com/facebookresearch/pytorch3d.git@stable'"
      ]
    },
    {
      "cell_type": "code",
      "execution_count": 5,
      "metadata": {
        "id": "UgLa7XQimFoY"
      },
      "outputs": [],
      "source": [
        "# # imports\n",
        "# import numpy as np\n",
        "# import torch\n",
        "# from pytorch3d.transforms.so3 import (\n",
        "#     so3_exp_map,\n",
        "#     so3_relative_angle,\n",
        "# )\n",
        "# from pytorch3d.transforms.se3 import (\n",
        "#     se3_exp_map,\n",
        "#     se3_log_map,\n",
        "# )\n",
        "\n",
        "# import pytorch3d.transforms as transforms\n",
        "    \n",
        "# # add path for demo utils\n",
        "# import sys\n",
        "# import os\n",
        "# sys.path.append(os.path.abspath(''))\n",
        "\n",
        "# # set for reproducibility\n",
        "# torch.manual_seed(42)\n",
        "# if torch.cuda.is_available():\n",
        "#     device = torch.device(\"cuda:0\")\n",
        "# else:\n",
        "#     device = torch.device(\"cpu\")\n",
        "#     print(\"WARNING: CPU only, this will be slow!\")"
      ]
    },
    {
      "cell_type": "markdown",
      "metadata": {
        "id": "GjJHXNjKglfN"
      },
      "source": [
        "## **Data preparation**"
      ]
    },
    {
      "cell_type": "code",
      "execution_count": null,
      "metadata": {
        "id": "p_-eCm8alLqz"
      },
      "outputs": [],
      "source": [
        "# # Load the matrices \n",
        "# T_o_cb_batch = np.load('')\n",
        "# batch_size = T_o_cb_batch.shape[0]\n",
        "# T_o_p_batch = np.load('')\n",
        "# T_c_p_batch = np.load('')\n",
        "# X_matrix = np.load('')\n",
        "# X_batch = np.tile(X_matrix, [batch_size,1,1])\n",
        "\n",
        "# # Load into torch tensor\n",
        "# X_batch = torch.tensor(X_batch)\n",
        "# T_o_p_batch = torch.tensor(T_o_p_batch)\n",
        "# T_o_cb_batch = torch.tensor(T_o_cb_batch)\n",
        "# T_c_p_batch = torch.tensor(T_c_p_batch)"
      ]
    },
    {
      "cell_type": "code",
      "execution_count": 13,
      "metadata": {},
      "outputs": [],
      "source": [
        "# # # Load the matrices\n",
        "# params_save_dir = '../data/post_optimization_data/'\n",
        "\n",
        "# T_o_cb_batch = np.load(os.path.join(params_save_dir, 'T_o_cb_opti1_0314.npy'))[:150]\n",
        "# # T_o_cb_batch[:,:3, 3] /= 1000 \n",
        "# batch_size = T_o_cb_batch.shape[0]\n",
        "# T_o_p_batch = np.load(os.path.join(params_save_dir, 'T_o_p_opti1_0314.npy'))[:150]\n",
        "# # T_o_p_batch[:,:3, 3] /= 1000\n",
        "# T_c_p_batch = np.load(os.path.join(params_save_dir, 'T_c_p_opti1_0314.npy'))[:150]\n",
        "# # T_c_p_batch[:,:3, 3] /= 1000\n",
        "# X_matrix = np.load('../params/hand_eye_X_0314.npy')\n",
        "# # X_matrix[:3, 3] /= 1000\n",
        "# # X_batch = np.tile(X_matrix, [batch_size,1,1])[:40]\n",
        "\n",
        "\n",
        "# # Load into torch tensor\n",
        "# X_batch = torch.tensor(X_matrix)\n",
        "# T_o_p_batch = torch.tensor(T_o_p_batch)\n",
        "# T_o_cb_batch = torch.tensor(T_o_cb_batch)\n",
        "# T_c_p_batch = torch.tensor(T_c_p_batch)"
      ]
    },
    {
      "cell_type": "code",
      "execution_count": 14,
      "metadata": {
        "colab": {
          "base_uri": "https://localhost:8080/"
        },
        "id": "lbh1fFj-yOs4",
        "outputId": "ba72a33c-5d29-429e-c6b7-8b69fb57a246"
      },
      "outputs": [],
      "source": [
        "# ## test\n",
        "# from scipy.spatial.transform import Rotation as R\n",
        "\n",
        "# batch_size = 10\n",
        "# T_o_cb_batch = np.tile(np.eye(4), [batch_size,1,1])\n",
        "# T_o_p_batch = np.tile(np.eye(4), [batch_size,1,1])\n",
        "# T_c_p_batch = np.tile(np.eye(4), [batch_size,1,1])\n",
        "# # X_matrix = np.hstack((np.vstack((R.random().as_matrix(), np.zeros([1,3]))), np.ones([4,1])))\n",
        "# # X_batch = np.tile(X_matrix, [batch_size,1,1])\n",
        "# # X_batch[:, :3, 3] = 2\n",
        "# print(X_batch[:,:])\n",
        "# X_batch = torch.tensor(X_batch)\n",
        "# T_o_p_batch = torch.tensor(T_o_p_batch)\n",
        "# T_o_cb_batch = torch.tensor(T_o_cb_batch)\n",
        "# T_c_p_batch = torch.tensor(T_c_p_batch)"
      ]
    },
    {
      "cell_type": "code",
      "execution_count": 15,
      "metadata": {
        "id": "1vy3GDAbgpxj"
      },
      "outputs": [],
      "source": [
        "# # Create Transform3d objects from the batch of transformation matrices\n",
        "# T_o_cb = transforms.Transform3d(matrix=T_o_cb_batch, device=device)\n",
        "# X = transforms.Transform3d(matrix=X_batch, device=device)\n",
        "# T_o_p = transforms.Transform3d(matrix=T_o_p_batch, device=device)\n",
        "# T_c_p = transforms.Transform3d(matrix=T_c_p_batch, device=device)\n",
        "\n",
        "# # cam_gt: the ground truth camera pose w.r.t the optical tracker cam_gt = T_o_p * (T_c_p)^-1\n",
        "# cam_gt = T_o_cb.compose(X)\n",
        "\n",
        "# # cam_real: the camera pose from initial hand-eye calibration cam_real = T_o_cb * X\n",
        "# cam_real = T_o_p.compose(T_c_p.inverse())"
      ]
    },
    {
      "cell_type": "markdown",
      "metadata": {
        "id": "om0hsJi5S6Pl"
      },
      "source": [
        "## **Define optimization loss function**\n",
        "\n"
      ]
    },
    {
      "cell_type": "code",
      "execution_count": 16,
      "metadata": {
        "id": "pDA0vbgRSsD8"
      },
      "outputs": [],
      "source": [
        "# def camera_distance(hand_eye_real, hand_eye_gt):\n",
        "#   '''\n",
        "#   Calculate the l2 distance in se(3) manifold for the camera.\n",
        "#   distance = sum||log(hand_eye_real*hand_eye_gt)||_2\n",
        "#   '''\n",
        "\n",
        "#   # Convert a batch of 4x4 transformation matrices transform to \n",
        "#   # a batch of 6-dimensional SE(3) logarithms of the SE(3) matrices\n",
        "#   # print(hand_eye_real.compose(hand_eye_gt.inverse()).get_matrix())\n",
        "#   tmp_matrix = hand_eye_real.compose(hand_eye_gt.inverse()).get_matrix()\n",
        "#   vec = se3_log_map(tmp_matrix.permute(0,2,1)).sum(0)\n",
        "#   # print(torch.norm(vec))\n",
        "\n",
        "#   return torch.norm(vec)\n",
        "  \n",
        "\n",
        "# # camera_distance(cam_real, cam_gt)"
      ]
    },
    {
      "cell_type": "markdown",
      "metadata": {
        "id": "rHQaC9QHs5K5"
      },
      "source": [
        "## **Optimization**"
      ]
    },
    {
      "cell_type": "code",
      "execution_count": 21,
      "metadata": {
        "colab": {
          "base_uri": "https://localhost:8080/"
        },
        "id": "STvOIf2IxfG6",
        "outputId": "0a326309-aa65-40f3-8168-a2e9df4c1655"
      },
      "outputs": [],
      "source": [
        "# # Create Transform3d objects from the batch of transformation matrices\n",
        "# T_o_cb = transforms.Transform3d(matrix=T_o_cb_batch, device=device)\n",
        "# X = transforms.Transform3d(matrix=X_batch, device=device)\n",
        "# T_o_p = transforms.Transform3d(matrix=T_o_p_batch, device=device)\n",
        "# T_c_p = transforms.Transform3d(matrix=T_c_p_batch, device=device)\n",
        "\n",
        "# # hand_eye_real: the hand-eye transformation from initial calibration X\n",
        "# hand_eye_real_6D = se3_log_map(X.get_matrix().permute(0, 2, 1))\n",
        "# hand_eye_real_6D.requires_grad = True\n",
        "\n",
        "\n",
        "# # hand_eye_gt: the hand-eye transformation from the chain \n",
        "# # hand_eye_gt = (T_o_cb)^-1 * T_o_p * (T_c_p)^-1\n",
        "# hand_eye_gt = T_o_cb.inverse().compose(T_o_p).compose(T_c_p.inverse())\n",
        "\n",
        "# # init the optimizer\n",
        "# optimizer = torch.optim.SGD([hand_eye_real_6D], lr=.001, momentum=0.9)\n",
        "\n",
        "# # run the optimization\n",
        "# n_iter = 2000  # fix the number of iterations\n",
        "# for it in range(n_iter):\n",
        "#     # re-init the optimizer gradients\n",
        "#     optimizer.zero_grad()\n",
        "\n",
        "#     # transform the 6d vector into 4x4 matrix\n",
        "#     hand_eye_real = se3_exp_map(hand_eye_real_6D).permute(0, 2, 1)\n",
        "#     hand_eye_real = transforms.Transform3d(matrix=hand_eye_real, device=device)\n",
        "\n",
        "#     # compare the composed cameras with the ground truth relative cameras\n",
        "#     # camera_distance corresponds to $d$ from the description\n",
        "#     loss = \\\n",
        "#         camera_distance(hand_eye_real, hand_eye_gt)\n",
        "#     # loss.requires_grad_(True)\n",
        "\n",
        "#     # our loss function is the camera_distance\n",
        "#     loss.backward()\n",
        "    \n",
        "#     # apply the gradients\n",
        "#     optimizer.step()\n",
        "\n",
        "#     # # plot and print status message\n",
        "#     if it % 200==0 or it==n_iter-1:\n",
        "#         status = 'iteration=%3d; camera_distance=%1.3e' % (it, loss)\n",
        "#         print(status)\n",
        "        \n",
        "# print('Optimization finished.')\n"
      ]
    },
    {
      "cell_type": "markdown",
      "metadata": {
        "id": "ue0Yz1ZM_bVG"
      },
      "source": [
        "## **Pypose implementation**"
      ]
    },
    {
      "cell_type": "code",
      "execution_count": 6,
      "metadata": {
        "colab": {
          "base_uri": "https://localhost:8080/"
        },
        "id": "cHwar1t7_vlQ",
        "outputId": "94728a50-1b0a-4b15-d4f4-b95fb82b0e3b"
      },
      "outputs": [],
      "source": [
        "# !pip install pypose\n",
        "# !pip install seaborn"
      ]
    },
    {
      "cell_type": "code",
      "execution_count": 1,
      "metadata": {
        "id": "XHwVk3I7AJWz"
      },
      "outputs": [
        {
          "name": "stderr",
          "output_type": "stream",
          "text": [
            "/home/shc/anaconda3/envs/pytorch3d/lib/python3.9/site-packages/tqdm/auto.py:22: TqdmWarning: IProgress not found. Please update jupyter and ipywidgets. See https://ipywidgets.readthedocs.io/en/stable/user_install.html\n",
            "  from .autonotebook import tqdm as notebook_tqdm\n"
          ]
        }
      ],
      "source": [
        "import os\n",
        "import sys\n",
        "import numpy as np\n",
        "import torch, pypose as pp\n",
        "from torch import nn\n",
        "import seaborn\n",
        "from scipy.spatial.transform import Rotation as R"
      ]
    },
    {
      "cell_type": "code",
      "execution_count": 2,
      "metadata": {
        "id": "efn4AgnkTlB3"
      },
      "outputs": [],
      "source": [
        "if torch.cuda.is_available():\n",
        "    device = torch.device(\"cuda:0\")\n",
        "else:\n",
        "    device = torch.device(\"cpu\")\n",
        "    print(\"WARNING: CPU only, this will be slow!\")"
      ]
    },
    {
      "cell_type": "markdown",
      "metadata": {
        "id": "zSkG7iFI2TAE"
      },
      "source": [
        "## **Data Preparation**"
      ]
    },
    {
      "cell_type": "code",
      "execution_count": 3,
      "metadata": {},
      "outputs": [],
      "source": [
        "def inv(trans):\n",
        "        '''\n",
        "        Inverse of the SE(3) transformation.\n",
        "        '''\n",
        "        R = trans[:3, :3]\n",
        "        t = trans[:3, 3].reshape(3, 1)\n",
        "        R_new = R.T\n",
        "        t_new = -R.T@t\n",
        "        inv_trans = np.vstack((np.hstack((R_new, t_new)), np.array([0,0,0,1])))\n",
        "        return inv_trans"
      ]
    },
    {
      "cell_type": "code",
      "execution_count": 31,
      "metadata": {
        "id": "PoZzXm_s2Hhi"
      },
      "outputs": [
        {
          "name": "stdout",
          "output_type": "stream",
          "text": [
            "tensor(128.6862, dtype=torch.float64)\n",
            "135\n"
          ]
        },
        {
          "name": "stderr",
          "output_type": "stream",
          "text": [
            "/home/shc/anaconda3/envs/pytorch3d/lib/python3.9/site-packages/pypose/lietensor/lietensor.py:918: UserWarning: Tensor Shape Invalid by calling <slot wrapper '__getitem__' of 'torch._C._TensorBase' objects>, go to https://pypose.org/docs/main/generated/pypose.LieTensor\n",
            "  warnings.warn('Tensor Shape Invalid by calling {}, ' \\\n",
            "/tmp/ipykernel_7412/3662793954.py:46: UserWarning: \n",
            "\n",
            "`distplot` is a deprecated function and will be removed in seaborn v0.14.0.\n",
            "\n",
            "Please adapt your code to use either `displot` (a figure-level function with\n",
            "similar flexibility) or `histplot` (an axes-level function for histograms).\n",
            "\n",
            "For a guide to updating your code to use the new functions, please see\n",
            "https://gist.github.com/mwaskom/de44147ed2974457ad6372750bbe5751\n",
            "\n",
            "  seaborn.distplot(dis_list)\n"
          ]
        },
        {
          "data": {
            "image/png": "[encoded data removed]",
            "text/plain": [
              "<Figure size 640x480 with 1 Axes>"
            ]
          },
          "metadata": {},
          "output_type": "display_data"
        }
      ],
      "source": [
        "# # Load the matrices\n",
        "params_save_dir = '../data/post_optimization_data/'\n",
        "lower_bound = 0\n",
        "num_poses = 300\n",
        "opti_num = 1\n",
        "date = '0411'\n",
        "T_o_cb_batch = np.load(os.path.join(params_save_dir, f'T_o_cb_opti{opti_num}_{date}.npy'))[lower_bound:num_poses]\n",
        "# T_o_cb_batch[:,:3, 3] /= 1000 \n",
        "batch_size = T_o_cb_batch.shape[0]\n",
        "T_o_p_batch = np.load(os.path.join(params_save_dir, f'T_o_p_opti{opti_num}_{date}.npy'))[lower_bound:num_poses]\n",
        "# T_o_p_batch[:,:3, 3] /= 1000\n",
        "T_c_p_batch = np.load(os.path.join(params_save_dir, f'T_c_p_opti{opti_num}_{date}.npy'))[lower_bound:num_poses]\n",
        "# T_c_p_batch[:,:3, 3] /= 1000\n",
        "X_matrix = np.load(f'../params/hand_eye_X_{date}.npy')\n",
        "# X_matrix[:3, 3] /= 1000\n",
        "# X_batch = np.tile(X_matrix, [batch_size,1,1])[:40]\n",
        "\n",
        "# convert to pp tensor\n",
        "X = pp.mat2SE3(X_matrix)\n",
        "# T_o_p = pp.mat2SE3(T_o_p_batch)\n",
        "# T_o_cb = pp.mat2SE3(T_o_cb_batch)\n",
        "# T_c_p = pp.mat2SE3(T_c_p_batch)\n",
        "print(X[:3].norm())\n",
        "\n",
        "# hand_eye_gt = pp.Inv(T_o_cb) * T_o_p * pp.Inv(T_c_p)\n",
        "# displacement = [hand_eye_gt[i][:3].norm().item() for i in range(num_poses-lower_bound)]\n",
        "# print(np.mean(displacement))\n",
        "# print(displacement,'\\n')\n",
        "# seaborn.distplot(displacement)\n",
        "\n",
        "# clean up the data\n",
        "dis_list = []\n",
        "i = 0\n",
        "while True:\n",
        "    hand_eye_gt = inv(T_o_cb_batch[i]) @ T_o_p_batch[i] @ inv(T_c_p_batch[i])\n",
        "    dis= np.linalg.norm(hand_eye_gt[:3, 3])\n",
        "    if dis <= 137 or dis >= 139:\n",
        "        T_o_cb_batch = np.delete(T_o_cb_batch, i, 0)\n",
        "        T_o_p_batch = np.delete(T_o_p_batch, i, 0)\n",
        "        T_c_p_batch = np.delete(T_c_p_batch, i, 0)\n",
        "    else:\n",
        "        i += 1\n",
        "        dis_list.append(dis)\n",
        "    if i == T_c_p_batch.shape[0]:\n",
        "        break\n",
        "seaborn.distplot(dis_list)\n",
        "\n",
        "batch_size = T_o_cb_batch.shape[0]\n",
        "T_o_p = pp.mat2SE3(T_o_p_batch)\n",
        "T_o_cb = pp.mat2SE3(T_o_cb_batch)\n",
        "T_c_p = pp.mat2SE3(T_c_p_batch)\n",
        "print(batch_size)\n",
        "\n",
        "# hand_eye_gt = pp.Inv(T_o_cb) * T_o_p * pp.Inv(T_c_p)\n",
        "# displacement = [hand_eye_gt[i][:3].norm().item() for i in range(batch_size)]\n",
        "\n",
        "# print(displacement,'\\n')\n",
        "# seaborn.distplot(displacement)"
      ]
    },
    {
      "cell_type": "code",
      "execution_count": 33,
      "metadata": {
        "colab": {
          "base_uri": "https://localhost:8080/"
        },
        "id": "33skIGPvAgcG",
        "outputId": "549c1692-ecde-4aee-bea1-5dcefe9b6b53"
      },
      "outputs": [],
      "source": [
        "# # test\n",
        "# batch_size = 800\n",
        "# T_o_cb_batch = np.tile(np.eye(4), [batch_size,1,1])\n",
        "# T_o_p_batch = np.tile(np.eye(4), [batch_size,1,1])\n",
        "# T_c_p_batch = np.tile(np.eye(4), [batch_size,1,1])\n",
        "# X_matrix = np.hstack((np.vstack((R.random().as_matrix(), np.zeros([1,3]))), np.ones([4,1])))\n",
        "# X_batch = np.tile(X_matrix, [batch_size,1,1])\n",
        "# X_batch[:, :3, 3] = 2.5\n",
        "\n",
        "# print(X_batch[1, :,:])\n",
        "\n",
        "# # convert to pp tensor\n",
        "# X = pp.mat2SE3(X_batch)\n",
        "# T_o_p = pp.mat2SE3(T_o_p_batch)\n",
        "# T_o_cb = pp.mat2SE3(T_o_cb_batch)\n",
        "# T_c_p = pp.mat2SE3(T_c_p_batch)\n",
        "# # print(X_batch[1,...])\n",
        "# # print(X_batch @ pp.Inv(X_batch))"
      ]
    },
    {
      "cell_type": "markdown",
      "metadata": {
        "id": "_p3m2c_51-ON"
      },
      "source": [
        "## **Optimization**"
      ]
    },
    {
      "cell_type": "code",
      "execution_count": 32,
      "metadata": {
        "id": "9GqcVTBSY-Sy"
      },
      "outputs": [],
      "source": [
        "class CamDis(nn.Module):\n",
        "    def __init__(self, hand_eye_real_6D):\n",
        "        super().__init__()\n",
        "        self.real = pp.Parameter(hand_eye_real_6D)\n",
        "\n",
        "    def forward(self, input):\n",
        "        # input hand_eye_gt\n",
        "        hand_eye_real = self.real.Exp()\n",
        "        # tmp_quats = hand_eye_real * pp.Inv(input) #?????????????????\n",
        "        tmp_quats = pp.Inv(hand_eye_real) * input \n",
        "        vec = tmp_quats.Log()\n",
        "        # t = vec[:, :3]\n",
        "        # t = torch.norm(t, dim=1)\n",
        "        # rot_vec = vec[:, 3:]\n",
        "        # rot_vec = torch.norm(rot_vec, dim=1)\n",
        "        # return t.mean() + rot_vec.mean() #+ (X.to(device)[:3] - hand_eye_real[:3]).norm()\n",
        "        # return t.norm() + (X[:3] - hand_eye_real[:3]).norm()\n",
        "        # print(vec)\n",
        "        return vec"
      ]
    },
    {
      "cell_type": "code",
      "execution_count": 33,
      "metadata": {
        "colab": {
          "base_uri": "https://localhost:8080/"
        },
        "id": "AJomeMEsVpw5",
        "outputId": "27b5ee7c-9336-48fa-ef72-316e35185c2f"
      },
      "outputs": [
        {
          "name": "stderr",
          "output_type": "stream",
          "text": [
            "/home/shc/anaconda3/envs/pytorch3d/lib/python3.9/site-packages/pypose/lietensor/lietensor.py:918: UserWarning: Tensor Shape Invalid by calling <method 'reshape' of 'torch._C._TensorBase' objects>, go to https://pypose.org/docs/main/generated/pypose.LieTensor\n",
            "  warnings.warn('Tensor Shape Invalid by calling {}, ' \\\n",
            "/home/shc/anaconda3/envs/pytorch3d/lib/python3.9/site-packages/pypose/lietensor/lietensor.py:918: UserWarning: Tensor Shape Invalid by calling <method 'view' of 'torch._C._TensorBase' objects>, go to https://pypose.org/docs/main/generated/pypose.LieTensor\n",
            "  warnings.warn('Tensor Shape Invalid by calling {}, ' \\\n"
          ]
        },
        {
          "name": "stdout",
          "output_type": "stream",
          "text": [
            "iteration=  0; camera_distance=1.744e+04\n",
            "iteration=100; camera_distance=-1.923e+03\n",
            "iteration=200; camera_distance=-1.923e+03\n",
            "iteration=300; camera_distance=-1.923e+03\n",
            "iteration=400; camera_distance=-1.923e+03\n",
            "iteration=499; camera_distance=-1.923e+03\n",
            "The final result:\n",
            " SE3Type LieTensor:\n",
            "LieTensor([  46.8181, -114.8264,  -60.7048,    0.5627,   -0.4640,    0.5558,\n",
            "              0.3988], device='cuda:0', dtype=torch.float64,\n",
            "          grad_fn=<AliasBackward0>)\n",
            "Optimization finished.\n"
          ]
        }
      ],
      "source": [
        "# hand_eye_real: the hand-eye transformation from initial calibration X\n",
        "\n",
        "hand_eye_real = X.clone().detach()\n",
        "hand_eye_real_6D = hand_eye_real.Log()\n",
        "# hand_eye_gt: the hand-eye transformation from the chain \n",
        "# hand_eye_gt = (T_o_cb)^-1 * T_o_p * (T_c_p)^-1\n",
        "hand_eye_gt = pp.Inv(T_o_cb) * T_o_p * pp.Inv(T_c_p)\n",
        "# hand_eye_inv_gt = T_c_p @ pp.Inv(T_o_p) @ T_o_cb\n",
        "hand_eye_gt = hand_eye_gt.clone().detach()\n",
        "\n",
        "\n",
        "# init the optimizer\n",
        "camera_distance = CamDis(hand_eye_real_6D).to(device)\n",
        "# input = hand_eye_gt.to(device)\n",
        "input = hand_eye_gt.to(device)\n",
        "# strategy = pp.optim.strategy.Adaptive(damping=1e-6)\n",
        "strategy = pp.optim.strategy.TrustRegion(radius=1e-3)\n",
        "optimizer = pp.optim.LM(camera_distance, strategy=strategy)\n",
        "# run the optimization\n",
        "n_iter = 500  # fix the number of iterations1\n",
        "for it in range(n_iter):\n",
        "    loss = optimizer.step(input)\n",
        "    # print(loss)\n",
        "    # # plot and print status message\n",
        "    if it % 100==0 or it==n_iter-1:\n",
        "        status = 'iteration=%3d; camera_distance=%1.3e' % (it, loss-4620)\n",
        "        print(status)\n",
        "        # print(camera_distance.real.Exp())\n",
        "    if loss < 1e-4:\n",
        "        print('Early Stopping with loss:', loss.item())\n",
        "        break\n",
        "res = camera_distance.real.Exp()\n",
        "print('The final result:\\n', res)\n",
        "print('Optimization finished.')\n"
      ]
    },
    {
      "cell_type": "code",
      "execution_count": 34,
      "metadata": {},
      "outputs": [
        {
          "name": "stdout",
          "output_type": "stream",
          "text": [
            "initial X:\n",
            " SE3Type LieTensor:\n",
            "LieTensor([  42.7467, -110.4637,  -50.3054,    0.5768,   -0.4607,    0.5456,\n",
            "              0.3967], device='cuda:0', dtype=torch.float64)\n",
            "optimization result:\n",
            " SE3Type LieTensor:\n",
            "LieTensor([  46.8181, -114.8264,  -60.7048,    0.5627,   -0.4640,    0.5558,\n",
            "              0.3988], device='cuda:0', dtype=torch.float64,\n",
            "          grad_fn=<AliasBackward0>)\n",
            "128.68623821094153\n",
            "138.06558704657687\n"
          ]
        },
        {
          "name": "stderr",
          "output_type": "stream",
          "text": [
            "/home/shc/anaconda3/envs/pytorch3d/lib/python3.9/site-packages/pypose/lietensor/lietensor.py:918: UserWarning: Tensor Shape Invalid by calling <slot wrapper '__getitem__' of 'torch._C._TensorBase' objects>, go to https://pypose.org/docs/main/generated/pypose.LieTensor\n",
            "  warnings.warn('Tensor Shape Invalid by calling {}, ' \\\n"
          ]
        }
      ],
      "source": [
        "X = X.to(device)\n",
        "\n",
        "print('initial X:\\n', X)\n",
        "print('optimization result:\\n', res)\n",
        "print(X[:3].norm().item())\n",
        "print(res[:3].norm().item())\n"
      ]
    },
    {
      "cell_type": "code",
      "execution_count": 167,
      "metadata": {},
      "outputs": [],
      "source": [
        "\n",
        "# print(pp.matrix(X),'\\n', pp.matrix(pp.Inv(res))* pp.matrix(X))\n",
        "# print(res.matrix())\n",
        "# # print(input[10].matrix())"
      ]
    },
    {
      "cell_type": "code",
      "execution_count": 28,
      "metadata": {},
      "outputs": [],
      "source": [
        "opX = res.matrix().to('cpu').detach().numpy()\n",
        "# opX = np.array([[ 6.5548e-02, -9.7166e-01,  2.2711e-01,  9.7073e+00],\n",
        "#         [ 3.0286e-01,  2.3624e-01,  9.2329e-01,  1.0783e+02],\n",
        "#         [-9.5078e-01,  8.2638e-03,  3.0977e-01,  7.9392e+01],\n",
        "#         [ 0.0000e+00,  0.0000e+00,  0.0000e+00,  1.0000e+00]])\n",
        "# opX[:3, 3] *= 1000\n",
        "# np.save('/home/shc/Desktop/data/0314/handeye_1/new_X.npy', opX)\n",
        "np.save(f'/home/shc/Twin-S/params/hand_eye_X_optimized_{date}.npy', opX)"
      ]
    }
  ],
  "metadata": {
    "accelerator": "GPU",
    "colab": {
      "collapsed_sections": [
        "nAQY4EnHmFoX",
        "om0hsJi5S6Pl",
        "rHQaC9QHs5K5"
      ],
      "provenance": []
    },
    "gpuClass": "standard",
    "kernelspec": {
      "display_name": "pytorch3d",
      "language": "python",
      "name": "python3"
    },
    "language_info": {
      "codemirror_mode": {
        "name": "ipython",
        "version": 3
      },
      "file_extension": ".py",
      "mimetype": "text/x-python",
      "name": "python",
      "nbconvert_exporter": "python",
      "pygments_lexer": "ipython3",
      "version": "3.9.16"
    },
    "vscode": {
      "interpreter": {
        "hash": "0ce49f5ef5efef132947d6c894613f203ae812a6bb9ec04c63c99638f20d472f"
      }
    }
  },
  "nbformat": 4,
  "nbformat_minor": 0
}
