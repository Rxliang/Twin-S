{
  "cells": [
    {
      "cell_type": "markdown",
      "metadata": {
        "id": "nAQY4EnHmFoX"
      },
      "source": [
        "## 0. Install and Import Modules"
      ]
    },
    {
      "cell_type": "markdown",
      "metadata": {
        "id": "WAHR1LMJmP-h"
      },
      "source": [
        "Ensure `torch` and `torchvision` are installed. If `pytorch3d` is not installed, install it using the following cell:"
      ]
    },
    {
      "cell_type": "code",
      "execution_count": null,
      "metadata": {
        "colab": {
          "base_uri": "https://localhost:8080/"
        },
        "id": "uo7a3gdImMZx",
        "outputId": "59a23be5-a181-4789-e92f-defa24475895"
      },
      "outputs": [
        {
          "name": "stdout",
          "output_type": "stream",
          "text": [
            "Looking in indexes: https://pypi.org/simple, https://us-python.pkg.dev/colab-wheels/public/simple/\n",
            "Collecting fvcore\n",
            "  Downloading fvcore-0.1.5.post20221221.tar.gz (50 kB)\n",
            "\u001b[2K     \u001b[90m━━━━━━━━━━━━━━━━━━━━━━━━━━━━━━━━━━━━━━━━\u001b[0m \u001b[32m50.2/50.2 KB\u001b[0m \u001b[31m2.9 MB/s\u001b[0m eta \u001b[36m0:00:00\u001b[0m\n",
            "\u001b[?25h  Preparing metadata (setup.py) ... \u001b[?25l\u001b[?25hdone\n",
            "Collecting iopath\n",
            "  Downloading iopath-0.1.10.tar.gz (42 kB)\n",
            "\u001b[2K     \u001b[90m━━━━━━━━━━━━━━━━━━━━━━━━━━━━━━━━━━━━━━━━\u001b[0m \u001b[32m42.2/42.2 KB\u001b[0m \u001b[31m2.7 MB/s\u001b[0m eta \u001b[36m0:00:00\u001b[0m\n",
            "\u001b[?25h  Preparing metadata (setup.py) ... \u001b[?25l\u001b[?25hdone\n",
            "Requirement already satisfied: numpy in /usr/local/lib/python3.8/dist-packages (from fvcore) (1.22.4)\n",
            "Collecting yacs>=0.1.6\n",
            "  Downloading yacs-0.1.8-py3-none-any.whl (14 kB)\n",
            "Requirement already satisfied: pyyaml>=5.1 in /usr/local/lib/python3.8/dist-packages (from fvcore) (6.0)\n",
            "Requirement already satisfied: tqdm in /usr/local/lib/python3.8/dist-packages (from fvcore) (4.64.1)\n",
            "Requirement already satisfied: termcolor>=1.1 in /usr/local/lib/python3.8/dist-packages (from fvcore) (2.2.0)\n",
            "Requirement already satisfied: Pillow in /usr/local/lib/python3.8/dist-packages (from fvcore) (8.4.0)\n",
            "Requirement already satisfied: tabulate in /usr/local/lib/python3.8/dist-packages (from fvcore) (0.8.10)\n",
            "Requirement already satisfied: typing_extensions in /usr/local/lib/python3.8/dist-packages (from iopath) (4.5.0)\n",
            "Collecting portalocker\n",
            "  Downloading portalocker-2.7.0-py2.py3-none-any.whl (15 kB)\n",
            "Building wheels for collected packages: fvcore, iopath\n",
            "  Building wheel for fvcore (setup.py) ... \u001b[?25l\u001b[?25hdone\n",
            "  Created wheel for fvcore: filename=fvcore-0.1.5.post20221221-py3-none-any.whl size=61431 sha256=2a5a735959b1ed1a5c444b3f0a8b8c4fc0d7f2c5ffc6c6c47b9fce8c6fd6784d\n",
            "  Stored in directory: /root/.cache/pip/wheels/b8/79/07/c0e9367f5b5ea325e246bd73651e8af175fabbef943043b1cc\n",
            "  Building wheel for iopath (setup.py) ... \u001b[?25l\u001b[?25hdone\n",
            "  Created wheel for iopath: filename=iopath-0.1.10-py3-none-any.whl size=31547 sha256=201007029374099283742884f8d86469d1265b3240302b52f894036335fd8d5b\n",
            "  Stored in directory: /root/.cache/pip/wheels/89/3e/24/0f349c0b2eeb6965903035f3b00dbb5c9bea437b4a2f18d82c\n",
            "Successfully built fvcore iopath\n",
            "Installing collected packages: yacs, portalocker, iopath, fvcore\n",
            "Successfully installed fvcore-0.1.5.post20221221 iopath-0.1.10 portalocker-2.7.0 yacs-0.1.8\n",
            "Looking in links: https://dl.fbaipublicfiles.com/pytorch3d/packaging/wheels/py38_cu116_pyt1131/download.html\n",
            "Collecting pytorch3d\n",
            "  Downloading https://dl.fbaipublicfiles.com/pytorch3d/packaging/wheels/py38_cu116_pyt1131/pytorch3d-0.7.2-cp38-cp38-linux_x86_64.whl (72.8 MB)\n",
            "\u001b[2K     \u001b[90m━━━━━━━━━━━━━━━━━━━━━━━━━━━━━━━━━━━━━━━━\u001b[0m \u001b[32m72.8/72.8 MB\u001b[0m \u001b[31m34.8 MB/s\u001b[0m eta \u001b[36m0:00:00\u001b[0m\n",
            "\u001b[?25hRequirement already satisfied: fvcore in /usr/local/lib/python3.8/dist-packages (from pytorch3d) (0.1.5.post20221221)\n",
            "Requirement already satisfied: iopath in /usr/local/lib/python3.8/dist-packages (from pytorch3d) (0.1.10)\n",
            "Requirement already satisfied: numpy in /usr/local/lib/python3.8/dist-packages (from fvcore->pytorch3d) (1.22.4)\n",
            "Requirement already satisfied: Pillow in /usr/local/lib/python3.8/dist-packages (from fvcore->pytorch3d) (8.4.0)\n",
            "Requirement already satisfied: yacs>=0.1.6 in /usr/local/lib/python3.8/dist-packages (from fvcore->pytorch3d) (0.1.8)\n",
            "Requirement already satisfied: pyyaml>=5.1 in /usr/local/lib/python3.8/dist-packages (from fvcore->pytorch3d) (6.0)\n",
            "Requirement already satisfied: tabulate in /usr/local/lib/python3.8/dist-packages (from fvcore->pytorch3d) (0.8.10)\n",
            "Requirement already satisfied: termcolor>=1.1 in /usr/local/lib/python3.8/dist-packages (from fvcore->pytorch3d) (2.2.0)\n",
            "Requirement already satisfied: tqdm in /usr/local/lib/python3.8/dist-packages (from fvcore->pytorch3d) (4.64.1)\n",
            "Requirement already satisfied: portalocker in /usr/local/lib/python3.8/dist-packages (from iopath->pytorch3d) (2.7.0)\n",
            "Requirement already satisfied: typing-extensions in /usr/local/lib/python3.8/dist-packages (from iopath->pytorch3d) (4.5.0)\n",
            "Installing collected packages: pytorch3d\n",
            "Successfully installed pytorch3d-0.7.2\n"
          ]
        }
      ],
      "source": [
        "# import os\n",
        "# import sys\n",
        "# import torch\n",
        "# need_pytorch3d=False\n",
        "# try:\n",
        "#     import pytorch3d\n",
        "# except ModuleNotFoundError:\n",
        "#     need_pytorch3d=True\n",
        "# if need_pytorch3d:\n",
        "#     if torch.__version__.startswith(\"1.13.\") and sys.platform.startswith(\"linux\"):\n",
        "#         # We try to install PyTorch3D via a released wheel.\n",
        "#         pyt_version_str=torch.__version__.split(\"+\")[0].replace(\".\", \"\")\n",
        "#         version_str=\"\".join([\n",
        "#             f\"py3{sys.version_info.minor}_cu\",\n",
        "#             torch.version.cuda.replace(\".\",\"\"),\n",
        "#             f\"_pyt{pyt_version_str}\"\n",
        "#         ])\n",
        "#         !pip install fvcore iopath\n",
        "#         !pip install --no-index --no-cache-dir pytorch3d -f https://dl.fbaipublicfiles.com/pytorch3d/packaging/wheels/{version_str}/download.html\n",
        "#     else:\n",
        "#         # We try to install PyTorch3D from source.\n",
        "#         !curl -LO https://github.com/NVIDIA/cub/archive/1.10.0.tar.gz\n",
        "#         !tar xzf 1.10.0.tar.gz\n",
        "#         os.environ[\"CUB_HOME\"] = os.getcwd() + \"/cub-1.10.0\"\n",
        "#         !pip install 'git+https://github.com/facebookresearch/pytorch3d.git@stable'"
      ]
    },
    {
      "cell_type": "code",
      "execution_count": null,
      "metadata": {
        "id": "UgLa7XQimFoY"
      },
      "outputs": [],
      "source": [
        "# # imports\n",
        "# import numpy as np\n",
        "# import torch\n",
        "# from pytorch3d.transforms.so3 import (\n",
        "#     so3_exp_map,\n",
        "#     so3_relative_angle,\n",
        "# )\n",
        "# from pytorch3d.transforms.se3 import (\n",
        "#     se3_exp_map,\n",
        "#     se3_log_map,\n",
        "# )\n",
        "\n",
        "# import pytorch3d.transforms as transforms\n",
        "    \n",
        "# # add path for demo utils\n",
        "# import sys\n",
        "# import os\n",
        "# sys.path.append(os.path.abspath(''))\n",
        "\n",
        "# # set for reproducibility\n",
        "# torch.manual_seed(42)\n",
        "# if torch.cuda.is_available():\n",
        "#     device = torch.device(\"cuda:0\")\n",
        "# else:\n",
        "#     device = torch.device(\"cpu\")\n",
        "#     print(\"WARNING: CPU only, this will be slow!\")"
      ]
    },
    {
      "cell_type": "markdown",
      "metadata": {
        "id": "GjJHXNjKglfN"
      },
      "source": [
        "## **Data preparation**"
      ]
    },
    {
      "cell_type": "code",
      "execution_count": null,
      "metadata": {
        "id": "p_-eCm8alLqz"
      },
      "outputs": [],
      "source": [
        "# # Load the matrices \n",
        "# T_o_cb_batch = np.load('')\n",
        "# batch_size = T_o_cb_batch.shape[0]\n",
        "# T_o_p_batch = np.load('')\n",
        "# T_c_p_batch = np.load('')\n",
        "# X_matrix = np.load('')\n",
        "# X_batch = np.tile(X_matrix, [batch_size,1,1])\n",
        "\n",
        "# # Load into torch tensor\n",
        "# X_batch = torch.tensor(X_batch)\n",
        "# T_o_p_batch = torch.tensor(T_o_p_batch)\n",
        "# T_o_cb_batch = torch.tensor(T_o_cb_batch)\n",
        "# T_c_p_batch = torch.tensor(T_c_p_batch)"
      ]
    },
    {
      "cell_type": "code",
      "execution_count": null,
      "metadata": {
        "colab": {
          "base_uri": "https://localhost:8080/"
        },
        "id": "lbh1fFj-yOs4",
        "outputId": "ba72a33c-5d29-429e-c6b7-8b69fb57a246"
      },
      "outputs": [
        {
          "name": "stdout",
          "output_type": "stream",
          "text": [
            "[[-0.49508795 -0.8619929  -0.10888599  2.        ]\n",
            " [-0.86414445  0.47551297  0.16474763  2.        ]\n",
            " [-0.09023459  0.17565779 -0.98030712  2.        ]\n",
            " [ 0.          0.          0.          1.        ]]\n"
          ]
        }
      ],
      "source": [
        "# ## test\n",
        "# from scipy.spatial.transform import Rotation as R\n",
        "\n",
        "# batch_size = 10\n",
        "# T_o_cb_batch = np.tile(np.eye(4), [batch_size,1,1])\n",
        "# T_o_p_batch = np.tile(np.eye(4), [batch_size,1,1])\n",
        "# T_c_p_batch = np.tile(np.eye(4), [batch_size,1,1])\n",
        "# X_matrix = np.hstack((np.vstack((R.random().as_matrix(), np.zeros([1,3]))), np.ones([4,1])))\n",
        "# X_batch = np.tile(X_matrix, [batch_size,1,1])\n",
        "# X_batch[:, :3, 3] = 2\n",
        "# print(X_batch[1, :,:])\n",
        "# X_batch = torch.tensor(X_batch)\n",
        "# T_o_p_batch = torch.tensor(T_o_p_batch)\n",
        "# T_o_cb_batch = torch.tensor(T_o_cb_batch)\n",
        "# T_c_p_batch = torch.tensor(T_c_p_batch)"
      ]
    },
    {
      "cell_type": "code",
      "execution_count": null,
      "metadata": {
        "id": "1vy3GDAbgpxj"
      },
      "outputs": [],
      "source": [
        "# # Create Transform3d objects from the batch of transformation matrices\n",
        "# T_o_cb = transforms.Transform3d(matrix=T_o_cb_batch, device=device)\n",
        "# X = transforms.Transform3d(matrix=X_batch, device=device)\n",
        "# T_o_p = transforms.Transform3d(matrix=T_o_p_batch, device=device)\n",
        "# T_c_p = transforms.Transform3d(matrix=T_c_p_batch, device=device)\n",
        "\n",
        "# # cam_gt: the ground truth camera pose w.r.t the optical tracker cam_gt = T_o_p * (T_c_p)^-1\n",
        "# cam_gt = T_o_cb.compose(X)\n",
        "\n",
        "# # cam_real: the camera pose from initial hand-eye calibration cam_real = T_o_cb * X\n",
        "# cam_real = T_o_p.compose(T_c_p.inverse())"
      ]
    },
    {
      "cell_type": "markdown",
      "metadata": {
        "id": "om0hsJi5S6Pl"
      },
      "source": [
        "## **Define optimization loss function**\n",
        "\n"
      ]
    },
    {
      "cell_type": "code",
      "execution_count": null,
      "metadata": {
        "id": "pDA0vbgRSsD8"
      },
      "outputs": [],
      "source": [
        "# def camera_distance(hand_eye_real, hand_eye_gt):\n",
        "#   '''\n",
        "#   Calculate the l2 distance in se(3) manifold for the camera.\n",
        "#   distance = sum||log(hand_eye_real*hand_eye_gt)||_2\n",
        "#   '''\n",
        "\n",
        "#   # Convert a batch of 4x4 transformation matrices transform to \n",
        "#   # a batch of 6-dimensional SE(3) logarithms of the SE(3) matrices\n",
        "#   # print(hand_eye_real.compose(hand_eye_gt.inverse()).get_matrix())\n",
        "#   tmp_matrix = hand_eye_real.compose(hand_eye_gt.inverse()).get_matrix()\n",
        "#   vec = se3_log_map(tmp_matrix.permute(0,2,1)).sum(0)\n",
        "#   # print(torch.norm(vec))\n",
        "\n",
        "#   return torch.norm(vec)\n",
        "  \n",
        "\n",
        "# # camera_distance(cam_real, cam_gt)"
      ]
    },
    {
      "cell_type": "markdown",
      "metadata": {
        "id": "rHQaC9QHs5K5"
      },
      "source": [
        "## **Optimization**"
      ]
    },
    {
      "cell_type": "code",
      "execution_count": null,
      "metadata": {
        "colab": {
          "base_uri": "https://localhost:8080/"
        },
        "id": "STvOIf2IxfG6",
        "outputId": "0a326309-aa65-40f3-8168-a2e9df4c1655"
      },
      "outputs": [
        {
          "name": "stdout",
          "output_type": "stream",
          "text": [
            "iteration=  0; camera_distance=4.696e+01\n",
            "iteration=200; camera_distance=2.786e+01\n",
            "iteration=400; camera_distance=7.859e+00\n",
            "iteration=600; camera_distance=5.260e-04\n",
            "iteration=800; camera_distance=1.630e-02\n",
            "iteration=1000; camera_distance=7.543e-03\n",
            "iteration=1200; camera_distance=1.241e-02\n",
            "iteration=1400; camera_distance=7.818e-03\n",
            "iteration=1600; camera_distance=1.311e-02\n",
            "iteration=1800; camera_distance=3.938e-03\n",
            "iteration=1999; camera_distance=4.000e-03\n",
            "Optimization finished.\n"
          ]
        }
      ],
      "source": [
        "# # Create Transform3d objects from the batch of transformation matrices\n",
        "# T_o_cb = transforms.Transform3d(matrix=T_o_cb_batch, device=device)\n",
        "# X = transforms.Transform3d(matrix=X_batch, device=device)\n",
        "# T_o_p = transforms.Transform3d(matrix=T_o_p_batch, device=device)\n",
        "# T_c_p = transforms.Transform3d(matrix=T_c_p_batch, device=device)\n",
        "\n",
        "# # hand_eye_real: the hand-eye transformation from initial calibration X\n",
        "# hand_eye_real_6D = se3_log_map(X.get_matrix().permute(0, 2, 1))\n",
        "# hand_eye_real_6D.requires_grad = True\n",
        "\n",
        "\n",
        "# # hand_eye_gt: the hand-eye transformation from the chain \n",
        "# # hand_eye_gt = (T_o_cb)^-1 * T_o_p * (T_c_p)^-1\n",
        "# hand_eye_gt = T_o_cb.inverse().compose(T_o_p).compose(T_c_p.inverse())\n",
        "\n",
        "# # init the optimizer\n",
        "# optimizer = torch.optim.SGD([hand_eye_real_6D], lr=.001, momentum=0.9)\n",
        "\n",
        "# # run the optimization\n",
        "# n_iter = 2000  # fix the number of iterations\n",
        "# for it in range(n_iter):\n",
        "#     # re-init the optimizer gradients\n",
        "#     optimizer.zero_grad()\n",
        "\n",
        "#     # transform the 6d vector into 4x4 matrix\n",
        "#     hand_eye_real = se3_exp_map(hand_eye_real_6D).permute(0, 2, 1)\n",
        "#     hand_eye_real = transforms.Transform3d(matrix=hand_eye_real, device=device)\n",
        "\n",
        "#     # compare the composed cameras with the ground truth relative cameras\n",
        "#     # camera_distance corresponds to $d$ from the description\n",
        "#     loss = \\\n",
        "#         camera_distance(hand_eye_real, hand_eye_gt)\n",
        "#     # loss.requires_grad_(True)\n",
        "\n",
        "#     # our loss function is the camera_distance\n",
        "#     loss.backward()\n",
        "    \n",
        "#     # apply the gradients\n",
        "#     optimizer.step()\n",
        "\n",
        "#     # # plot and print status message\n",
        "#     if it % 200==0 or it==n_iter-1:\n",
        "#         status = 'iteration=%3d; camera_distance=%1.3e' % (it, loss)\n",
        "#         print(status)\n",
        "        \n",
        "# print('Optimization finished.')"
      ]
    },
    {
      "cell_type": "markdown",
      "metadata": {
        "id": "ue0Yz1ZM_bVG"
      },
      "source": [
        "## **Pypose implementation**"
      ]
    },
    {
      "cell_type": "code",
      "execution_count": null,
      "metadata": {
        "colab": {
          "base_uri": "https://localhost:8080/"
        },
        "id": "cHwar1t7_vlQ",
        "outputId": "94728a50-1b0a-4b15-d4f4-b95fb82b0e3b"
      },
      "outputs": [
        {
          "name": "stdout",
          "output_type": "stream",
          "text": [
            "Looking in indexes: https://pypi.org/simple, https://us-python.pkg.dev/colab-wheels/public/simple/\n",
            "Collecting pypose\n",
            "  Downloading pypose-0.3.1-py3-none-any.whl (95 kB)\n",
            "\u001b[2K     \u001b[90m━━━━━━━━━━━━━━━━━━━━━━━━━━━━━━━━━━━━━━━━\u001b[0m \u001b[32m95.8/95.8 KB\u001b[0m \u001b[31m10.9 MB/s\u001b[0m eta \u001b[36m0:00:00\u001b[0m\n",
            "\u001b[?25hRequirement already satisfied: torch==1.13.* in /usr/local/lib/python3.8/dist-packages (from pypose) (1.13.1+cu116)\n",
            "Requirement already satisfied: packaging in /usr/local/lib/python3.8/dist-packages (from pypose) (23.0)\n",
            "Requirement already satisfied: typing-extensions in /usr/local/lib/python3.8/dist-packages (from torch==1.13.*->pypose) (4.5.0)\n",
            "Installing collected packages: pypose\n",
            "Successfully installed pypose-0.3.1\n"
          ]
        }
      ],
      "source": [
        "# !pip install pypose"
      ]
    },
    {
      "cell_type": "code",
      "execution_count": 1,
      "metadata": {
        "id": "XHwVk3I7AJWz"
      },
      "outputs": [
        {
          "name": "stderr",
          "output_type": "stream",
          "text": [
            "/home/shc/anaconda3/envs/pytorch3d/lib/python3.9/site-packages/tqdm/auto.py:22: TqdmWarning: IProgress not found. Please update jupyter and ipywidgets. See https://ipywidgets.readthedocs.io/en/stable/user_install.html\n",
            "  from .autonotebook import tqdm as notebook_tqdm\n"
          ]
        }
      ],
      "source": [
        "import os\n",
        "import sys\n",
        "import numpy as np\n",
        "import torch, pypose as pp\n",
        "from torch import nn\n",
        "from scipy.spatial.transform import Rotation as R"
      ]
    },
    {
      "cell_type": "code",
      "execution_count": 2,
      "metadata": {
        "id": "efn4AgnkTlB3"
      },
      "outputs": [],
      "source": [
        "if torch.cuda.is_available():\n",
        "    device = torch.device(\"cuda:0\")\n",
        "else:\n",
        "    device = torch.device(\"cpu\")\n",
        "    print(\"WARNING: CPU only, this will be slow!\")"
      ]
    },
    {
      "cell_type": "markdown",
      "metadata": {
        "id": "zSkG7iFI2TAE"
      },
      "source": [
        "## **Data Preparation**"
      ]
    },
    {
      "cell_type": "code",
      "execution_count": 5,
      "metadata": {},
      "outputs": [
        {
          "name": "stdout",
          "output_type": "stream",
          "text": [
            "[287.46306079540096, 289.37015271170065, 290.8742758633388, 292.73261076181086, 293.5796410093682, 294.7381935021377, 295.65163780371245, 296.6717207639355, 296.60887942794585, 296.7720028680565, 295.78322598560777, 294.1113163891754, 292.479579375307, 291.13736352193337, 290.52611881555896, 290.49220670728005, 291.45006329538967, 292.3557645774705, 292.2122654252121, 294.00648728051505, 292.4641933640531, 293.6931333478941, 293.9162200572097, 293.8549692588349, 289.8480858806118, 287.74823788694033, 279.21396446518185, 269.8282117358135, 265.6479528302285, 255.79443880856488, 254.55568201187222, 252.22258230321665, 250.25050542213472, 244.66139490645753, 242.21454378241225, 240.05760053784599, 236.59552692660392, 235.08694196635162, 232.2532550097689, 229.77869754359227, 228.94334119619487, 226.73189780526943, 222.70302955661523, 217.71405267746792, 214.44398806207428, 211.72932159951156, 209.96437912494113, 207.25725169048124, 207.27289842786962, 203.53065319071774, 200.5994067591956, 199.6268904269826, 198.93585639989038, 199.65428020948727, 199.06286630525673, 199.41008451761576, 200.24509126777656, 201.70581115616952, 202.20090285765892, 201.98744852879537, 202.17387448095337, 203.45090769380266, 204.0254161112413, 203.70092977506215, 203.59932125441335, 204.74770004978694, 205.67375100003522, 206.98493531701274, 208.35810077833014, 209.31554867558046, 210.4311609571432, 211.99151384536358, 213.89892245989162, 215.91204065842877, 218.67313858504815, 219.36708846072867, 220.03801782993682, 220.94851987810702, 222.4668547778018, 223.76819757670603, 224.71291018072282, 226.19871063126055, 226.1801157218609, 225.17333899882917, 222.90429820207578, 220.68281295516454, 219.9841427611475, 220.3573367951645, 221.0659263577367, 221.73527457052137, 221.37602962412248, 220.66701443651013, 220.02323753042322, 219.43354837502227, 218.1619440868279, 217.61752040989018, 217.28443079507792, 216.57226799539893, 215.93648940959707, 215.02174018134346, 214.68194662532107, 214.50547684813367, 213.62524221693798, 214.79427257693476, 214.49661839685328, 214.5821061831071, 214.63161853041453, 213.6722435721114, 211.5665793581876, 208.85144062445553, 208.07253649553874, 206.12672001387904, 203.7346963656405, 202.67924580044672, 201.20014013181645, 200.71131580084514, 199.6426575297226, 199.14035028370193, 199.08167639052715, 198.10825189841464, 198.60948654689733, 198.80175288144653, 199.60226818783966, 200.00402650809949, 200.75724014274422, 201.65684251238676, 202.3068261241528, 201.72946342815544, 202.30352942193122, 202.79866708272203, 203.00954050032678, 205.14212577843543, 205.45908284235293, 206.73575280207285, 203.69283962058978, 201.93251267667293, 201.93251267667293, 201.93251267667293, 201.93251267667293, 201.93251267667293, 201.93251267667293, 201.93251267667293, 201.93251267667293, 201.93251267667293, 201.93251267667293, 201.93251267667293, 201.93251267667293, 201.93251267667293, 201.93251267667293, 201.93251267667293, 201.93251267667293, 201.93251267667293, 201.93251267667293, 201.93251267667293, 201.93251267667293, 207.81428206826573, 207.6369079571058, 208.48102634800424, 208.1781444083181, 212.7878434725129] \n",
            " [286.98301194286245, 288.7498107735326, 290.8593415193344, 292.6257768802287, 294.23844061081985, 295.318744801882, 296.51011285726133, 297.86425911961885, 298.035570243234, 297.67670124386393, 297.15755292262935, 295.4938976316471, 294.1919618151886, 292.94541158237746, 291.8283098707908, 291.5235904390279, 292.09166815180737, 293.6094144408839, 294.8582373265437, 295.0718484981601, 296.6442932623479, 297.1159732815865, 297.1689666212318, 296.45966959789655, 294.6693444277339, 287.3263655113009, 275.0989902629059, 263.99437039124564, 254.97764962225224, 251.8073732405542, 249.43851620379536, 245.8124089376847, 243.67872593179638, 242.0081697802644, 241.44431766584748, 240.4458375710339, 239.69920974632788, 237.67794706442666, 236.0672911145841, 235.60559172206717, 234.3837689753517]\n"
          ]
        }
      ],
      "source": [
        "T_c_p_batch = np.load(os.path.join(params_save_dir, 'T_c_p_opti3.npy'))\n",
        "T_c_p_batch_zed = np.load(os.path.join(params_save_dir, 'T_c_p_opti3zed.npy'))\n",
        "\n",
        "T_c_p = pp.mat2SE3(T_c_p_batch)\n",
        "T_c_p_zed = pp.mat2SE3(T_c_p_batch_zed)\n",
        "# T_c_p @ pp.Inv(T_c_p_zed)\n",
        "print([T_c_p[i][:3].norm().item() for i in range(160)],'\\n',[T_c_p_zed[i][:3].norm().item() for i in range(41)])\n",
        "# print(T_c_p_batch[0],'\\n',T_c_p_batch_zed[0])"
      ]
    },
    {
      "cell_type": "code",
      "execution_count": 337,
      "metadata": {
        "id": "PoZzXm_s2Hhi"
      },
      "outputs": [
        {
          "name": "stdout",
          "output_type": "stream",
          "text": [
            "tensor(124.2816, dtype=torch.float64)\n"
          ]
        }
      ],
      "source": [
        "# # Load the matrices\n",
        "params_save_dir = '../data/post_optimization_data/'\n",
        "T_o_cb_batch = np.load(os.path.join(params_save_dir, 'T_o_cb_opti3.npy'))[:40]\n",
        "batch_size = T_o_cb_batch.shape[0]\n",
        "T_o_p_batch = np.load(os.path.join(params_save_dir, 'T_o_p_opti3.npy'))[:40]\n",
        "T_c_p_batch = np.load(os.path.join(params_save_dir, 'T_c_p_opti3zed.npy'))[:40]\n",
        "X_matrix = np.load('../params/hand_eye_X_0220.npy')\n",
        "# X_batch = np.tile(X_matrix, [batch_size,1,1])[:40]\n",
        "\n",
        "# convert to pp tensor\n",
        "X = pp.mat2SE3(X_matrix)\n",
        "T_o_p = pp.mat2SE3(T_o_p_batch)\n",
        "T_o_cb = pp.mat2SE3(T_o_cb_batch)\n",
        "T_c_p = pp.mat2SE3(T_c_p_batch)\n",
        "\n",
        "# print(np.linalg.norm(X_batch[1, :3,3]))\n",
        "print(X[:3].norm())"
      ]
    },
    {
      "cell_type": "code",
      "execution_count": 316,
      "metadata": {
        "colab": {
          "base_uri": "https://localhost:8080/"
        },
        "id": "33skIGPvAgcG",
        "outputId": "549c1692-ecde-4aee-bea1-5dcefe9b6b53"
      },
      "outputs": [],
      "source": [
        "# # test\n",
        "# batch_size = 800\n",
        "# T_o_cb_batch = np.tile(np.eye(4), [batch_size,1,1])\n",
        "# T_o_p_batch = np.tile(np.eye(4), [batch_size,1,1])\n",
        "# T_c_p_batch = np.tile(np.eye(4), [batch_size,1,1])\n",
        "# X_matrix = np.hstack((np.vstack((R.random().as_matrix(), np.zeros([1,3]))), np.ones([4,1])))\n",
        "# X_batch = np.tile(X_matrix, [batch_size,1,1])\n",
        "# X_batch[:, :3, 3] = 2.5\n",
        "\n",
        "# print(X_batch[1, :,:])\n",
        "\n",
        "# # convert to pp tensor\n",
        "# X = pp.mat2SE3(X_batch)\n",
        "# T_o_p = pp.mat2SE3(T_o_p_batch)\n",
        "# T_o_cb = pp.mat2SE3(T_o_cb_batch)\n",
        "# T_c_p = pp.mat2SE3(T_c_p_batch)\n",
        "# # print(X_batch[1,...])\n",
        "# # print(X_batch @ pp.Inv(X_batch))"
      ]
    },
    {
      "cell_type": "markdown",
      "metadata": {
        "id": "_p3m2c_51-ON"
      },
      "source": [
        "## **Optimization**"
      ]
    },
    {
      "cell_type": "code",
      "execution_count": 330,
      "metadata": {
        "id": "9GqcVTBSY-Sy"
      },
      "outputs": [],
      "source": [
        "class CamDis(nn.Module):\n",
        "    def __init__(self, hand_eye_real_6D):\n",
        "        super().__init__()\n",
        "        self.real = pp.Parameter(hand_eye_real_6D)\n",
        "\n",
        "    def forward(self, input):\n",
        "        # input hand_eye_gt\n",
        "        hand_eye_real = self.real.Exp()\n",
        "        tmp_quats = pp.Inv(hand_eye_real) @ input\n",
        "        vec = tmp_quats.Log()\n",
        "        # print(tmp_quats[0,:3])\n",
        "        t = tmp_quats[:, :3].mean(0)/1000\n",
        "        rot_vec = vec[:, 3:].mean(0)\n",
        "        return torch.norm(rot_vec) + torch.norm(t)"
      ]
    },
    {
      "cell_type": "code",
      "execution_count": 338,
      "metadata": {},
      "outputs": [
        {
          "name": "stdout",
          "output_type": "stream",
          "text": [
            "torch.Size([40, 7])\n",
            "tensor(124.2816, dtype=torch.float64)\n",
            "[129.38696244371238, 130.31321266780967, 131.22056046503752, 130.74747792270733, 130.9355447165963, 131.28286024867333, 131.71319895265736, 132.6399798819794, 134.09888508829454, 132.12391929493606, 132.32468656156016, 131.0044475015824, 131.47318927977182, 131.74028256573393, 131.0306383172398, 131.03875688633735, 132.98470118556992, 135.0633595663894, 142.25647029408242, 144.32143905572582, 127.45192506317801, 128.32031163174082, 129.29842102438286, 131.52221597077914, 126.57259807956595, 129.78327693911316, 133.75376028836806, 132.98695228159113, 133.69253823686347, 129.79472946272367, 131.03521025844276, 130.19661757430976, 130.79871061901835, 130.30468638285464, 130.56573388299273, 129.27139947572192, 129.59650309009226, 128.0953464916919, 126.90133237520305, 128.12610845788862]\n",
            "SE3Type LieTensor:\n",
            "LieTensor([ 2.1769e+00,  6.1200e+00,  6.1419e+00,  9.9980e-01, -1.9469e-02,\n",
            "           -9.0935e-04,  4.1359e-03], dtype=torch.float64)\n",
            "SE3Type LieTensor:\n",
            "LieTensor([ 5.8788e+01,  2.2379e+02,  7.4123e+01, -2.4486e-01, -2.3783e-01,\n",
            "            9.3993e-01,  4.1359e-03], dtype=torch.float64)\n"
          ]
        }
      ],
      "source": [
        "hand_eye_gt = pp.Inv(T_o_cb) @ T_o_p @ pp.Inv(T_c_p)\n",
        "hand_eye_gt = hand_eye_gt.to('cpu')\n",
        "hand_eye_real = X\n",
        "# hand_eye_gt[:3] = hand_eye_gt[:3]/1000\n",
        "print(hand_eye_gt.shape)\n",
        "print(X[:3].norm())\n",
        "print([hand_eye_gt[i,:3].norm().item() for i in range(40)])\n",
        "print(pp.Inv(hand_eye_real)@hand_eye_gt[14])\n",
        "print(hand_eye_real@pp.Inv(hand_eye_gt[14]))\n"
      ]
    },
    {
      "cell_type": "code",
      "execution_count": 340,
      "metadata": {
        "colab": {
          "base_uri": "https://localhost:8080/"
        },
        "id": "AJomeMEsVpw5",
        "outputId": "27b5ee7c-9336-48fa-ef72-316e35185c2f"
      },
      "outputs": [
        {
          "name": "stdout",
          "output_type": "stream",
          "text": [
            "iteration=  0; camera_distance=6.522e+00\n",
            "SE3Type LieTensor:\n",
            "LieTensor([ 25.2600, 106.1567,  69.5246,   0.7311,   0.3680,  -0.4909,   0.2985],\n",
            "          device='cuda:0', dtype=torch.float64)\n",
            "iteration=  5; camera_distance=2.858e+00\n",
            "SE3Type LieTensor:\n",
            "LieTensor([ 25.2600, 106.1567,  69.5246,   0.7311,   0.3680,  -0.4909,   0.2985],\n",
            "          device='cuda:0', dtype=torch.float64)\n",
            "iteration= 10; camera_distance=2.697e+00\n",
            "SE3Type LieTensor:\n",
            "LieTensor([ 25.2600, 106.1567,  69.5246,   0.7311,   0.3680,  -0.4909,   0.2985],\n",
            "          device='cuda:0', dtype=torch.float64)\n",
            "iteration= 15; camera_distance=2.473e+00\n",
            "SE3Type LieTensor:\n",
            "LieTensor([ 25.2600, 106.1567,  69.5246,   0.7311,   0.3680,  -0.4909,   0.2985],\n",
            "          device='cuda:0', dtype=torch.float64)\n",
            "iteration= 20; camera_distance=2.373e+00\n",
            "SE3Type LieTensor:\n",
            "LieTensor([ 25.2600, 106.1567,  69.5246,   0.7311,   0.3680,  -0.4909,   0.2985],\n",
            "          device='cuda:0', dtype=torch.float64)\n",
            "iteration= 25; camera_distance=2.366e+00\n",
            "SE3Type LieTensor:\n",
            "LieTensor([ 25.2600, 106.1567,  69.5246,   0.7311,   0.3680,  -0.4909,   0.2985],\n",
            "          device='cuda:0', dtype=torch.float64)\n",
            "iteration= 30; camera_distance=2.364e+00\n",
            "SE3Type LieTensor:\n",
            "LieTensor([ 25.2600, 106.1567,  69.5246,   0.7311,   0.3680,  -0.4909,   0.2985],\n",
            "          device='cuda:0', dtype=torch.float64)\n",
            "iteration= 35; camera_distance=2.364e+00\n",
            "SE3Type LieTensor:\n",
            "LieTensor([ 25.2600, 106.1567,  69.5246,   0.7311,   0.3680,  -0.4909,   0.2985],\n",
            "          device='cuda:0', dtype=torch.float64)\n",
            "iteration= 40; camera_distance=2.364e+00\n",
            "SE3Type LieTensor:\n",
            "LieTensor([ 25.2600, 106.1567,  69.5246,   0.7311,   0.3680,  -0.4909,   0.2985],\n",
            "          device='cuda:0', dtype=torch.float64)\n",
            "iteration= 45; camera_distance=2.364e+00\n",
            "SE3Type LieTensor:\n",
            "LieTensor([ 25.2600, 106.1567,  69.5246,   0.7311,   0.3680,  -0.4909,   0.2985],\n",
            "          device='cuda:0', dtype=torch.float64)\n",
            "iteration= 50; camera_distance=2.349e+00\n",
            "SE3Type LieTensor:\n",
            "LieTensor([ 25.2600, 106.1567,  69.5246,   0.7311,   0.3680,  -0.4909,   0.2985],\n",
            "          device='cuda:0', dtype=torch.float64)\n",
            "iteration= 55; camera_distance=2.348e+00\n",
            "SE3Type LieTensor:\n",
            "LieTensor([ 25.2600, 106.1567,  69.5246,   0.7311,   0.3680,  -0.4909,   0.2985],\n",
            "          device='cuda:0', dtype=torch.float64)\n",
            "iteration= 60; camera_distance=2.348e+00\n",
            "SE3Type LieTensor:\n",
            "LieTensor([ 25.2600, 106.1567,  69.5246,   0.7311,   0.3680,  -0.4909,   0.2985],\n",
            "          device='cuda:0', dtype=torch.float64)\n",
            "iteration= 65; camera_distance=2.347e+00\n",
            "SE3Type LieTensor:\n",
            "LieTensor([ 25.2600, 106.1567,  69.5246,   0.7311,   0.3680,  -0.4909,   0.2985],\n",
            "          device='cuda:0', dtype=torch.float64)\n",
            "iteration= 70; camera_distance=2.347e+00\n",
            "SE3Type LieTensor:\n",
            "LieTensor([ 25.2600, 106.1567,  69.5246,   0.7311,   0.3680,  -0.4909,   0.2985],\n",
            "          device='cuda:0', dtype=torch.float64)\n",
            "iteration= 75; camera_distance=2.346e+00\n",
            "SE3Type LieTensor:\n",
            "LieTensor([ 25.2600, 106.1567,  69.5246,   0.7311,   0.3680,  -0.4909,   0.2985],\n",
            "          device='cuda:0', dtype=torch.float64)\n",
            "iteration= 80; camera_distance=2.346e+00\n",
            "SE3Type LieTensor:\n",
            "LieTensor([ 25.2600, 106.1567,  69.5246,   0.7311,   0.3680,  -0.4909,   0.2985],\n",
            "          device='cuda:0', dtype=torch.float64)\n",
            "iteration= 85; camera_distance=2.345e+00\n",
            "SE3Type LieTensor:\n",
            "LieTensor([ 25.2600, 106.1567,  69.5246,   0.7311,   0.3680,  -0.4909,   0.2985],\n",
            "          device='cuda:0', dtype=torch.float64)\n",
            "iteration= 90; camera_distance=2.345e+00\n",
            "SE3Type LieTensor:\n",
            "LieTensor([ 25.2600, 106.1567,  69.5246,   0.7311,   0.3680,  -0.4909,   0.2985],\n",
            "          device='cuda:0', dtype=torch.float64)\n",
            "iteration= 95; camera_distance=2.344e+00\n",
            "SE3Type LieTensor:\n",
            "LieTensor([ 25.2600, 106.1567,  69.5246,   0.7311,   0.3680,  -0.4909,   0.2985],\n",
            "          device='cuda:0', dtype=torch.float64)\n",
            "iteration=100; camera_distance=2.344e+00\n",
            "SE3Type LieTensor:\n",
            "LieTensor([ 25.2600, 106.1567,  69.5246,   0.7311,   0.3680,  -0.4909,   0.2985],\n",
            "          device='cuda:0', dtype=torch.float64)\n",
            "iteration=105; camera_distance=2.343e+00\n",
            "SE3Type LieTensor:\n",
            "LieTensor([ 25.2600, 106.1567,  69.5246,   0.7311,   0.3680,  -0.4909,   0.2985],\n",
            "          device='cuda:0', dtype=torch.float64)\n",
            "iteration=110; camera_distance=2.343e+00\n",
            "SE3Type LieTensor:\n",
            "LieTensor([ 25.2600, 106.1567,  69.5246,   0.7311,   0.3680,  -0.4909,   0.2985],\n",
            "          device='cuda:0', dtype=torch.float64)\n",
            "iteration=115; camera_distance=2.342e+00\n",
            "SE3Type LieTensor:\n",
            "LieTensor([ 25.2600, 106.1567,  69.5246,   0.7311,   0.3680,  -0.4909,   0.2985],\n",
            "          device='cuda:0', dtype=torch.float64)\n",
            "iteration=120; camera_distance=2.342e+00\n",
            "SE3Type LieTensor:\n",
            "LieTensor([ 25.2600, 106.1567,  69.5246,   0.7311,   0.3680,  -0.4909,   0.2985],\n",
            "          device='cuda:0', dtype=torch.float64)\n",
            "iteration=125; camera_distance=2.342e+00\n",
            "SE3Type LieTensor:\n",
            "LieTensor([ 25.2600, 106.1567,  69.5246,   0.7311,   0.3680,  -0.4909,   0.2985],\n",
            "          device='cuda:0', dtype=torch.float64)\n",
            "iteration=130; camera_distance=2.341e+00\n",
            "SE3Type LieTensor:\n",
            "LieTensor([ 25.2600, 106.1567,  69.5246,   0.7311,   0.3680,  -0.4909,   0.2985],\n",
            "          device='cuda:0', dtype=torch.float64)\n",
            "iteration=135; camera_distance=2.341e+00\n",
            "SE3Type LieTensor:\n",
            "LieTensor([ 25.2600, 106.1567,  69.5246,   0.7311,   0.3680,  -0.4909,   0.2985],\n",
            "          device='cuda:0', dtype=torch.float64)\n",
            "iteration=140; camera_distance=2.341e+00\n",
            "SE3Type LieTensor:\n",
            "LieTensor([ 25.2600, 106.1567,  69.5246,   0.7311,   0.3680,  -0.4909,   0.2985],\n",
            "          device='cuda:0', dtype=torch.float64)\n",
            "iteration=145; camera_distance=2.324e+00\n",
            "SE3Type LieTensor:\n",
            "LieTensor([ 25.2600, 106.1567,  69.5246,   0.7311,   0.3680,  -0.4909,   0.2985],\n",
            "          device='cuda:0', dtype=torch.float64)\n",
            "iteration=150; camera_distance=2.323e+00\n",
            "SE3Type LieTensor:\n",
            "LieTensor([ 25.2600, 106.1567,  69.5246,   0.7311,   0.3680,  -0.4909,   0.2985],\n",
            "          device='cuda:0', dtype=torch.float64)\n",
            "iteration=155; camera_distance=2.323e+00\n",
            "SE3Type LieTensor:\n",
            "LieTensor([ 25.2600, 106.1567,  69.5246,   0.7311,   0.3680,  -0.4909,   0.2985],\n",
            "          device='cuda:0', dtype=torch.float64)\n",
            "iteration=160; camera_distance=2.322e+00\n",
            "SE3Type LieTensor:\n",
            "LieTensor([ 25.2600, 106.1567,  69.5246,   0.7311,   0.3680,  -0.4909,   0.2985],\n",
            "          device='cuda:0', dtype=torch.float64)\n",
            "iteration=165; camera_distance=2.322e+00\n",
            "SE3Type LieTensor:\n",
            "LieTensor([ 25.2600, 106.1567,  69.5246,   0.7311,   0.3680,  -0.4909,   0.2985],\n",
            "          device='cuda:0', dtype=torch.float64)\n",
            "iteration=170; camera_distance=2.308e+00\n",
            "SE3Type LieTensor:\n",
            "LieTensor([ 25.2600, 106.1567,  69.5246,   0.7311,   0.3680,  -0.4909,   0.2985],\n",
            "          device='cuda:0', dtype=torch.float64)\n",
            "iteration=175; camera_distance=2.307e+00\n",
            "SE3Type LieTensor:\n",
            "LieTensor([ 25.2600, 106.1567,  69.5246,   0.7311,   0.3680,  -0.4909,   0.2985],\n",
            "          device='cuda:0', dtype=torch.float64)\n",
            "iteration=180; camera_distance=2.307e+00\n",
            "SE3Type LieTensor:\n",
            "LieTensor([ 25.2600, 106.1567,  69.5246,   0.7311,   0.3680,  -0.4909,   0.2985],\n",
            "          device='cuda:0', dtype=torch.float64)\n",
            "iteration=185; camera_distance=2.306e+00\n",
            "SE3Type LieTensor:\n",
            "LieTensor([ 25.2600, 106.1567,  69.5246,   0.7311,   0.3680,  -0.4909,   0.2985],\n",
            "          device='cuda:0', dtype=torch.float64)\n",
            "iteration=190; camera_distance=2.306e+00\n",
            "SE3Type LieTensor:\n",
            "LieTensor([ 25.2600, 106.1567,  69.5246,   0.7311,   0.3680,  -0.4909,   0.2985],\n",
            "          device='cuda:0', dtype=torch.float64)\n",
            "iteration=195; camera_distance=2.305e+00\n",
            "SE3Type LieTensor:\n",
            "LieTensor([ 25.2600, 106.1567,  69.5246,   0.7311,   0.3680,  -0.4909,   0.2985],\n",
            "          device='cuda:0', dtype=torch.float64)\n",
            "iteration=200; camera_distance=2.305e+00\n",
            "SE3Type LieTensor:\n",
            "LieTensor([ 25.2600, 106.1567,  69.5246,   0.7311,   0.3680,  -0.4909,   0.2985],\n",
            "          device='cuda:0', dtype=torch.float64)\n",
            "iteration=205; camera_distance=2.304e+00\n",
            "SE3Type LieTensor:\n",
            "LieTensor([ 25.2600, 106.1567,  69.5246,   0.7311,   0.3680,  -0.4909,   0.2985],\n",
            "          device='cuda:0', dtype=torch.float64)\n",
            "iteration=210; camera_distance=2.304e+00\n",
            "SE3Type LieTensor:\n",
            "LieTensor([ 25.2600, 106.1567,  69.5246,   0.7311,   0.3680,  -0.4909,   0.2985],\n",
            "          device='cuda:0', dtype=torch.float64)\n",
            "iteration=215; camera_distance=2.303e+00\n",
            "SE3Type LieTensor:\n",
            "LieTensor([ 25.2600, 106.1567,  69.5246,   0.7311,   0.3680,  -0.4909,   0.2985],\n",
            "          device='cuda:0', dtype=torch.float64)\n",
            "iteration=220; camera_distance=2.303e+00\n",
            "SE3Type LieTensor:\n",
            "LieTensor([ 25.2600, 106.1567,  69.5246,   0.7311,   0.3680,  -0.4909,   0.2985],\n",
            "          device='cuda:0', dtype=torch.float64)\n",
            "iteration=225; camera_distance=2.302e+00\n",
            "SE3Type LieTensor:\n",
            "LieTensor([ 25.2600, 106.1567,  69.5246,   0.7311,   0.3680,  -0.4909,   0.2985],\n",
            "          device='cuda:0', dtype=torch.float64)\n",
            "iteration=230; camera_distance=2.302e+00\n",
            "SE3Type LieTensor:\n",
            "LieTensor([ 25.2600, 106.1567,  69.5246,   0.7311,   0.3680,  -0.4909,   0.2985],\n",
            "          device='cuda:0', dtype=torch.float64)\n",
            "iteration=235; camera_distance=2.302e+00\n",
            "SE3Type LieTensor:\n",
            "LieTensor([ 25.2600, 106.1567,  69.5246,   0.7311,   0.3680,  -0.4909,   0.2985],\n",
            "          device='cuda:0', dtype=torch.float64)\n",
            "iteration=240; camera_distance=2.301e+00\n",
            "SE3Type LieTensor:\n",
            "LieTensor([ 25.2600, 106.1567,  69.5246,   0.7311,   0.3680,  -0.4909,   0.2985],\n",
            "          device='cuda:0', dtype=torch.float64)\n",
            "iteration=245; camera_distance=2.287e+00\n",
            "SE3Type LieTensor:\n",
            "LieTensor([ 25.2600, 106.1567,  69.5246,   0.7311,   0.3680,  -0.4909,   0.2985],\n",
            "          device='cuda:0', dtype=torch.float64)\n",
            "iteration=250; camera_distance=2.286e+00\n",
            "SE3Type LieTensor:\n",
            "LieTensor([ 25.2600, 106.1567,  69.5246,   0.7311,   0.3680,  -0.4909,   0.2985],\n",
            "          device='cuda:0', dtype=torch.float64)\n",
            "iteration=255; camera_distance=2.286e+00\n",
            "SE3Type LieTensor:\n",
            "LieTensor([ 25.2600, 106.1567,  69.5246,   0.7311,   0.3680,  -0.4909,   0.2985],\n",
            "          device='cuda:0', dtype=torch.float64)\n",
            "iteration=260; camera_distance=2.285e+00\n",
            "SE3Type LieTensor:\n",
            "LieTensor([ 25.2600, 106.1567,  69.5246,   0.7311,   0.3680,  -0.4909,   0.2985],\n",
            "          device='cuda:0', dtype=torch.float64)\n",
            "iteration=265; camera_distance=2.285e+00\n",
            "SE3Type LieTensor:\n",
            "LieTensor([ 25.2600, 106.1567,  69.5246,   0.7311,   0.3680,  -0.4909,   0.2985],\n",
            "          device='cuda:0', dtype=torch.float64)\n",
            "iteration=270; camera_distance=2.285e+00\n",
            "SE3Type LieTensor:\n",
            "LieTensor([ 25.2600, 106.1567,  69.5246,   0.7311,   0.3680,  -0.4909,   0.2985],\n",
            "          device='cuda:0', dtype=torch.float64)\n",
            "iteration=275; camera_distance=2.284e+00\n",
            "SE3Type LieTensor:\n",
            "LieTensor([ 25.2600, 106.1567,  69.5246,   0.7311,   0.3680,  -0.4909,   0.2985],\n",
            "          device='cuda:0', dtype=torch.float64)\n",
            "iteration=280; camera_distance=2.284e+00\n",
            "SE3Type LieTensor:\n",
            "LieTensor([ 25.2600, 106.1567,  69.5246,   0.7311,   0.3680,  -0.4909,   0.2985],\n",
            "          device='cuda:0', dtype=torch.float64)\n",
            "iteration=285; camera_distance=2.283e+00\n",
            "SE3Type LieTensor:\n",
            "LieTensor([ 25.2600, 106.1567,  69.5246,   0.7311,   0.3680,  -0.4909,   0.2985],\n",
            "          device='cuda:0', dtype=torch.float64)\n",
            "iteration=290; camera_distance=2.283e+00\n",
            "SE3Type LieTensor:\n",
            "LieTensor([ 25.2600, 106.1567,  69.5246,   0.7311,   0.3680,  -0.4909,   0.2985],\n",
            "          device='cuda:0', dtype=torch.float64)\n",
            "iteration=295; camera_distance=2.282e+00\n",
            "SE3Type LieTensor:\n",
            "LieTensor([ 25.2600, 106.1567,  69.5246,   0.7311,   0.3680,  -0.4909,   0.2985],\n",
            "          device='cuda:0', dtype=torch.float64)\n",
            "iteration=300; camera_distance=2.282e+00\n",
            "SE3Type LieTensor:\n",
            "LieTensor([ 25.2600, 106.1567,  69.5246,   0.7311,   0.3680,  -0.4909,   0.2985],\n",
            "          device='cuda:0', dtype=torch.float64)\n",
            "iteration=305; camera_distance=2.281e+00\n",
            "SE3Type LieTensor:\n",
            "LieTensor([ 25.2600, 106.1567,  69.5246,   0.7311,   0.3680,  -0.4909,   0.2985],\n",
            "          device='cuda:0', dtype=torch.float64)\n",
            "iteration=310; camera_distance=2.281e+00\n",
            "SE3Type LieTensor:\n",
            "LieTensor([ 25.2600, 106.1567,  69.5246,   0.7311,   0.3680,  -0.4909,   0.2985],\n",
            "          device='cuda:0', dtype=torch.float64)\n",
            "iteration=315; camera_distance=2.281e+00\n",
            "SE3Type LieTensor:\n",
            "LieTensor([ 25.2600, 106.1567,  69.5246,   0.7311,   0.3680,  -0.4909,   0.2985],\n",
            "          device='cuda:0', dtype=torch.float64)\n",
            "iteration=320; camera_distance=2.280e+00\n",
            "SE3Type LieTensor:\n",
            "LieTensor([ 25.2600, 106.1567,  69.5246,   0.7311,   0.3680,  -0.4909,   0.2985],\n",
            "          device='cuda:0', dtype=torch.float64)\n",
            "iteration=325; camera_distance=2.267e+00\n",
            "SE3Type LieTensor:\n",
            "LieTensor([ 25.2600, 106.1567,  69.5246,   0.7311,   0.3680,  -0.4909,   0.2985],\n",
            "          device='cuda:0', dtype=torch.float64)\n",
            "iteration=330; camera_distance=2.240e+00\n",
            "SE3Type LieTensor:\n",
            "LieTensor([ 25.2600, 106.1567,  69.5246,   0.7311,   0.3680,  -0.4909,   0.2985],\n",
            "          device='cuda:0', dtype=torch.float64)\n",
            "iteration=335; camera_distance=2.239e+00\n",
            "SE3Type LieTensor:\n",
            "LieTensor([ 25.2600, 106.1567,  69.5246,   0.7311,   0.3680,  -0.4909,   0.2985],\n",
            "          device='cuda:0', dtype=torch.float64)\n",
            "iteration=340; camera_distance=2.239e+00\n",
            "SE3Type LieTensor:\n",
            "LieTensor([ 25.2600, 106.1567,  69.5246,   0.7311,   0.3680,  -0.4909,   0.2985],\n",
            "          device='cuda:0', dtype=torch.float64)\n",
            "iteration=345; camera_distance=2.239e+00\n",
            "SE3Type LieTensor:\n",
            "LieTensor([ 25.2600, 106.1567,  69.5246,   0.7311,   0.3680,  -0.4909,   0.2985],\n",
            "          device='cuda:0', dtype=torch.float64)\n",
            "iteration=350; camera_distance=2.181e+00\n",
            "SE3Type LieTensor:\n",
            "LieTensor([ 25.2600, 106.1567,  69.5246,   0.7311,   0.3680,  -0.4909,   0.2985],\n",
            "          device='cuda:0', dtype=torch.float64)\n",
            "iteration=355; camera_distance=2.180e+00\n",
            "SE3Type LieTensor:\n",
            "LieTensor([ 25.2600, 106.1567,  69.5246,   0.7311,   0.3680,  -0.4909,   0.2985],\n",
            "          device='cuda:0', dtype=torch.float64)\n",
            "iteration=360; camera_distance=2.178e+00\n",
            "SE3Type LieTensor:\n",
            "LieTensor([ 25.2600, 106.1567,  69.5246,   0.7311,   0.3680,  -0.4909,   0.2985],\n",
            "          device='cuda:0', dtype=torch.float64)\n",
            "iteration=365; camera_distance=2.176e+00\n",
            "SE3Type LieTensor:\n",
            "LieTensor([ 25.2600, 106.1567,  69.5246,   0.7311,   0.3680,  -0.4909,   0.2985],\n",
            "          device='cuda:0', dtype=torch.float64)\n",
            "iteration=370; camera_distance=2.174e+00\n",
            "SE3Type LieTensor:\n",
            "LieTensor([ 25.2600, 106.1567,  69.5246,   0.7311,   0.3680,  -0.4909,   0.2985],\n",
            "          device='cuda:0', dtype=torch.float64)\n",
            "iteration=375; camera_distance=2.173e+00\n",
            "SE3Type LieTensor:\n",
            "LieTensor([ 25.2600, 106.1567,  69.5246,   0.7311,   0.3680,  -0.4909,   0.2985],\n",
            "          device='cuda:0', dtype=torch.float64)\n",
            "iteration=380; camera_distance=1.931e+00\n",
            "SE3Type LieTensor:\n",
            "LieTensor([ 25.2600, 106.1567,  69.5246,   0.7311,   0.3680,  -0.4909,   0.2985],\n",
            "          device='cuda:0', dtype=torch.float64)\n",
            "iteration=385; camera_distance=1.908e+00\n",
            "SE3Type LieTensor:\n",
            "LieTensor([ 25.2600, 106.1567,  69.5246,   0.7311,   0.3680,  -0.4909,   0.2985],\n",
            "          device='cuda:0', dtype=torch.float64)\n",
            "iteration=390; camera_distance=1.895e+00\n",
            "SE3Type LieTensor:\n",
            "LieTensor([ 25.2600, 106.1567,  69.5246,   0.7311,   0.3680,  -0.4909,   0.2985],\n",
            "          device='cuda:0', dtype=torch.float64)\n",
            "iteration=395; camera_distance=1.895e+00\n",
            "SE3Type LieTensor:\n",
            "LieTensor([ 25.2600, 106.1567,  69.5246,   0.7311,   0.3680,  -0.4909,   0.2985],\n",
            "          device='cuda:0', dtype=torch.float64)\n",
            "iteration=400; camera_distance=1.895e+00\n",
            "SE3Type LieTensor:\n",
            "LieTensor([ 25.2600, 106.1567,  69.5246,   0.7311,   0.3680,  -0.4909,   0.2985],\n",
            "          device='cuda:0', dtype=torch.float64)\n",
            "iteration=405; camera_distance=1.894e+00\n",
            "SE3Type LieTensor:\n",
            "LieTensor([ 25.2600, 106.1567,  69.5246,   0.7311,   0.3680,  -0.4909,   0.2985],\n",
            "          device='cuda:0', dtype=torch.float64)\n",
            "iteration=410; camera_distance=1.894e+00\n",
            "SE3Type LieTensor:\n",
            "LieTensor([ 25.2600, 106.1567,  69.5246,   0.7311,   0.3680,  -0.4909,   0.2985],\n",
            "          device='cuda:0', dtype=torch.float64)\n",
            "iteration=415; camera_distance=1.894e+00\n",
            "SE3Type LieTensor:\n",
            "LieTensor([ 25.2600, 106.1567,  69.5246,   0.7311,   0.3680,  -0.4909,   0.2985],\n",
            "          device='cuda:0', dtype=torch.float64)\n",
            "iteration=420; camera_distance=1.894e+00\n",
            "SE3Type LieTensor:\n",
            "LieTensor([ 25.2600, 106.1567,  69.5246,   0.7311,   0.3680,  -0.4909,   0.2985],\n",
            "          device='cuda:0', dtype=torch.float64)\n",
            "iteration=425; camera_distance=1.806e+00\n",
            "SE3Type LieTensor:\n",
            "LieTensor([ 25.2600, 106.1567,  69.5246,   0.7311,   0.3680,  -0.4909,   0.2985],\n",
            "          device='cuda:0', dtype=torch.float64)\n",
            "iteration=430; camera_distance=1.800e+00\n",
            "SE3Type LieTensor:\n",
            "LieTensor([ 25.2600, 106.1567,  69.5246,   0.7311,   0.3680,  -0.4909,   0.2985],\n",
            "          device='cuda:0', dtype=torch.float64)\n",
            "iteration=435; camera_distance=1.794e+00\n",
            "SE3Type LieTensor:\n",
            "LieTensor([ 25.2600, 106.1567,  69.5246,   0.7311,   0.3680,  -0.4909,   0.2985],\n",
            "          device='cuda:0', dtype=torch.float64)\n",
            "iteration=440; camera_distance=1.788e+00\n",
            "SE3Type LieTensor:\n",
            "LieTensor([ 25.2600, 106.1567,  69.5246,   0.7311,   0.3680,  -0.4909,   0.2985],\n",
            "          device='cuda:0', dtype=torch.float64)\n",
            "iteration=445; camera_distance=1.783e+00\n",
            "SE3Type LieTensor:\n",
            "LieTensor([ 25.2600, 106.1567,  69.5246,   0.7311,   0.3680,  -0.4909,   0.2985],\n",
            "          device='cuda:0', dtype=torch.float64)\n",
            "iteration=450; camera_distance=1.779e+00\n",
            "SE3Type LieTensor:\n",
            "LieTensor([ 25.2600, 106.1567,  69.5246,   0.7311,   0.3680,  -0.4909,   0.2985],\n",
            "          device='cuda:0', dtype=torch.float64)\n",
            "iteration=455; camera_distance=1.778e+00\n",
            "SE3Type LieTensor:\n",
            "LieTensor([ 25.2600, 106.1567,  69.5246,   0.7311,   0.3680,  -0.4909,   0.2985],\n",
            "          device='cuda:0', dtype=torch.float64)\n",
            "iteration=460; camera_distance=1.778e+00\n",
            "SE3Type LieTensor:\n",
            "LieTensor([ 25.2600, 106.1567,  69.5246,   0.7311,   0.3680,  -0.4909,   0.2985],\n",
            "          device='cuda:0', dtype=torch.float64)\n",
            "iteration=465; camera_distance=1.765e+00\n",
            "SE3Type LieTensor:\n",
            "LieTensor([ 25.2600, 106.1567,  69.5246,   0.7311,   0.3680,  -0.4909,   0.2985],\n",
            "          device='cuda:0', dtype=torch.float64)\n",
            "iteration=470; camera_distance=1.765e+00\n",
            "SE3Type LieTensor:\n",
            "LieTensor([ 25.2600, 106.1567,  69.5246,   0.7311,   0.3680,  -0.4909,   0.2985],\n",
            "          device='cuda:0', dtype=torch.float64)\n",
            "iteration=475; camera_distance=1.764e+00\n",
            "SE3Type LieTensor:\n",
            "LieTensor([ 25.2600, 106.1567,  69.5246,   0.7311,   0.3680,  -0.4909,   0.2985],\n",
            "          device='cuda:0', dtype=torch.float64)\n",
            "iteration=480; camera_distance=1.764e+00\n",
            "SE3Type LieTensor:\n",
            "LieTensor([ 25.2600, 106.1567,  69.5246,   0.7311,   0.3680,  -0.4909,   0.2985],\n",
            "          device='cuda:0', dtype=torch.float64)\n",
            "iteration=485; camera_distance=1.764e+00\n",
            "SE3Type LieTensor:\n",
            "LieTensor([ 25.2600, 106.1567,  69.5246,   0.7311,   0.3680,  -0.4909,   0.2985],\n",
            "          device='cuda:0', dtype=torch.float64)\n",
            "iteration=490; camera_distance=1.764e+00\n",
            "SE3Type LieTensor:\n",
            "LieTensor([ 25.2600, 106.1567,  69.5246,   0.7311,   0.3680,  -0.4909,   0.2985],\n",
            "          device='cuda:0', dtype=torch.float64)\n",
            "iteration=495; camera_distance=1.764e+00\n",
            "SE3Type LieTensor:\n",
            "LieTensor([ 25.2600, 106.1567,  69.5246,   0.7311,   0.3680,  -0.4909,   0.2985],\n",
            "          device='cuda:0', dtype=torch.float64)\n",
            "iteration=499; camera_distance=1.750e+00\n",
            "SE3Type LieTensor:\n",
            "LieTensor([ 25.2600, 106.1567,  69.5246,   0.7311,   0.3680,  -0.4909,   0.2985],\n",
            "          device='cuda:0', dtype=torch.float64)\n",
            "Optimization finished.\n"
          ]
        }
      ],
      "source": [
        "# hand_eye_real: the hand-eye transformation from initial calibration X\n",
        "\n",
        "hand_eye_real = X.clone().detach()\n",
        "hand_eye_real_6D = hand_eye_real.Log()\n",
        "\n",
        "# hand_eye_gt: the hand-eye transformation from the chain \n",
        "# hand_eye_gt = (T_o_cb)^-1 * T_o_p * (T_c_p)^-1\n",
        "hand_eye_gt = pp.Inv(T_o_cb) @ T_o_p @ pp.Inv(T_c_p)\n",
        "hand_eye_gt = hand_eye_gt.clone().detach()\n",
        "# print(np.linalg.norm(hand_eye_gt[4].matrix()[:3,3]))\n",
        "# print(np.linalg.norm(X[0].matrix()[:3,3]))\n",
        "\n",
        "# init the optimizer\n",
        "camera_distance = CamDis(hand_eye_real_6D).to(device)\n",
        "input = hand_eye_gt.to(device)\n",
        "strategy = pp.optim.strategy.Adaptive(damping=1e-6)\n",
        "optimizer = pp.optim.LM(camera_distance, strategy=strategy)\n",
        "# run the optimization\n",
        "n_iter = 500  # fix the number of iterations\n",
        "for it in range(n_iter):\n",
        "    loss = optimizer.step(input)\n",
        "    # # plot and print status message\n",
        "    if it % 5==0 or it==n_iter-1:\n",
        "        status = 'iteration=%3d; camera_distance=%1.3e' % (it, loss)\n",
        "        print(status)\n",
        "        # print(hand_eye_real_6D.Exp())\n",
        "        print(input[0])\n",
        "    if loss < 1e-6:\n",
        "        print('Early Stopping with loss:', loss.item())\n",
        "        break\n",
        "# print(pp.matrix(hand_eye_real_6D[0].Exp()))\n",
        "print('Optimization finished.')\n"
      ]
    },
    {
      "cell_type": "code",
      "execution_count": 335,
      "metadata": {},
      "outputs": [
        {
          "name": "stdout",
          "output_type": "stream",
          "text": [
            "tensor(129.3870, device='cuda:0', dtype=torch.float64)\n",
            "tensor(124.2816, device='cuda:0', dtype=torch.float64)\n",
            "tensor(50.0823, device='cuda:0', dtype=torch.float64)\n"
          ]
        }
      ],
      "source": [
        "res = hand_eye_real_6D.Exp()\n",
        "X = X.to(device)\n",
        "# print(res, X[0]@pp.Inv(res))\n",
        "print(input[0,:3].norm())\n",
        "print(X[:3].norm())\n",
        "print(hand_eye_real_6D.Exp()[:3].norm())\n"
      ]
    }
  ],
  "metadata": {
    "accelerator": "GPU",
    "colab": {
      "collapsed_sections": [
        "nAQY4EnHmFoX",
        "om0hsJi5S6Pl",
        "rHQaC9QHs5K5"
      ],
      "provenance": []
    },
    "gpuClass": "standard",
    "kernelspec": {
      "display_name": "pytorch3d",
      "language": "python",
      "name": "python3"
    },
    "language_info": {
      "codemirror_mode": {
        "name": "ipython",
        "version": 3
      },
      "file_extension": ".py",
      "mimetype": "text/x-python",
      "name": "python",
      "nbconvert_exporter": "python",
      "pygments_lexer": "ipython3",
      "version": "3.9.16"
    },
    "vscode": {
      "interpreter": {
        "hash": "0ce49f5ef5efef132947d6c894613f203ae812a6bb9ec04c63c99638f20d472f"
      }
    }
  },
  "nbformat": 4,
  "nbformat_minor": 0
}
